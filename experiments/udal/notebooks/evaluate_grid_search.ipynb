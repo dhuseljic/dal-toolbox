{
 "cells": [
  {
   "cell_type": "code",
   "execution_count": 1,
   "metadata": {},
   "outputs": [
    {
     "name": "stderr",
     "output_type": "stream",
     "text": [
      "/home/denis/miniconda3/envs/uncertainty_evaluation/lib/python3.9/site-packages/tqdm/auto.py:22: TqdmWarning: IProgress not found. Please update jupyter and ipywidgets. See https://ipywidgets.readthedocs.io/en/stable/user_install.html\n",
      "  from .autonotebook import tqdm as notebook_tqdm\n"
     ]
    }
   ],
   "source": [
    "import os\n",
    "import json\n",
    "import tqdm\n",
    "import yaml\n",
    "import pandas as pd\n",
    "\n",
    "import torch\n",
    "import numpy as np\n",
    "import matplotlib.pyplot as plt\n",
    "\n",
    "from omegaconf import OmegaConf\n",
    "from pathlib import Path\n",
    "from tqdm.auto import tqdm"
   ]
  },
  {
   "cell_type": "code",
   "execution_count": 2,
   "metadata": {},
   "outputs": [
    {
     "name": "stdout",
     "output_type": "stream",
     "text": [
      "CIFAR10\n"
     ]
    }
   ],
   "source": [
    "%%bash\n",
    "mkdir -p results\n",
    "fusermount -uz results\n",
    "sshfs compute.ies:/mnt/work/deep_al/results/udal/hparams results\n",
    "ls results"
   ]
  },
  {
   "cell_type": "code",
   "execution_count": 3,
   "metadata": {},
   "outputs": [],
   "source": [
    "def load_json(json_file):\n",
    "    with open(json_file, 'r') as f:\n",
    "        data = json.load(f)\n",
    "    return data\n",
    "\n",
    "def load_results(path):\n",
    "    path = Path(path)\n",
    "    assert path.is_dir(), 'Path does not exist.'\n",
    "        \n",
    "    results = {}\n",
    "    exp_json = path / 'results.json'\n",
    "    exp_cfg = path / '.hydra' / 'config.yaml'\n",
    "    try:\n",
    "        cfg =  OmegaConf.load(exp_cfg)\n",
    "        data = load_json(exp_json)\n",
    "    except:\n",
    "        print(f'{path} has missing results.')\n",
    "        return\n",
    "\n",
    "    results['cfg'] = cfg\n",
    "    results['results'] = data\n",
    "    return results\n"
   ]
  },
  {
   "cell_type": "code",
   "execution_count": 4,
   "metadata": {},
   "outputs": [
    {
     "name": "stdout",
     "output_type": "stream",
     "text": [
      "|                   |    lr |   weight_decay |   Val Acc |   Val Acc std |   Val NLL |   Val NLL std |   Val TCE |   Val TCE std |\n",
      "|:------------------|------:|---------------:|----------:|--------------:|----------:|--------------:|----------:|--------------:|\n",
      "| lr0.001__wd0.0005 | 0.001 |         0.0005 |   56.52   |      1.34353  |  2.07962  |     0.0811032 | 0.289272  |    0.0138105  |\n",
      "| lr0.001__wd0.05   | 0.001 |         0.05   |   58.96   |      0.765768 |  1.35726  |     0.0164111 | 0.163177  |    0.00801945 |\n",
      "| lr0.01__wd0.05    | 0.01  |         0.05   |   74.9533 |      0.550715 |  0.85128  |     0.0123957 | 0.0714206 |    0.00193299 |\n",
      "| lr0.01__wd0.0005  | 0.01  |         0.0005 |   62.1    |      1.07443  |  1.99491  |     0.0320275 | 0.273112  |    0.00733282 |\n",
      "| lr0.1__wd0.005    | 0.1   |         0.005  |   72.2    |      1.0215   |  0.915496 |     0.0223846 | 0.0873935 |    0.00953427 |\n",
      "| lr0.01__wd0.005   | 0.01  |         0.005  |   64.5667 |      0.324277 |  1.27185  |     0.010722  | 0.172035  |    0.00272276 |\n",
      "| lr0.1__wd0.0005   | 0.1   |         0.0005 |   55.9333 |      2.15761  |  2.19526  |     0.0961162 | 0.295582  |    0.0130345  |\n",
      "| lr0.1__wd0.05     | 0.1   |         0.05   |   16.6667 |      4.86096  |  2.13089  |     0.12156   | 0.022282  |    0.0140851  |\n",
      "| lr0.001__wd0.005  | 0.001 |         0.005  |   55.8467 |      0.935284 |  2.00588  |     0.0607834 | 0.285851  |    0.00961659 |\n"
     ]
    }
   ],
   "source": [
    "results = {}\n",
    "root_path = Path('results/CIFAR10/resnet18/budget2000/')\n",
    "experiment_paths = root_path.glob('*')\n",
    "for exp_path in experiment_paths:\n",
    "    exp_results = []\n",
    "    for seed_exp_path in exp_path.glob('seed*'):\n",
    "        exp_results.append(load_results(seed_exp_path))\n",
    "    results[exp_path.name] = exp_results\n",
    "\n",
    "exp_metrics = {}\n",
    "for exp_name in results:\n",
    "    learning_rates = []\n",
    "    val_accs = []\n",
    "    val_nlls = []\n",
    "    val_tces = []\n",
    "\n",
    "    exp_results = results[exp_name]\n",
    "    for seed_results in exp_results:\n",
    "        train_history = seed_results['results']['train_history']\n",
    "        val_stats = seed_results['results']['val_stats']\n",
    "\n",
    "        val_accs.append(val_stats['test_acc1'])\n",
    "        val_nlls.append(val_stats['test_nll'])\n",
    "        val_tces.append(val_stats['test_tce'])\n",
    "    weight_decay = seed_results['cfg']['model']['optimizer']['weight_decay']\n",
    "    learning_rate = seed_results['cfg']['model']['optimizer']['lr']\n",
    "    \n",
    "    exp_metrics[exp_name] = {\n",
    "        'lr': learning_rate, 'weight_decay': weight_decay,\n",
    "        'Val Acc': np.mean(val_accs), 'Val Acc std':  np.std(val_accs),\n",
    "        'Val NLL': np.mean(val_nlls), 'Val NLL std':  np.std(val_nlls),\n",
    "        'Val TCE': np.mean(val_tces), 'Val TCE std':  np.std(val_tces),\n",
    "    }\n",
    "\n",
    "df = pd.DataFrame(exp_metrics).T\n",
    "print(df.to_markdown())"
   ]
  },
  {
   "cell_type": "code",
   "execution_count": 5,
   "metadata": {},
   "outputs": [
    {
     "name": "stdout",
     "output_type": "stream",
     "text": [
      "|                   |    lr |   weight_decay |   Val Acc |   Val Acc std |   Val NLL |   Val NLL std |   Val TCE |   Val TCE std |\n",
      "|:------------------|------:|---------------:|----------:|--------------:|----------:|--------------:|----------:|--------------:|\n",
      "| lr0.01__wd0.05    | 0.01  |         0.05   |  89.76    |      0.631822 |  0.396143 |   0.0176271   | 0.0662947 |    0.0022784  |\n",
      "| lr0.1__wd0.0005   | 0.1   |         0.0005 |  91.8333  |      0.344224 |  0.305023 |   0.0201698   | 0.0424353 |    0.0024983  |\n",
      "| lr0.01__wd0.005   | 0.01  |         0.005  |  92.3133  |      0.627445 |  0.270801 |   0.0195133   | 0.0253762 |    0.00352964 |\n",
      "| lr0.001__wd0.0005 | 0.001 |         0.0005 |  85.9267  |      0.122566 |  0.647878 |   0.0194588   | 0.107333  |    0.00199614 |\n",
      "| lr0.001__wd0.05   | 0.001 |         0.05   |  91.76    |      0.31027  |  0.350146 |   0.011713    | 0.0757428 |    0.00166664 |\n",
      "| lr0.01__wd0.0005  | 0.01  |         0.0005 |  90.2467  |      0.482309 |  0.374416 |   0.0194071   | 0.055406  |    0.00293502 |\n",
      "| lr0.1__wd0.05     | 0.1   |         0.05   |   9.68667 |      0.251042 |  2.30266  |   0.000184257 | 0.0047029 |    0.00263558 |\n",
      "| lr0.001__wd0.005  | 0.001 |         0.005  |  87.2067  |      0.342671 |  0.451239 |   0.026716    | 0.0622785 |    0.00464434 |\n",
      "| lr0.1__wd0.005    | 0.1   |         0.005  |  88.8     |      0.17282  |  0.372381 |   0.015638    | 0.043636  |    0.00374914 |\n"
     ]
    }
   ],
   "source": [
    "results = {}\n",
    "root_path = Path('results/CIFAR10/resnet18/budget20000/')\n",
    "experiment_paths = root_path.glob('*')\n",
    "for exp_path in experiment_paths:\n",
    "    exp_results = []\n",
    "    for seed_exp_path in exp_path.glob('seed*'):\n",
    "        exp_results.append(load_results(seed_exp_path))\n",
    "    results[exp_path.name] = exp_results\n",
    "\n",
    "exp_metrics = {}\n",
    "for exp_name in results:\n",
    "    learning_rates = []\n",
    "    val_accs = []\n",
    "    val_nlls = []\n",
    "    val_tces = []\n",
    "\n",
    "    exp_results = results[exp_name]\n",
    "    for seed_results in exp_results:\n",
    "        train_history = seed_results['results']['train_history']\n",
    "        val_stats = seed_results['results']['val_stats']\n",
    "\n",
    "        val_accs.append(val_stats['test_acc1'])\n",
    "        val_nlls.append(val_stats['test_nll'])\n",
    "        val_tces.append(val_stats['test_tce'])\n",
    "    weight_decay = seed_results['cfg']['model']['optimizer']['weight_decay']\n",
    "    learning_rate = seed_results['cfg']['model']['optimizer']['lr']\n",
    "    \n",
    "    exp_metrics[exp_name] = {\n",
    "        'lr': learning_rate, 'weight_decay': weight_decay,\n",
    "        'Val Acc': np.mean(val_accs), 'Val Acc std':  np.std(val_accs),\n",
    "        'Val NLL': np.mean(val_nlls), 'Val NLL std':  np.std(val_nlls),\n",
    "        'Val TCE': np.mean(val_tces), 'Val TCE std':  np.std(val_tces),\n",
    "    }\n",
    "\n",
    "df = pd.DataFrame(exp_metrics).T\n",
    "print(df.to_markdown())"
   ]
  },
  {
   "cell_type": "code",
   "execution_count": null,
   "metadata": {},
   "outputs": [],
   "source": []
  }
 ],
 "metadata": {
  "kernelspec": {
   "display_name": "uncertainty_evaluation",
   "language": "python",
   "name": "python3"
  },
  "language_info": {
   "codemirror_mode": {
    "name": "ipython",
    "version": 3
   },
   "file_extension": ".py",
   "mimetype": "text/x-python",
   "name": "python",
   "nbconvert_exporter": "python",
   "pygments_lexer": "ipython3",
   "version": "3.9.13"
  },
  "orig_nbformat": 4,
  "vscode": {
   "interpreter": {
    "hash": "dfeabd65c26caef9e4834d0951a792d9f59ccda2d72b0cad1a1a6596669e4d0e"
   }
  }
 },
 "nbformat": 4,
 "nbformat_minor": 2
}
