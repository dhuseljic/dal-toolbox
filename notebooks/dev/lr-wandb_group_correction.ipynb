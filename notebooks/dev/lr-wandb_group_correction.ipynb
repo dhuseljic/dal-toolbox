{
 "cells": [
  {
   "cell_type": "code",
   "execution_count": 3,
   "metadata": {},
   "outputs": [],
   "source": [
    "import wandb\n",
    "api = wandb.Api()\n",
    "for r in api.runs(\"lura/active_glae\", filters={\"group\": \"distilbert_badge_distilbert\"}):\n",
    "    r.group = \"distilbert_badge_mnli\"\n",
    "    r.update()"
   ]
  },
  {
   "cell_type": "markdown",
   "metadata": {},
   "source": [
    "import wandb\n",
    "wandb.relogin()"
   ]
  },
  {
   "cell_type": "code",
   "execution_count": 1,
   "metadata": {},
   "outputs": [
    {
     "name": "stderr",
     "output_type": "stream",
     "text": [
      "Failed to detect the name of this notebook, you can set it manually with the WANDB_NOTEBOOK_NAME environment variable to enable code saving.\n",
      "\u001b[34m\u001b[1mwandb\u001b[0m: Currently logged in as: \u001b[33mlura\u001b[0m (\u001b[33mdal-nlp\u001b[0m). Use \u001b[1m`wandb login --relogin`\u001b[0m to force relogin\n"
     ]
    },
    {
     "data": {
      "text/html": [
       "Tracking run with wandb version 0.13.9"
      ],
      "text/plain": [
       "<IPython.core.display.HTML object>"
      ]
     },
     "metadata": {},
     "output_type": "display_data"
    },
    {
     "data": {
      "text/html": [
       "Run data is saved locally in <code>/home/lukas/projects/uncertainty-evaluation/experiments/notebooks/dev/wandb/run-20230124_135321-kvuw9ma6</code>"
      ],
      "text/plain": [
       "<IPython.core.display.HTML object>"
      ]
     },
     "metadata": {},
     "output_type": "display_data"
    },
    {
     "data": {
      "text/html": [
       "Syncing run <strong><a href=\"https://wandb.ai/dal-nlp/active-glae/runs/kvuw9ma6\" target=\"_blank\">brilliant-springroll-1</a></strong> to <a href=\"https://wandb.ai/dal-nlp/active-glae\" target=\"_blank\">Weights & Biases</a> (<a href=\"https://wandb.me/run\" target=\"_blank\">docs</a>)<br/>"
      ],
      "text/plain": [
       "<IPython.core.display.HTML object>"
      ]
     },
     "metadata": {},
     "output_type": "display_data"
    },
    {
     "data": {
      "text/html": [
       " View project at <a href=\"https://wandb.ai/dal-nlp/active-glae\" target=\"_blank\">https://wandb.ai/dal-nlp/active-glae</a>"
      ],
      "text/plain": [
       "<IPython.core.display.HTML object>"
      ]
     },
     "metadata": {},
     "output_type": "display_data"
    },
    {
     "data": {
      "text/html": [
       " View run at <a href=\"https://wandb.ai/dal-nlp/active-glae/runs/kvuw9ma6\" target=\"_blank\">https://wandb.ai/dal-nlp/active-glae/runs/kvuw9ma6</a>"
      ],
      "text/plain": [
       "<IPython.core.display.HTML object>"
      ]
     },
     "metadata": {},
     "output_type": "display_data"
    },
    {
     "data": {
      "text/html": [
       "Waiting for W&B process to finish... <strong style=\"color:green\">(success).</strong>"
      ],
      "text/plain": [
       "<IPython.core.display.HTML object>"
      ]
     },
     "metadata": {},
     "output_type": "display_data"
    },
    {
     "data": {
      "text/html": [
       " View run <strong style=\"color:#cdcd00\">brilliant-springroll-1</strong> at: <a href=\"https://wandb.ai/dal-nlp/active-glae/runs/kvuw9ma6\" target=\"_blank\">https://wandb.ai/dal-nlp/active-glae/runs/kvuw9ma6</a><br/>Synced 6 W&B file(s), 0 media file(s), 0 artifact file(s) and 0 other file(s)"
      ],
      "text/plain": [
       "<IPython.core.display.HTML object>"
      ]
     },
     "metadata": {},
     "output_type": "display_data"
    },
    {
     "data": {
      "text/html": [
       "Find logs at: <code>./wandb/run-20230124_135321-kvuw9ma6/logs</code>"
      ],
      "text/plain": [
       "<IPython.core.display.HTML object>"
      ]
     },
     "metadata": {},
     "output_type": "display_data"
    }
   ],
   "source": [
    "import wandb\n",
    "wandb.init(project=\"active-glae\", entity=\"dal-nlp\")\n",
    "wandb.finish()"
   ]
  },
  {
   "cell_type": "code",
   "execution_count": 4,
   "metadata": {},
   "outputs": [
    {
     "data": {
      "text/html": [
       "Waiting for W&B process to finish... <strong style=\"color:green\">(success).</strong>"
      ],
      "text/plain": [
       "<IPython.core.display.HTML object>"
      ]
     },
     "metadata": {},
     "output_type": "display_data"
    },
    {
     "name": "stderr",
     "output_type": "stream",
     "text": [
      "Thread SenderThread:\n",
      "Traceback (most recent call last):\n",
      "  File \"/home/lukas/miniconda3/envs/uncertainty_evaluation/lib/python3.9/site-packages/wandb/sdk/internal/internal_util.py\", line 49, in run\n",
      "    self._run()\n",
      "  File \"/home/lukas/miniconda3/envs/uncertainty_evaluation/lib/python3.9/site-packages/wandb/sdk/internal/internal_util.py\", line 100, in _run\n",
      "    self._process(record)\n",
      "  File \"/home/lukas/miniconda3/envs/uncertainty_evaluation/lib/python3.9/site-packages/wandb/sdk/internal/internal.py\", line 329, in _process\n",
      "    self._sm.send(record)\n",
      "  File \"/home/lukas/miniconda3/envs/uncertainty_evaluation/lib/python3.9/site-packages/wandb/sdk/internal/sender.py\", line 341, in send\n",
      "    send_handler(record)\n",
      "  File \"/home/lukas/miniconda3/envs/uncertainty_evaluation/lib/python3.9/site-packages/wandb/sdk/internal/sender.py\", line 561, in send_exit\n",
      "    self._update_summary()\n",
      "  File \"/home/lukas/miniconda3/envs/uncertainty_evaluation/lib/python3.9/site-packages/wandb/sdk/internal/sender.py\", line 1101, in _update_summary\n",
      "    with open(summary_path, \"w\") as f:\n",
      "FileNotFoundError: [Errno 2] No such file or directory: '/home/lukas/projects/uncertainty-evaluation/experiments/notebooks/dev/wandb/run-20230124_134416-bs451sjb/files/wandb-summary.json'\n",
      "wandb: ERROR Internal wandb error: file data was not synced\n",
      "\n",
      "KeyboardInterrupt\n",
      "\n"
     ]
    }
   ],
   "source": [
    "wandb.finish()"
   ]
  }
 ],
 "metadata": {
  "kernelspec": {
   "display_name": "uncertainty_evaluation",
   "language": "python",
   "name": "python3"
  },
  "language_info": {
   "codemirror_mode": {
    "name": "ipython",
    "version": 3
   },
   "file_extension": ".py",
   "mimetype": "text/x-python",
   "name": "python",
   "nbconvert_exporter": "python",
   "pygments_lexer": "ipython3",
   "version": "3.9.13 (main, Aug 25 2022, 23:26:10) \n[GCC 11.2.0]"
  },
  "orig_nbformat": 4,
  "vscode": {
   "interpreter": {
    "hash": "a137b31766c80c5452d7d9b60b414c324543bfb57a3d2aa6a963cb3743a9144f"
   }
  }
 },
 "nbformat": 4,
 "nbformat_minor": 2
}
