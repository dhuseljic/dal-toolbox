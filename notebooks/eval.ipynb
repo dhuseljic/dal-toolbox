{
 "cells": [
  {
   "cell_type": "markdown",
   "metadata": {},
   "source": [
    "# Result Notebook"
   ]
  },
  {
   "cell_type": "code",
   "execution_count": 1,
   "metadata": {},
   "outputs": [],
   "source": [
    "import json\n",
    "\n",
    "import numpy as np\n",
    "import pandas as pd\n",
    "\n",
    "from IPython.display import display\n",
    "from pathlib import Path\n",
    "from omegaconf import OmegaConf\n",
    "\n",
    "result_path = Path('../results/')"
   ]
  },
  {
   "cell_type": "code",
   "execution_count": 2,
   "metadata": {},
   "outputs": [],
   "source": [
    "# Define loading functions\n",
    "def get_experiments(result_path, glob_pattern):\n",
    "    experiments = []\n",
    "    for exp_path in result_path.glob(glob_pattern):\n",
    "\n",
    "        exp_json = exp_path / 'results_final.json'\n",
    "        exp_cfg = exp_path / '.hydra' / 'config.yaml'\n",
    "\n",
    "        try:\n",
    "            with open(exp_json, 'r') as f:\n",
    "                data = json.load(f)\n",
    "                cfg = {}  # OmegaConf.load(exp_cfg)\n",
    "\n",
    "            result_dict_final_epoch = data['test_history'][-1]\n",
    "            experiments.append({'results': result_dict_final_epoch, 'cfg': cfg})\n",
    "        except:\n",
    "            print(f'{exp_path} has missing results.')\n",
    "    return experiments\n",
    "\n",
    "def get_metric_dict(experiments, ignore_metrics=[], return_std=False):\n",
    "    metric_names = list(experiments[0]['results'].keys())\n",
    "    d = {}\n",
    "    for metric_name in metric_names:\n",
    "        if metric_name in ignore_metrics:\n",
    "            continue\n",
    "        value = np.mean([exp['results'][metric_name] for exp in experiments])\n",
    "        d[metric_name] = value\n",
    "        if return_std:\n",
    "            std = np.std([exp['results'][metric_name] for exp in experiments])\n",
    "            d[metric_name+'_std'] = std\n",
    "    return d\n",
    "# experiments = get_experiments(result_path / 'CIFAR10__resnet18', glob_pattern='seed*')\n",
    "# print(f'Found {len(experiments)} experiments')\n",
    "# get_metric_dict(experiments)"
   ]
  },
  {
   "cell_type": "markdown",
   "metadata": {},
   "source": [
    "## Results - ResNet18"
   ]
  },
  {
   "cell_type": "code",
   "execution_count": 4,
   "metadata": {},
   "outputs": [
    {
     "data": {
      "text/html": [
       "<div>\n",
       "<style scoped>\n",
       "    .dataframe tbody tr th:only-of-type {\n",
       "        vertical-align: middle;\n",
       "    }\n",
       "\n",
       "    .dataframe tbody tr th {\n",
       "        vertical-align: top;\n",
       "    }\n",
       "\n",
       "    .dataframe thead th {\n",
       "        text-align: right;\n",
       "    }\n",
       "</style>\n",
       "<table border=\"1\" class=\"dataframe\">\n",
       "  <thead>\n",
       "    <tr style=\"text-align: right;\">\n",
       "      <th></th>\n",
       "      <th>test_acc1</th>\n",
       "      <th>test_nll</th>\n",
       "      <th>test_tce</th>\n",
       "      <th>test_mce</th>\n",
       "      <th>test_SVHN_entropy_auroc</th>\n",
       "    </tr>\n",
       "  </thead>\n",
       "  <tbody>\n",
       "    <tr>\n",
       "      <th>deterministic</th>\n",
       "      <td>95.245998</td>\n",
       "      <td>0.195328</td>\n",
       "      <td>0.046620</td>\n",
       "      <td>0.021937</td>\n",
       "      <td>0.948836</td>\n",
       "    </tr>\n",
       "    <tr>\n",
       "      <th>dropout</th>\n",
       "      <td>94.523997</td>\n",
       "      <td>0.163241</td>\n",
       "      <td>0.012984</td>\n",
       "      <td>0.013530</td>\n",
       "      <td>0.937801</td>\n",
       "    </tr>\n",
       "    <tr>\n",
       "      <th>sngp</th>\n",
       "      <td>95.162000</td>\n",
       "      <td>0.167379</td>\n",
       "      <td>0.025087</td>\n",
       "      <td>0.017029</td>\n",
       "      <td>0.956285</td>\n",
       "    </tr>\n",
       "  </tbody>\n",
       "</table>\n",
       "</div>"
      ],
      "text/plain": [
       "               test_acc1  test_nll  test_tce  test_mce  \\\n",
       "deterministic  95.245998  0.195328  0.046620  0.021937   \n",
       "dropout        94.523997  0.163241  0.012984  0.013530   \n",
       "sngp           95.162000  0.167379  0.025087  0.017029   \n",
       "\n",
       "               test_SVHN_entropy_auroc  \n",
       "deterministic                 0.948836  \n",
       "dropout                       0.937801  \n",
       "sngp                          0.956285  "
      ]
     },
     "metadata": {},
     "output_type": "display_data"
    }
   ],
   "source": [
    "ignore_metrics = [\n",
    "    'test_SVHN_conf_auroc',\n",
    "    'test_SVHN_conf_aupr',\n",
    "    'test_SVHN_dempster_aupr',\n",
    "    'test_SVHN_dempster_auroc',\n",
    "    'test_prec',\n",
    "    'test_loss',\n",
    "    'test_SVHN_entropy_aupr',\n",
    "]\n",
    "exp_names = {\n",
    "    'deterministic': 'CIFAR10__resnet18',\n",
    "    \"dropout\": \"CIFAR10__resnet18_mcdropout\",\n",
    "    \"sngp\": \"CIFAR10__resnet18_sngp\",\n",
    "}\n",
    "\n",
    "data = []\n",
    "for key, name in exp_names.items():\n",
    "    experiments = get_experiments(result_path / name, glob_pattern='seed*')\n",
    "    metric_dict = get_metric_dict(experiments, ignore_metrics=ignore_metrics, return_std=False)\n",
    "    data.append(metric_dict)\n",
    "\n",
    "df = pd.DataFrame(data, index=exp_names.keys())\n",
    "display(df)\n",
    "# print(df.to_markdown())"
   ]
  },
  {
   "cell_type": "markdown",
   "metadata": {},
   "source": [
    "## Results - Wide-ResNet-28-10"
   ]
  },
  {
   "cell_type": "code",
   "execution_count": 3,
   "metadata": {},
   "outputs": [
    {
     "data": {
      "text/html": [
       "<div>\n",
       "<style scoped>\n",
       "    .dataframe tbody tr th:only-of-type {\n",
       "        vertical-align: middle;\n",
       "    }\n",
       "\n",
       "    .dataframe tbody tr th {\n",
       "        vertical-align: top;\n",
       "    }\n",
       "\n",
       "    .dataframe thead th {\n",
       "        text-align: right;\n",
       "    }\n",
       "</style>\n",
       "<table border=\"1\" class=\"dataframe\">\n",
       "  <thead>\n",
       "    <tr style=\"text-align: right;\">\n",
       "      <th></th>\n",
       "      <th>test_acc1</th>\n",
       "      <th>test_nll</th>\n",
       "      <th>test_tce</th>\n",
       "      <th>test_mce</th>\n",
       "      <th>test_SVHN_entropy_auroc</th>\n",
       "    </tr>\n",
       "  </thead>\n",
       "  <tbody>\n",
       "    <tr>\n",
       "      <th>deterministic</th>\n",
       "      <td>95.823997</td>\n",
       "      <td>0.169768</td>\n",
       "      <td>0.039066</td>\n",
       "      <td>0.022526</td>\n",
       "      <td>0.953189</td>\n",
       "    </tr>\n",
       "    <tr>\n",
       "      <th>dropout</th>\n",
       "      <td>96.327998</td>\n",
       "      <td>0.129223</td>\n",
       "      <td>0.014845</td>\n",
       "      <td>0.020601</td>\n",
       "      <td>0.957078</td>\n",
       "    </tr>\n",
       "    <tr>\n",
       "      <th>sngp</th>\n",
       "      <td>96.153999</td>\n",
       "      <td>0.337299</td>\n",
       "      <td>0.175229</td>\n",
       "      <td>0.067576</td>\n",
       "      <td>0.951147</td>\n",
       "    </tr>\n",
       "  </tbody>\n",
       "</table>\n",
       "</div>"
      ],
      "text/plain": [
       "               test_acc1  test_nll  test_tce  test_mce  \\\n",
       "deterministic  95.823997  0.169768  0.039066  0.022526   \n",
       "dropout        96.327998  0.129223  0.014845  0.020601   \n",
       "sngp           96.153999  0.337299  0.175229  0.067576   \n",
       "\n",
       "               test_SVHN_entropy_auroc  \n",
       "deterministic                 0.953189  \n",
       "dropout                       0.957078  \n",
       "sngp                          0.951147  "
      ]
     },
     "metadata": {},
     "output_type": "display_data"
    }
   ],
   "source": [
    "ignore_metrics = [\n",
    "    'test_SVHN_conf_auroc',\n",
    "    'test_SVHN_conf_aupr',\n",
    "    'test_SVHN_dempster_aupr',\n",
    "    'test_SVHN_dempster_auroc',\n",
    "    'test_prec',\n",
    "    'test_loss',\n",
    "    'test_SVHN_entropy_aupr',\n",
    "]\n",
    "exp_names = {\n",
    "    'deterministic': 'CIFAR10__wideresnet2810',\n",
    "    \"dropout\": \"CIFAR10__wideresnet2810_mcdropout\",\n",
    "    \"sngp\": \"CIFAR10__wideresnet2810_sngp\",\n",
    "}\n",
    "\n",
    "data = []\n",
    "for key, name in exp_names.items():\n",
    "    experiments = get_experiments(result_path / name, glob_pattern='seed*')\n",
    "    metric_dict = get_metric_dict(experiments, ignore_metrics=ignore_metrics, return_std=False)\n",
    "    data.append(metric_dict)\n",
    "\n",
    "df = pd.DataFrame(data, index=exp_names.keys())\n",
    "display(df)\n",
    "# print(df.to_markdown())"
   ]
  },
  {
   "cell_type": "code",
   "execution_count": null,
   "metadata": {},
   "outputs": [],
   "source": []
  }
 ],
 "metadata": {
  "kernelspec": {
   "display_name": "Python 3.9.13 ('uncertainty_evaluation')",
   "language": "python",
   "name": "python3"
  },
  "language_info": {
   "codemirror_mode": {
    "name": "ipython",
    "version": 3
   },
   "file_extension": ".py",
   "mimetype": "text/x-python",
   "name": "python",
   "nbconvert_exporter": "python",
   "pygments_lexer": "ipython3",
   "version": "3.9.13"
  },
  "orig_nbformat": 4,
  "vscode": {
   "interpreter": {
    "hash": "dfeabd65c26caef9e4834d0951a792d9f59ccda2d72b0cad1a1a6596669e4d0e"
   }
  }
 },
 "nbformat": 4,
 "nbformat_minor": 2
}
