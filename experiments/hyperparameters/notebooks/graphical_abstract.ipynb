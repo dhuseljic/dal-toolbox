{
 "cells": [
  {
   "cell_type": "code",
   "execution_count": 2,
   "metadata": {},
   "outputs": [
    {
     "name": "stderr",
     "output_type": "stream",
     "text": [
      "/home/denis/miniconda3/envs/dal-toolbox/lib/python3.9/site-packages/tqdm/auto.py:21: TqdmWarning: IProgress not found. Please update jupyter and ipywidgets. See https://ipywidgets.readthedocs.io/en/stable/user_install.html\n",
      "  from .autonotebook import tqdm as notebook_tqdm\n"
     ]
    }
   ],
   "source": [
    "# Imports\n",
    "\n",
    "import os\n",
    "import json\n",
    "import tqdm\n",
    "import yaml\n",
    "\n",
    "import torch\n",
    "import numpy as np\n",
    "import matplotlib.pyplot as plt\n",
    "\n",
    "from omegaconf import OmegaConf\n",
    "from pathlib import Path\n",
    "from tqdm.auto import tqdm"
   ]
  },
  {
   "cell_type": "code",
   "execution_count": 5,
   "metadata": {},
   "outputs": [
    {
     "name": "stdout",
     "output_type": "stream",
     "text": [
      "lr0.001_wd0.0005\n",
      "lr0.001_wd0.005\n",
      "lr0.001_wd0.05\n",
      "lr0.01_wd0.0005\n",
      "lr0.01_wd0.005\n",
      "lr0.01_wd0.05\n",
      "lr0.1_wd0.0005\n",
      "lr0.1_wd0.005\n",
      "lr0.1_wd0.05\n"
     ]
    }
   ],
   "source": [
    "%%bash\n",
    "mkdir -p results\n",
    "fusermount -uz results\n",
    "sshfs compute.ies:/mnt/work/dhuseljic/results/hyperparameters/ results\n",
    "ls results"
   ]
  },
  {
   "cell_type": "code",
   "execution_count": 8,
   "metadata": {},
   "outputs": [
    {
     "name": "stdout",
     "output_type": "stream",
     "text": [
      "dict_keys(['cycle0', 'cycle1', 'cycle2', 'cycle3', 'cycle4', 'cycle5', 'cycle6', 'cycle7', 'cycle8', 'cycle9', 'cycle10', 'cycle11', 'cycle12', 'cycle13', 'cycle14', 'cycle15', 'cycle16', 'cycle17', 'cycle18', 'cycle19', 'cycle20', 'cycle21', 'cycle22', 'cycle23', 'cycle24', 'cycle25', 'cycle26', 'cycle27', 'cycle28', 'cycle29', 'cycle30', 'cycle31', 'cycle32', 'cycle33', 'cycle34', 'cycle35', 'cycle36', 'cycle37', 'cycle38', 'cycle39'])\n"
     ]
    }
   ],
   "source": [
    "\n",
    "def load_json(json_file):\n",
    "    with open(json_file, 'r') as f:\n",
    "        data = json.load(f)\n",
    "    return data\n",
    "\n",
    "def load_results(path):\n",
    "    path = Path(path)\n",
    "    assert path.is_dir(), 'Path does not exist.'\n",
    "    exp_json = path / 'results.json'\n",
    "    results = load_json(exp_json)\n",
    "    return results\n",
    "\n",
    "def load_args(path):\n",
    "    path = Path(path)\n",
    "    assert path.is_dir(), 'Path does not exist.'\n",
    "    exp_cfg = path / '.hydra' / 'config.yaml'\n",
    "    cfg =  OmegaConf.load(exp_cfg)\n",
    "    return cfg\n",
    "\n",
    "def load_checkpoint(path, final=True):\n",
    "    path = Path(path)\n",
    "    assert path.is_dir(), 'Path does not exist.'\n",
    "    if final:\n",
    "        exp_pth = path / 'model_final.pth'\n",
    "    else:\n",
    "        exp_pth = path / 'checkpoint.pth'\n",
    "    checkpoint = torch.load(exp_pth)\n",
    "    return checkpoint\n",
    "\n",
    "def get_experiments(result_path, glob_pattern, train_results=False):\n",
    "    # Aggregate results over multiple glob pattern such as seeds\n",
    "    experiments = []\n",
    "    for exp_path in result_path.glob(glob_pattern):\n",
    "        d = load_results(exp_path)\n",
    "        experiments.append(d)\n",
    "    assert len(experiments) != 0, f'No experiments found for {result_path}.'\n",
    "    return experiments\n",
    "\n",
    "path = f'results/lr0.001_wd0.0005/'\n",
    "exp_results = get_experiments(Path(path), 'seed1')\n",
    "# metrics = get_metric_values(exp_results)\n",
    "print(exp_results[0].keys())\n",
    "# print(len(exp_results[0]['results']['train_history']))\n",
    "# print(exp_results[0]['results']['test_stats'].keys())"
   ]
  },
  {
   "cell_type": "code",
   "execution_count": 10,
   "metadata": {},
   "outputs": [
    {
     "name": "stderr",
     "output_type": "stream",
     "text": [
      "100%|██████████| 9/9 [00:26<00:00,  3.00s/it]\n"
     ]
    }
   ],
   "source": [
    "experiments = {\n",
    "    'lr=0.001 wd=0.0005': 'results/lr0.001_wd0.0005',\n",
    "    'lr=0.001 wd=0.005': 'results/lr0.001_wd0.005',\n",
    "    'lr=0.001 wd=0.05': 'results/lr0.001_wd0.05',\n",
    "    'lr=0.01 wd=0.0005': 'results/lr0.01_wd0.0005',\n",
    "    'lr=0.01 wd=0.005': 'results/lr0.01_wd0.005',\n",
    "    'lr=0.01 wd=0.05': 'results/lr0.01_wd0.05',\n",
    "    'lr=0.1 wd=0.0005': 'results/lr0.1_wd0.0005',\n",
    "    'lr=0.1 wd=0.005': 'results/lr0.1_wd0.005',\n",
    "    'lr=0.1 wd=0.05': 'results/lr0.1_wd0.05',\n",
    "}\n",
    "\n",
    "all_results = {}\n",
    "for exp_name, exp_path in tqdm(experiments.items()):\n",
    "    all_results[exp_name] = get_experiments(Path(exp_path), 'seed*')\n"
   ]
  },
  {
   "cell_type": "code",
   "execution_count": 19,
   "metadata": {},
   "outputs": [
    {
     "data": {
      "text/plain": [
       "dict_keys(['test_stats', 'labeled_indices', 'n_labeled_samples', 'unlabeled_indices', 'n_unlabeled_samples'])"
      ]
     },
     "execution_count": 19,
     "metadata": {},
     "output_type": "execute_result"
    }
   ],
   "source": [
    "all_results['lr=0.001 wd=0.0005'][0]['cycle0'].keys()"
   ]
  },
  {
   "cell_type": "code",
   "execution_count": 16,
   "metadata": {},
   "outputs": [
    {
     "ename": "KeyError",
     "evalue": "'test_stats'",
     "output_type": "error",
     "traceback": [
      "\u001b[0;31m---------------------------------------------------------------------------\u001b[0m",
      "\u001b[0;31mKeyError\u001b[0m                                  Traceback (most recent call last)",
      "Cell \u001b[0;32mIn[16], line 5\u001b[0m\n\u001b[1;32m      3\u001b[0m \u001b[39mfor\u001b[39;00m exp_name \u001b[39min\u001b[39;00m experiments:\n\u001b[1;32m      4\u001b[0m     d \u001b[39m=\u001b[39m {}\n\u001b[0;32m----> 5\u001b[0m     vals \u001b[39m=\u001b[39m [seed_results[\u001b[39m'\u001b[39m\u001b[39mtest_stats\u001b[39m\u001b[39m'\u001b[39m][\u001b[39m'\u001b[39m\u001b[39maccuracy\u001b[39m\u001b[39m'\u001b[39m] \u001b[39mfor\u001b[39;00m seed_results \u001b[39min\u001b[39;00m all_results[exp_name]]\n\u001b[1;32m      6\u001b[0m     d[\u001b[39m'\u001b[39m\u001b[39maccuracy\u001b[39m\u001b[39m'\u001b[39m] \u001b[39m=\u001b[39m np\u001b[39m.\u001b[39mmean(vals)\n\u001b[1;32m      7\u001b[0m     \u001b[39m# d[metric_key + '_std'] = np.std(vals)\u001b[39;00m\n",
      "Cell \u001b[0;32mIn[16], line 5\u001b[0m, in \u001b[0;36m<listcomp>\u001b[0;34m(.0)\u001b[0m\n\u001b[1;32m      3\u001b[0m \u001b[39mfor\u001b[39;00m exp_name \u001b[39min\u001b[39;00m experiments:\n\u001b[1;32m      4\u001b[0m     d \u001b[39m=\u001b[39m {}\n\u001b[0;32m----> 5\u001b[0m     vals \u001b[39m=\u001b[39m [seed_results[\u001b[39m'\u001b[39;49m\u001b[39mtest_stats\u001b[39;49m\u001b[39m'\u001b[39;49m][\u001b[39m'\u001b[39m\u001b[39maccuracy\u001b[39m\u001b[39m'\u001b[39m] \u001b[39mfor\u001b[39;00m seed_results \u001b[39min\u001b[39;00m all_results[exp_name]]\n\u001b[1;32m      6\u001b[0m     d[\u001b[39m'\u001b[39m\u001b[39maccuracy\u001b[39m\u001b[39m'\u001b[39m] \u001b[39m=\u001b[39m np\u001b[39m.\u001b[39mmean(vals)\n\u001b[1;32m      7\u001b[0m     \u001b[39m# d[metric_key + '_std'] = np.std(vals)\u001b[39;00m\n",
      "\u001b[0;31mKeyError\u001b[0m: 'test_stats'"
     ]
    }
   ],
   "source": [
    "learning_curves = {}\n",
    "\n",
    "for exp_name in experiments:\n",
    "    d = {}\n",
    "    vals = [seed_results['test_stats']['accuracy'] for seed_results in all_results[exp_name]]\n",
    "    d['accuracy'] = np.mean(vals)\n",
    "    # d[metric_key + '_std'] = np.std(vals)\n",
    "    result_dict[exp_name] = d\n",
    "# print(pd.DataFrame(result_dict).T.to_markdown())"
   ]
  }
 ],
 "metadata": {
  "kernelspec": {
   "display_name": "dal-toolbox",
   "language": "python",
   "name": "python3"
  },
  "language_info": {
   "codemirror_mode": {
    "name": "ipython",
    "version": 3
   },
   "file_extension": ".py",
   "mimetype": "text/x-python",
   "name": "python",
   "nbconvert_exporter": "python",
   "pygments_lexer": "ipython3",
   "version": "3.9.16"
  },
  "orig_nbformat": 4
 },
 "nbformat": 4,
 "nbformat_minor": 2
}
