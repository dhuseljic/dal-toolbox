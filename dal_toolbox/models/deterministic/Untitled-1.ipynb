{
 "cells": [
  {
   "cell_type": "code",
   "execution_count": 67,
   "metadata": {},
   "outputs": [
    {
     "name": "stdout",
     "output_type": "stream",
     "text": [
      "Files already downloaded and verified\n",
      "Files already downloaded and verified\n"
     ]
    }
   ],
   "source": [
    "import torch\n",
    "import lightning as L\n",
    "from dal_toolbox.datasets import CIFAR10\n",
    "from dal_toolbox.models.deterministic import resnet, DeterministicModel\n",
    "\n",
    "data = CIFAR10('/mnt/datasets')\n",
    "predict_loader = torch.utils.data.DataLoader(data.test_dataset, batch_size=256)\n",
    "# predict_loader = torch.utils.data.DataLoader(torch.utils.data.TensorDataset(torch.randn(10000, 3, 32, 32)), batch_size=256)\n"
   ]
  },
  {
   "cell_type": "code",
   "execution_count": 138,
   "metadata": {},
   "outputs": [],
   "source": [
    "import torch.nn.functional as F\n",
    "\n",
    "class Resnet18(resnet.ResNet18):\n",
    "    def __init__(self, num_classes):\n",
    "        super().__init__(num_classes)\n",
    "\n",
    "    def forward(self, x, return_features=False, return_grad_representations=False):\n",
    "        out = F.relu(self.bn1(self.conv1(x)))\n",
    "        out = self.layer1(out)\n",
    "        out = self.layer2(out)\n",
    "        out = self.layer3(out)\n",
    "        out = self.layer4(out)\n",
    "        out = F.avg_pool2d(out, 4)\n",
    "        out = out.view(out.size(0), -1)\n",
    "        features = out\n",
    "        out = self.linear(out)\n",
    "\n",
    "        # Optional for coreset and badge\n",
    "        out = {'logits': out}\n",
    "        if return_features:\n",
    "            out[\"features\"] = features\n",
    "        if return_grad_representations: \n",
    "            grad_embedding = self._get_grad_representation(features, out[\"logits\"])\n",
    "            out[\"grad_embedding\"] = grad_embedding\n",
    "        out = out['logits'] if len(out) == 1 else out\n",
    "\n",
    "        return out\n",
    "\n",
    "    def _get_grad_representation(self, features, logits):\n",
    "        num_samples, feature_dim = features.size()\n",
    "        probas = logits.softmax(-1)\n",
    "        class_preds = probas.argmax(-1)\n",
    "\n",
    "        grad_embedding = torch.empty([num_samples, feature_dim * self.num_classes])\n",
    "        for n in range(num_samples):\n",
    "            for c in range(self.num_classes):\n",
    "                if c == class_preds[n]:\n",
    "                    grad_embedding[n, feature_dim * c: feature_dim * (c+1)] = features[n] * (1 - probas[n, c])\n",
    "                else:\n",
    "                    grad_embedding[n, feature_dim * c: feature_dim * (c+1)] = features[n] * (-1 * probas[n, c])\n",
    "        return grad_embedding\n",
    "\n",
    "\n",
    "\n",
    "class TestModel(DeterministicModel):\n",
    "\n",
    "    def set_predict_types(self, predict_types: list):\n",
    "        self.predict_types = predict_types\n",
    "\n",
    "    \"\"\"Test Model\"\"\"\n",
    "    def predict_step(self, batch, batch_idx, dataloader_idx=0):\n",
    "        outputs = {}\n",
    "\n",
    "        # Get logits or other predict types such as representations\n",
    "        inputs = batch[0]\n",
    "        # forward_kwargs = dict(return_representations=('features' in self.predict_types))\n",
    "        forward_kwargs = dict(return_features=True, return_grad_representations=True)\n",
    "        out = self(inputs, **forward_kwargs)\n",
    "        if isinstance(out, dict):\n",
    "            outputs.update(out)\n",
    "        else:\n",
    "            logits = out\n",
    "            outputs[\"logits\"] = logits\n",
    "\n",
    "        # Add targets to outputs if present\n",
    "        if len(batch) > 1:\n",
    "            targets = batch[1]\n",
    "            outputs[\"targets\"] = targets\n",
    "\n",
    "        # Add indices to outputs if present\n",
    "        if len(batch) > 2:\n",
    "            indices = batch[2]\n",
    "            outputs[\"indices\"] = indices\n",
    "\n",
    "        outputs = {key: self._gather(val) for key, val in outputs.items()}\n",
    "        return outputs"
   ]
  },
  {
   "cell_type": "code",
   "execution_count": 142,
   "metadata": {},
   "outputs": [
    {
     "name": "stderr",
     "output_type": "stream",
     "text": [
      "GPU available: True (cuda), used: True\n",
      "TPU available: False, using: 0 TPU cores\n",
      "IPU available: False, using: 0 IPUs\n",
      "HPU available: False, using: 0 HPUs\n",
      "LOCAL_RANK: 0 - CUDA_VISIBLE_DEVICES: [0]\n",
      "/home/denis/miniconda3/envs/dal-toolbox/lib/python3.9/site-packages/lightning/pytorch/trainer/connectors/data_connector.py:430: PossibleUserWarning: The dataloader, predict_dataloader, does not have many workers which may be a bottleneck. Consider increasing the value of the `num_workers` argument` (try 16 which is the number of cpus on this machine) in the `DataLoader` init to improve performance.\n",
      "  rank_zero_warn(\n"
     ]
    },
    {
     "name": "stdout",
     "output_type": "stream",
     "text": [
      "Predicting DataLoader 0: 100%|██████████| 40/40 [00:06<00:00,  5.83it/s]\n"
     ]
    },
    {
     "data": {
      "text/plain": [
       "dict_keys(['logits', 'features', 'grad_embedding', 'targets'])"
      ]
     },
     "execution_count": 142,
     "metadata": {},
     "output_type": "execute_result"
    }
   ],
   "source": [
    "model = Resnet18(10)\n",
    "model = TestModel(model)\n",
    "model.set_predict_types(['features'])\n",
    "# model.set_predict_types(['features'])\n",
    "trainer = L.Trainer()\n",
    "predictions = trainer.predict(model, predict_loader)\n",
    "predictions[0].keys()"
   ]
  },
  {
   "cell_type": "code",
   "execution_count": 143,
   "metadata": {},
   "outputs": [
    {
     "data": {
      "text/plain": [
       "(torch.Size([10000, 512]), torch.Size([10000, 5120]))"
      ]
     },
     "execution_count": 143,
     "metadata": {},
     "output_type": "execute_result"
    }
   ],
   "source": [
    "torch.cat([pred['features'] for pred in predictions]).shape, torch.cat([pred['grad_embedding'] for pred in predictions]).shape"
   ]
  }
 ],
 "metadata": {
  "kernelspec": {
   "display_name": "dal-toolbox",
   "language": "python",
   "name": "python3"
  },
  "language_info": {
   "codemirror_mode": {
    "name": "ipython",
    "version": 3
   },
   "file_extension": ".py",
   "mimetype": "text/x-python",
   "name": "python",
   "nbconvert_exporter": "python",
   "pygments_lexer": "ipython3",
   "version": "3.9.16"
  },
  "orig_nbformat": 4
 },
 "nbformat": 4,
 "nbformat_minor": 2
}
