{
 "cells": [
  {
   "cell_type": "code",
   "execution_count": 1,
   "metadata": {},
   "outputs": [
    {
     "name": "stderr",
     "output_type": "stream",
     "text": [
      "/home/denis/miniconda3/envs/uncertainty_evaluation/lib/python3.9/site-packages/tqdm/auto.py:22: TqdmWarning: IProgress not found. Please update jupyter and ipywidgets. See https://ipywidgets.readthedocs.io/en/stable/user_install.html\n",
      "  from .autonotebook import tqdm as notebook_tqdm\n"
     ]
    }
   ],
   "source": [
    "# Imports\n",
    "\n",
    "import os\n",
    "import json\n",
    "import tqdm\n",
    "import yaml\n",
    "\n",
    "import torch\n",
    "import numpy as np\n",
    "import matplotlib.pyplot as plt\n",
    "import pandas as pd\n",
    "\n",
    "from omegaconf import OmegaConf\n",
    "from pathlib import Path\n",
    "from tqdm.auto import tqdm"
   ]
  },
  {
   "cell_type": "code",
   "execution_count": 2,
   "metadata": {},
   "outputs": [
    {
     "name": "stdout",
     "output_type": "stream",
     "text": [
      "CIFAR10\n"
     ]
    }
   ],
   "source": [
    "%%bash\n",
    "mkdir -p results\n",
    "fusermount -uz results\n",
    "sshfs compute.ies:/mnt/work/dhuseljic/results/uncertainty results\n",
    "ls results"
   ]
  },
  {
   "cell_type": "code",
   "execution_count": 3,
   "metadata": {},
   "outputs": [
    {
     "name": "stdout",
     "output_type": "stream",
     "text": [
      "dict_keys(['test_stats', 'train_history', 'test_history', 'misc'])\n",
      "200\n",
      "dict_keys(['test_acc1', 'test_prec', 'test_loss', 'test_nll', 'test_tce', 'test_mce', 'test_SVHN_entropy_auroc', 'test_SVHN_conf_auroc', 'test_SVHN_entropy_aupr', 'test_SVHN_conf_aupr'])\n"
     ]
    }
   ],
   "source": [
    "def load_json(json_file):\n",
    "    with open(json_file, 'r') as f:\n",
    "        data = json.load(f)\n",
    "    return data\n",
    "\n",
    "def load_results(path):\n",
    "    path = Path(path)\n",
    "    assert path.is_dir(), 'Path does not exist.'\n",
    "        \n",
    "    results = {}\n",
    "\n",
    "    exp_json = path / 'results_final.json'\n",
    "    exp_cfg = path / '.hydra' / 'config.yaml'\n",
    "    try:\n",
    "        cfg =  OmegaConf.load(exp_cfg)\n",
    "        data = load_json(exp_json)\n",
    "    except:\n",
    "        print(f'{path} has missing results.')\n",
    "        return\n",
    "\n",
    "    results['cfg'] = cfg\n",
    "    # results['checkpoint'] = checkpoint\n",
    "    results['results'] = data\n",
    "    return results\n",
    "\n",
    "def get_experiments(result_path, glob_pattern, train_results=False):\n",
    "    # Aggregate results over multiple glob pattern such as seeds\n",
    "    experiments = []\n",
    "    for exp_path in result_path.glob(glob_pattern):\n",
    "        d = load_results(exp_path)\n",
    "        experiments.append(d)\n",
    "    assert len(experiments) != 0, f'No experiments found for {result_path}.'\n",
    "    return experiments\n",
    "\n",
    "path = f'results/CIFAR10/resnet18/100/'\n",
    "exp_results = get_experiments(Path(path), 'seed1')\n",
    "# metrics = get_metric_values(exp_results)\n",
    "print(exp_results[0]['results'].keys())\n",
    "print(len(exp_results[0]['results']['train_history']))\n",
    "print(exp_results[0]['results']['test_stats'].keys())"
   ]
  },
  {
   "cell_type": "code",
   "execution_count": 7,
   "metadata": {},
   "outputs": [
    {
     "name": "stderr",
     "output_type": "stream",
     "text": [
      " 50%|█████     | 2/4 [00:00<00:00,  4.61it/s]"
     ]
    },
    {
     "name": "stdout",
     "output_type": "stream",
     "text": [
      "results/CIFAR10/resnet18_labelsmoothing/1000/seed3 has missing results.\n",
      "results/CIFAR10/resnet18_labelsmoothing/1000/seed2 has missing results.\n",
      "results/CIFAR10/resnet18_labelsmoothing/1000/seed1 has missing results.\n"
     ]
    },
    {
     "name": "stderr",
     "output_type": "stream",
     "text": [
      "100%|██████████| 4/4 [00:00<00:00,  6.10it/s]\n"
     ]
    }
   ],
   "source": [
    "dataset = 'CIFAR10'\n",
    "n_samples = 1000\n",
    "experiments = {}\n",
    "experiments.update({\n",
    "    'Deterministic': f'results/{dataset}/resnet18/{n_samples}',\n",
    "    'Deterministic Label Smooting alpha=.1': f'results/{dataset}/resnet18_labelsmoothing/{n_samples}',\n",
    "    'Deterministic Label Smooting alpha=.01': f'results/{dataset}/resnet18_labelsmoothing__alpha=0.01/{n_samples}',\n",
    "    'Deterministic Label Smooting alpha=.05': f'results/{dataset}/resnet18_labelsmoothing__alpha=0.05/{n_samples}',\n",
    "})\n",
    "\n",
    "\n",
    "all_results = {}\n",
    "for exp_name, exp_path in tqdm(experiments.items()):\n",
    "    all_results[exp_name] = get_experiments(Path(exp_path), 'seed*')\n"
   ]
  },
  {
   "cell_type": "code",
   "execution_count": 8,
   "metadata": {},
   "outputs": [
    {
     "ename": "TypeError",
     "evalue": "'NoneType' object is not subscriptable",
     "output_type": "error",
     "traceback": [
      "\u001b[0;31m---------------------------------------------------------------------------\u001b[0m",
      "\u001b[0;31mTypeError\u001b[0m                                 Traceback (most recent call last)",
      "\u001b[1;32m/home/denis/Documents/projects/uncertainty_evaluation/experiments/uncertainty/notebooks/evaluation.ipynb Cell 5\u001b[0m in \u001b[0;36m<cell line: 3>\u001b[0;34m()\u001b[0m\n\u001b[1;32m      <a href='vscode-notebook-cell://ssh-remote%2Bworkstation/home/denis/Documents/projects/uncertainty_evaluation/experiments/uncertainty/notebooks/evaluation.ipynb#W4sdnNjb2RlLXJlbW90ZQ%3D%3D?line=3'>4</a>\u001b[0m d \u001b[39m=\u001b[39m {}\n\u001b[1;32m      <a href='vscode-notebook-cell://ssh-remote%2Bworkstation/home/denis/Documents/projects/uncertainty_evaluation/experiments/uncertainty/notebooks/evaluation.ipynb#W4sdnNjb2RlLXJlbW90ZQ%3D%3D?line=4'>5</a>\u001b[0m \u001b[39mfor\u001b[39;00m metric_key \u001b[39min\u001b[39;00m [\u001b[39m'\u001b[39m\u001b[39mtest_acc1\u001b[39m\u001b[39m'\u001b[39m, \u001b[39m'\u001b[39m\u001b[39mtest_nll\u001b[39m\u001b[39m'\u001b[39m, \u001b[39m'\u001b[39m\u001b[39mtest_tce\u001b[39m\u001b[39m'\u001b[39m, \u001b[39m'\u001b[39m\u001b[39mtest_SVHN_entropy_aupr\u001b[39m\u001b[39m'\u001b[39m]:\n\u001b[0;32m----> <a href='vscode-notebook-cell://ssh-remote%2Bworkstation/home/denis/Documents/projects/uncertainty_evaluation/experiments/uncertainty/notebooks/evaluation.ipynb#W4sdnNjb2RlLXJlbW90ZQ%3D%3D?line=5'>6</a>\u001b[0m     vals \u001b[39m=\u001b[39m [seed_results[\u001b[39m'\u001b[39m\u001b[39mresults\u001b[39m\u001b[39m'\u001b[39m][\u001b[39m'\u001b[39m\u001b[39mtest_stats\u001b[39m\u001b[39m'\u001b[39m][metric_key] \u001b[39mfor\u001b[39;00m seed_results \u001b[39min\u001b[39;00m all_results[exp_name]]\n\u001b[1;32m      <a href='vscode-notebook-cell://ssh-remote%2Bworkstation/home/denis/Documents/projects/uncertainty_evaluation/experiments/uncertainty/notebooks/evaluation.ipynb#W4sdnNjb2RlLXJlbW90ZQ%3D%3D?line=6'>7</a>\u001b[0m     d[metric_key] \u001b[39m=\u001b[39m np\u001b[39m.\u001b[39mmean(vals)\n\u001b[1;32m      <a href='vscode-notebook-cell://ssh-remote%2Bworkstation/home/denis/Documents/projects/uncertainty_evaluation/experiments/uncertainty/notebooks/evaluation.ipynb#W4sdnNjb2RlLXJlbW90ZQ%3D%3D?line=7'>8</a>\u001b[0m result_dict[exp_name] \u001b[39m=\u001b[39m d\n",
      "\u001b[1;32m/home/denis/Documents/projects/uncertainty_evaluation/experiments/uncertainty/notebooks/evaluation.ipynb Cell 5\u001b[0m in \u001b[0;36m<listcomp>\u001b[0;34m(.0)\u001b[0m\n\u001b[1;32m      <a href='vscode-notebook-cell://ssh-remote%2Bworkstation/home/denis/Documents/projects/uncertainty_evaluation/experiments/uncertainty/notebooks/evaluation.ipynb#W4sdnNjb2RlLXJlbW90ZQ%3D%3D?line=3'>4</a>\u001b[0m d \u001b[39m=\u001b[39m {}\n\u001b[1;32m      <a href='vscode-notebook-cell://ssh-remote%2Bworkstation/home/denis/Documents/projects/uncertainty_evaluation/experiments/uncertainty/notebooks/evaluation.ipynb#W4sdnNjb2RlLXJlbW90ZQ%3D%3D?line=4'>5</a>\u001b[0m \u001b[39mfor\u001b[39;00m metric_key \u001b[39min\u001b[39;00m [\u001b[39m'\u001b[39m\u001b[39mtest_acc1\u001b[39m\u001b[39m'\u001b[39m, \u001b[39m'\u001b[39m\u001b[39mtest_nll\u001b[39m\u001b[39m'\u001b[39m, \u001b[39m'\u001b[39m\u001b[39mtest_tce\u001b[39m\u001b[39m'\u001b[39m, \u001b[39m'\u001b[39m\u001b[39mtest_SVHN_entropy_aupr\u001b[39m\u001b[39m'\u001b[39m]:\n\u001b[0;32m----> <a href='vscode-notebook-cell://ssh-remote%2Bworkstation/home/denis/Documents/projects/uncertainty_evaluation/experiments/uncertainty/notebooks/evaluation.ipynb#W4sdnNjb2RlLXJlbW90ZQ%3D%3D?line=5'>6</a>\u001b[0m     vals \u001b[39m=\u001b[39m [seed_results[\u001b[39m'\u001b[39;49m\u001b[39mresults\u001b[39;49m\u001b[39m'\u001b[39;49m][\u001b[39m'\u001b[39m\u001b[39mtest_stats\u001b[39m\u001b[39m'\u001b[39m][metric_key] \u001b[39mfor\u001b[39;00m seed_results \u001b[39min\u001b[39;00m all_results[exp_name]]\n\u001b[1;32m      <a href='vscode-notebook-cell://ssh-remote%2Bworkstation/home/denis/Documents/projects/uncertainty_evaluation/experiments/uncertainty/notebooks/evaluation.ipynb#W4sdnNjb2RlLXJlbW90ZQ%3D%3D?line=6'>7</a>\u001b[0m     d[metric_key] \u001b[39m=\u001b[39m np\u001b[39m.\u001b[39mmean(vals)\n\u001b[1;32m      <a href='vscode-notebook-cell://ssh-remote%2Bworkstation/home/denis/Documents/projects/uncertainty_evaluation/experiments/uncertainty/notebooks/evaluation.ipynb#W4sdnNjb2RlLXJlbW90ZQ%3D%3D?line=7'>8</a>\u001b[0m result_dict[exp_name] \u001b[39m=\u001b[39m d\n",
      "\u001b[0;31mTypeError\u001b[0m: 'NoneType' object is not subscriptable"
     ]
    }
   ],
   "source": [
    "result_dict = {}\n",
    "\n",
    "for exp_name in experiments:\n",
    "    d = {}\n",
    "    for metric_key in ['test_acc1', 'test_nll', 'test_tce', 'test_SVHN_entropy_aupr']:\n",
    "        vals = [seed_results['results']['test_stats'][metric_key] for seed_results in all_results[exp_name]]\n",
    "        d[metric_key] = np.mean(vals)\n",
    "    result_dict[exp_name] = d\n",
    "print(pd.DataFrame(result_dict).T.to_markdown())"
   ]
  },
  {
   "cell_type": "code",
   "execution_count": null,
   "metadata": {},
   "outputs": [],
   "source": []
  }
 ],
 "metadata": {
  "kernelspec": {
   "display_name": "uncertainty_evaluation",
   "language": "python",
   "name": "python3"
  },
  "language_info": {
   "codemirror_mode": {
    "name": "ipython",
    "version": 3
   },
   "file_extension": ".py",
   "mimetype": "text/x-python",
   "name": "python",
   "nbconvert_exporter": "python",
   "pygments_lexer": "ipython3",
   "version": "3.9.13"
  },
  "orig_nbformat": 4,
  "vscode": {
   "interpreter": {
    "hash": "dfeabd65c26caef9e4834d0951a792d9f59ccda2d72b0cad1a1a6596669e4d0e"
   }
  }
 },
 "nbformat": 4,
 "nbformat_minor": 2
}
