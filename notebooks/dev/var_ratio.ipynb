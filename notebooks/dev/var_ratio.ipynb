{
 "cells": [
  {
   "cell_type": "code",
   "execution_count": 8,
   "metadata": {},
   "outputs": [
    {
     "name": "stdout",
     "output_type": "stream",
     "text": [
      "tensor([[2, 1, 2, 1, 1],\n",
      "        [0, 1, 2, 0, 2],\n",
      "        [0, 2, 2, 2, 2],\n",
      "        [0, 2, 0, 0, 2],\n",
      "        [2, 2, 1, 0, 2],\n",
      "        [2, 1, 0, 2, 2],\n",
      "        [1, 2, 0, 0, 1],\n",
      "        [2, 2, 1, 2, 0],\n",
      "        [2, 2, 1, 2, 0],\n",
      "        [0, 0, 2, 1, 1]])\n",
      "tensor([1, 0, 2, 0, 2, 2, 0, 2, 2, 0])\n"
     ]
    },
    {
     "data": {
      "text/plain": [
       "tensor([0.4000, 0.6000, 0.2000, 0.4000, 0.4000, 0.4000, 0.6000, 0.4000, 0.4000,\n",
       "        0.6000])"
      ]
     },
     "execution_count": 8,
     "metadata": {},
     "output_type": "execute_result"
    }
   ],
   "source": [
    "import torch\n",
    "\n",
    "def variation_ratio(logits: torch.Tensor) -> torch.Tensor:\n",
    "    \"\"\"\n",
    "    Computes the variation ratio for each sample in a Bayesian model. The variation ratio is\n",
    "        the proportion of predicted class labels that are not the modal class prediction. \n",
    "        Specifically, it is computed as the number of ensemble members that give a different \n",
    "        prediction than the modal prediction, divided by the total number of ensemble members.\n",
    "\n",
    "    Args:\n",
    "        logits: A tensor of shape (n_samples, n_members, n_classes) representing the logits\n",
    "            of a Bayesian model, where n_samples is the number of input samples, n_members is\n",
    "            the number of members in the ensemble, and n_classes is the number of output classes.\n",
    "\n",
    "    Returns:\n",
    "        A tensor of shape (n_samples,) containing the variation ratio for each sample.\n",
    "\n",
    "    Raises:\n",
    "        ValueError: If logits tensor is not 3-dimensional.\n",
    "\n",
    "    \"\"\"\n",
    "    if logits.ndim != 3:\n",
    "        raise ValueError(f\"Input logits tensor must be 3-dimensional, got shape {logits.shape}\")\n",
    "    n_member = logits.size(1)\n",
    "\n",
    "    preds_classes = logits.argmax(dim=-1)\n",
    "    print(preds_classes)\n",
    "\n",
    "    # Compute the modal prediction for each sample\n",
    "    modal_preds, _ = torch.mode(preds_classes, dim=1)\n",
    "    print(modal_preds)\n",
    "\n",
    "    # Compute a binary mask indicating different predictions\n",
    "    diff_mask = (preds_classes != modal_preds.unsqueeze(dim=1))\n",
    "\n",
    "    # Compute the variation ratio\n",
    "    num_diff = torch.sum(diff_mask, dim=1)\n",
    "    var_ratio = num_diff.float() / n_member\n",
    "\n",
    "    return var_ratio\n",
    "\n",
    "torch.manual_seed(0)\n",
    "logits = torch.randn(10, 5, 3)\n",
    "variation_ratio(logits)\n"
   ]
  },
  {
   "cell_type": "code",
   "execution_count": null,
   "metadata": {},
   "outputs": [],
   "source": []
  }
 ],
 "metadata": {
  "kernelspec": {
   "display_name": "uncertainty_evaluation",
   "language": "python",
   "name": "python3"
  },
  "language_info": {
   "codemirror_mode": {
    "name": "ipython",
    "version": 3
   },
   "file_extension": ".py",
   "mimetype": "text/x-python",
   "name": "python",
   "nbconvert_exporter": "python",
   "pygments_lexer": "ipython3",
   "version": "3.9.13"
  },
  "orig_nbformat": 4,
  "vscode": {
   "interpreter": {
    "hash": "dfeabd65c26caef9e4834d0951a792d9f59ccda2d72b0cad1a1a6596669e4d0e"
   }
  }
 },
 "nbformat": 4,
 "nbformat_minor": 2
}
