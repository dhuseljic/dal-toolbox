{
 "cells": [
  {
   "cell_type": "code",
   "execution_count": 1,
   "metadata": {},
   "outputs": [],
   "source": [
    "import os\n",
    "import json\n",
    "import pandas as pd\n",
    "from tqdm.notebook import tqdm\n",
    "from pathlib import Path\n",
    "import numpy as np"
   ]
  },
  {
   "cell_type": "code",
   "execution_count": 2,
   "metadata": {},
   "outputs": [
    {
     "name": "stdout",
     "output_type": "stream",
     "text": [
      "data/badge/lr0.01_wd0.005/seed1/results.json\n",
      "data/badge/lr0.01_wd0.005/seed2/results.json\n",
      "data/badge/lr0.001_wd0.005/seed1/results.json\n",
      "data/badge/lr0.001_wd0.005/seed3/results.json\n",
      "data/badge/lr0.001_wd0.005/seed2/results.json\n",
      "data/badge/lr0.001_wd0.05/seed1/results.json\n",
      "data/badge/lr0.001_wd0.05/seed2/results.json\n",
      "data/badge/lr0.001_wd0.0005/seed1/results.json\n",
      "data/badge/lr0.001_wd0.0005/seed3/results.json\n",
      "data/badge/lr0.001_wd0.0005/seed2/results.json\n",
      "data/badge/lr0.01_wd0.0005/seed1/results.json\n",
      "data/badge/lr0.01_wd0.0005/seed3/results.json\n",
      "data/badge/lr0.01_wd0.0005/seed2/results.json\n",
      "data/badge/lr0.01_wd0.05/seed1/results.json\n",
      "data/badge/lr0.01_wd0.05/seed3/results.json\n",
      "data/badge/lr0.01_wd0.05/seed2/results.json\n",
      "data/badge/lr0.1_wd0.005/seed1/results.json\n",
      "data/badge/lr0.1_wd0.005/seed3/results.json\n",
      "data/badge/lr0.1_wd0.005/seed2/results.json\n",
      "data/badge/lr0.1_wd0.0005/seed1/results.json\n",
      "data/badge/lr0.1_wd0.0005/seed3/results.json\n",
      "data/badge/lr0.1_wd0.0005/seed2/results.json\n",
      "data/random/lr0.01_wd0.005/seed1/results.json\n",
      "data/random/lr0.01_wd0.005/seed3/results.json\n",
      "data/random/lr0.01_wd0.005/seed2/results.json\n",
      "data/random/lr0.001_wd0.005/seed1/results.json\n",
      "data/random/lr0.001_wd0.005/seed3/results.json\n",
      "data/random/lr0.001_wd0.005/seed2/results.json\n",
      "data/random/lr0.001_wd0.05/seed1/results.json\n",
      "data/random/lr0.001_wd0.05/seed3/results.json\n",
      "data/random/lr0.001_wd0.05/seed2/results.json\n",
      "data/random/lr0.001_wd0.0005/seed1/results.json\n",
      "data/random/lr0.001_wd0.0005/seed3/results.json\n",
      "data/random/lr0.001_wd0.0005/seed2/results.json\n",
      "data/random/lr0.01_wd0.0005/seed1/results.json\n",
      "data/random/lr0.01_wd0.0005/seed3/results.json\n",
      "data/random/lr0.01_wd0.0005/seed2/results.json\n",
      "data/random/lr0.01_wd0.05/seed1/results.json\n",
      "data/random/lr0.01_wd0.05/seed3/results.json\n",
      "data/random/lr0.01_wd0.05/seed2/results.json\n",
      "data/random/lr0.1_wd0.005/seed1/results.json\n",
      "data/random/lr0.1_wd0.005/seed3/results.json\n",
      "data/random/lr0.1_wd0.005/seed2/results.json\n",
      "data/random/lr0.1_wd0.05/seed1/results.json\n",
      "data/random/lr0.1_wd0.05/seed3/results.json\n",
      "data/random/lr0.1_wd0.05/seed2/results.json\n",
      "data/random/lr0.1_wd0.0005/seed1/results.json\n",
      "data/random/lr0.1_wd0.0005/seed3/results.json\n",
      "data/random/lr0.1_wd0.0005/seed2/results.json\n"
     ]
    }
   ],
   "source": [
    "root_path = Path('./data/')\n",
    "results = {}\n",
    "\n",
    "for subdir, dirs, files in os.walk(root_path):\n",
    "    for file in files:\n",
    "        if file == 'results.json':\n",
    "            print(os.path.join(subdir, file))\n",
    "            _, query, params, seed = subdir.split('/')\n",
    "            if query not in results:\n",
    "                results[query] = {}\n",
    "\n",
    "            if params not in results[query]:\n",
    "                results[query][params] = {}\n",
    "\n",
    "            with open(subdir + '/' + 'results.json', 'r') as f:\n",
    "                res = json.load(f)\n",
    "            results[query][params][seed] = res"
   ]
  },
  {
   "cell_type": "code",
   "execution_count": 3,
   "metadata": {},
   "outputs": [],
   "source": [
    "test_accuracys = {}\n",
    "\n",
    "for query in results:\n",
    "    test_accuracys[query] = {}\n",
    "    for params in results[query]:\n",
    "        test_accuracys[query][params] = []\n",
    "        for seed in results[query][params]:\n",
    "            # Find optimal run\n",
    "            best_acc = -1\n",
    "            for trial in results[query][params][seed]['ray-results']:\n",
    "                if 'test_acc' in trial['res']:\n",
    "                    if trial['res']['test_acc'] > best_acc:\n",
    "                        best_acc = trial['res']['test_acc']\n",
    "            test_accuracys[query][params].append(best_acc*100)"
   ]
  },
  {
   "cell_type": "code",
   "execution_count": 4,
   "metadata": {},
   "outputs": [
    {
     "name": "stdout",
     "output_type": "stream",
     "text": [
      "Assertion: The run with query strategy badge and parameters lr0.01_wd0.005 has not had 3 finished runs yet!\n",
      "Assertion: The run with query strategy badge and parameters lr0.001_wd0.05 has not had 3 finished runs yet!\n"
     ]
    }
   ],
   "source": [
    "# Validate that each param group has 3 finished runs\n",
    "for query in test_accuracys:\n",
    "    for params in test_accuracys[query]:\n",
    "        if len(test_accuracys[query][params]) != 3:\n",
    "            print(\"Assertion: The run with query strategy \"+str(query)+ \" and parameters \"+params+\" has not had 3 finished runs yet!\")"
   ]
  },
  {
   "cell_type": "code",
   "execution_count": 5,
   "metadata": {},
   "outputs": [
    {
     "data": {
      "text/html": [
       "<div>\n",
       "<style scoped>\n",
       "    .dataframe tbody tr th:only-of-type {\n",
       "        vertical-align: middle;\n",
       "    }\n",
       "\n",
       "    .dataframe tbody tr th {\n",
       "        vertical-align: top;\n",
       "    }\n",
       "\n",
       "    .dataframe thead th {\n",
       "        text-align: right;\n",
       "    }\n",
       "</style>\n",
       "<table border=\"1\" class=\"dataframe\">\n",
       "  <thead>\n",
       "    <tr style=\"text-align: right;\">\n",
       "      <th></th>\n",
       "      <th>badge</th>\n",
       "      <th>random</th>\n",
       "    </tr>\n",
       "  </thead>\n",
       "  <tbody>\n",
       "    <tr>\n",
       "      <th>lr0.01_wd0.005</th>\n",
       "      <td>84.66 +/- 0.22</td>\n",
       "      <td>83.4367 +/- 0.0759</td>\n",
       "    </tr>\n",
       "    <tr>\n",
       "      <th>lr0.001_wd0.005</th>\n",
       "      <td>84.4 +/- 0.1393</td>\n",
       "      <td>83.2567 +/- 0.2207</td>\n",
       "    </tr>\n",
       "    <tr>\n",
       "      <th>lr0.001_wd0.05</th>\n",
       "      <td>84.285 +/- 0.105</td>\n",
       "      <td>83.0267 +/- 0.212</td>\n",
       "    </tr>\n",
       "    <tr>\n",
       "      <th>lr0.001_wd0.0005</th>\n",
       "      <td>84.4167 +/- 0.3389</td>\n",
       "      <td>82.9567 +/- 0.0736</td>\n",
       "    </tr>\n",
       "    <tr>\n",
       "      <th>lr0.01_wd0.0005</th>\n",
       "      <td>84.58 +/- 0.2844</td>\n",
       "      <td>83.01 +/- 0.1219</td>\n",
       "    </tr>\n",
       "    <tr>\n",
       "      <th>lr0.01_wd0.05</th>\n",
       "      <td>84.0433 +/- 0.5878</td>\n",
       "      <td>83.0767 +/- 0.213</td>\n",
       "    </tr>\n",
       "    <tr>\n",
       "      <th>lr0.1_wd0.005</th>\n",
       "      <td>84.51 +/- 0.3612</td>\n",
       "      <td>83.1867 +/- 0.147</td>\n",
       "    </tr>\n",
       "    <tr>\n",
       "      <th>lr0.1_wd0.0005</th>\n",
       "      <td>84.3333 +/- 0.319</td>\n",
       "      <td>83.3267 +/- 0.1841</td>\n",
       "    </tr>\n",
       "    <tr>\n",
       "      <th>lr0.1_wd0.05</th>\n",
       "      <td>NaN</td>\n",
       "      <td>83.07 +/- 0.3982</td>\n",
       "    </tr>\n",
       "  </tbody>\n",
       "</table>\n",
       "</div>"
      ],
      "text/plain": [
       "                               badge              random\n",
       "lr0.01_wd0.005        84.66 +/- 0.22  83.4367 +/- 0.0759\n",
       "lr0.001_wd0.005      84.4 +/- 0.1393  83.2567 +/- 0.2207\n",
       "lr0.001_wd0.05      84.285 +/- 0.105   83.0267 +/- 0.212\n",
       "lr0.001_wd0.0005  84.4167 +/- 0.3389  82.9567 +/- 0.0736\n",
       "lr0.01_wd0.0005     84.58 +/- 0.2844    83.01 +/- 0.1219\n",
       "lr0.01_wd0.05     84.0433 +/- 0.5878   83.0767 +/- 0.213\n",
       "lr0.1_wd0.005       84.51 +/- 0.3612   83.1867 +/- 0.147\n",
       "lr0.1_wd0.0005     84.3333 +/- 0.319  83.3267 +/- 0.1841\n",
       "lr0.1_wd0.05                     NaN    83.07 +/- 0.3982"
      ]
     },
     "execution_count": 5,
     "metadata": {},
     "output_type": "execute_result"
    }
   ],
   "source": [
    "df = {}\n",
    "for query in test_accuracys:\n",
    "    df[query] = {}\n",
    "    for params in test_accuracys[query]:\n",
    "        df[query][params] = str(np.mean(test_accuracys[query][params]).round(4)) + ' +/- ' + str(np.std(test_accuracys[query][params]).round(4))\n",
    "pd.DataFrame(df)"
   ]
  },
  {
   "cell_type": "code",
   "execution_count": null,
   "metadata": {},
   "outputs": [],
   "source": []
  }
 ],
 "metadata": {
  "kernelspec": {
   "display_name": "dal-toolbox",
   "language": "python",
   "name": "python3"
  },
  "language_info": {
   "codemirror_mode": {
    "name": "ipython",
    "version": 3
   },
   "file_extension": ".py",
   "mimetype": "text/x-python",
   "name": "python",
   "nbconvert_exporter": "python",
   "pygments_lexer": "ipython3",
   "version": "3.9.16"
  },
  "orig_nbformat": 4
 },
 "nbformat": 4,
 "nbformat_minor": 2
}
