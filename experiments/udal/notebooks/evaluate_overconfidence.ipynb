{
 "cells": [
  {
   "cell_type": "code",
   "execution_count": 24,
   "metadata": {},
   "outputs": [],
   "source": [
    "# Imports\n",
    "\n",
    "import os\n",
    "import json\n",
    "import tqdm\n",
    "import yaml\n",
    "\n",
    "import torch\n",
    "import numpy as np\n",
    "import matplotlib.pyplot as plt\n",
    "\n",
    "from omegaconf import OmegaConf\n",
    "from pathlib import Path\n",
    "from tqdm.auto import tqdm\n",
    "\n",
    "import sys \n",
    "sys.path.append('..')"
   ]
  },
  {
   "cell_type": "code",
   "execution_count": 2,
   "metadata": {},
   "outputs": [],
   "source": [
    "%%bash\n",
    "fusermount -uz /mnt/work/dhuseljic\n",
    "sshfs cluster.ies:/mnt/work/dhuseljic/ /mnt/work/dhuseljic"
   ]
  },
  {
   "cell_type": "code",
   "execution_count": 54,
   "metadata": {},
   "outputs": [
    {
     "name": "stdout",
     "output_type": "stream",
     "text": [
      "Searching in /mnt/work/dhuseljic/results/udal/active_learning/CIFAR10/resnet18/random/N_INIT128__ACQ_SIZE128__N_ACQ18\n",
      "> Found seed1\n"
     ]
    },
    {
     "ename": "KeyError",
     "evalue": "'results'",
     "output_type": "error",
     "traceback": [
      "\u001b[0;31m---------------------------------------------------------------------------\u001b[0m",
      "\u001b[0;31mKeyError\u001b[0m                                  Traceback (most recent call last)",
      "Cell \u001b[0;32mIn[54], line 46\u001b[0m\n\u001b[1;32m     44\u001b[0m path \u001b[39m=\u001b[39m \u001b[39mf\u001b[39m\u001b[39m'\u001b[39m\u001b[39m/mnt/work/dhuseljic/results/udal/active_learning/CIFAR10/resnet18/random/N_INIT\u001b[39m\u001b[39m{\u001b[39;00m\u001b[39m128\u001b[39m\u001b[39m}\u001b[39;00m\u001b[39m__ACQ_SIZE\u001b[39m\u001b[39m{\u001b[39;00m\u001b[39m128\u001b[39m\u001b[39m}\u001b[39;00m\u001b[39m__N_ACQ\u001b[39m\u001b[39m{\u001b[39;00m\u001b[39m18\u001b[39m\u001b[39m}\u001b[39;00m\u001b[39m/\u001b[39m\u001b[39m'\u001b[39m\n\u001b[1;32m     45\u001b[0m exp_results \u001b[39m=\u001b[39m get_experiments(Path(path), \u001b[39m'\u001b[39m\u001b[39mseed1\u001b[39m\u001b[39m'\u001b[39m)\n\u001b[0;32m---> 46\u001b[0m \u001b[39mprint\u001b[39m(exp_results[\u001b[39m0\u001b[39;49m][\u001b[39m'\u001b[39;49m\u001b[39mresults\u001b[39;49m\u001b[39m'\u001b[39;49m][\u001b[39m'\u001b[39m\u001b[39mcycle0\u001b[39m\u001b[39m'\u001b[39m]\u001b[39m.\u001b[39mkeys())\n\u001b[1;32m     47\u001b[0m \u001b[39mprint\u001b[39m(exp_results[\u001b[39m0\u001b[39m][\u001b[39m'\u001b[39m\u001b[39mresults\u001b[39m\u001b[39m'\u001b[39m][\u001b[39m'\u001b[39m\u001b[39mcycle0\u001b[39m\u001b[39m'\u001b[39m][\u001b[39m'\u001b[39m\u001b[39mtest_stats\u001b[39m\u001b[39m'\u001b[39m]\u001b[39m.\u001b[39mkeys())\n",
      "\u001b[0;31mKeyError\u001b[0m: 'results'"
     ]
    }
   ],
   "source": [
    "\n",
    "def load_json(json_file):\n",
    "    with open(json_file, 'r') as f:\n",
    "        data = json.load(f)\n",
    "    return data\n",
    "\n",
    "def load_model(path):\n",
    "    path = Path(path)\n",
    "    assert path.is_dir(), 'Path does not exist.'\n",
    "\n",
    "    exp_checkpoint = path / 'model_final.pth'\n",
    "    state_dict = torch.load(exp_checkpoint)\n",
    "    return state_dict\n",
    "\n",
    "def load_args(path):\n",
    "    path = Path(path)\n",
    "    assert path.is_dir(), 'Path does not exist.'\n",
    "\n",
    "    cfg_path = path / '.hydra' / 'config.yaml'\n",
    "    args =  OmegaConf.load(cfg_path)\n",
    "    return args\n",
    "\n",
    "def load_results(path):\n",
    "    path = Path(path)\n",
    "    assert path.is_dir(), 'Path does not exist.'\n",
    "        \n",
    "    exp_json = path / 'results.json'\n",
    "    if exp_json.is_file():\n",
    "        results = load_json(exp_json)\n",
    "    else:\n",
    "        raise ValueError(f'Results missing for {exp_json}')\n",
    "    return results\n",
    "\n",
    "def get_experiments(result_path, glob_pattern, train_results=False):\n",
    "    # Aggregate results over multiple glob pattern such as seeds\n",
    "    experiments = []\n",
    "    print('Searching in', result_path)\n",
    "    for exp_path in result_path.glob(glob_pattern):\n",
    "        print('> Found', exp_path.name)\n",
    "        d = load_results(exp_path)\n",
    "        experiments.append(d)\n",
    "    assert len(experiments) != 0, f'No experiments found for {result_path}.'\n",
    "    return experiments\n",
    "\n",
    "path = f'/mnt/work/dhuseljic/results/udal/active_learning/CIFAR10/resnet18/random/N_INIT{128}__ACQ_SIZE{128}__N_ACQ{18}/'\n",
    "exp_results = get_experiments(Path(path), 'seed1')\n",
    "print(exp_results[0]['results']['cycle0'].keys())\n",
    "print(exp_results[0]['results']['cycle0']['test_stats'].keys())"
   ]
  },
  {
   "cell_type": "code",
   "execution_count": 55,
   "metadata": {},
   "outputs": [
    {
     "name": "stderr",
     "output_type": "stream",
     "text": [
      "  0%|          | 0/4 [00:00<?, ?it/s]"
     ]
    },
    {
     "name": "stdout",
     "output_type": "stream",
     "text": [
      "Searching in /mnt/work/dhuseljic/results/udal/overconfidence/CIFAR10/resnet18/random/N_INIT128__ACQ_SIZE128__N_ACQ38\n",
      "> Found seed6\n",
      "> Found seed1\n",
      "> Found seed10\n",
      "> Found seed5\n",
      "> Found seed2\n",
      "> Found seed8\n",
      "> Found seed7\n",
      "> Found seed9\n",
      "> Found seed3\n",
      "> Found seed4\n"
     ]
    },
    {
     "name": "stderr",
     "output_type": "stream",
     "text": [
      " 25%|██▌       | 1/4 [00:01<00:03,  1.14s/it]"
     ]
    },
    {
     "name": "stdout",
     "output_type": "stream",
     "text": [
      "Searching in /mnt/work/dhuseljic/results/udal/overconfidence/CIFAR10/resnet18/least_confident/N_INIT128__ACQ_SIZE128__N_ACQ38\n",
      "> Found seed5\n",
      "> Found seed2\n",
      "> Found seed8\n",
      "> Found seed6\n",
      "> Found seed1\n",
      "> Found seed9\n",
      "> Found seed3\n",
      "> Found seed10\n",
      "> Found seed4\n",
      "> Found seed7\n"
     ]
    },
    {
     "name": "stderr",
     "output_type": "stream",
     "text": [
      " 50%|█████     | 2/4 [00:02<00:02,  1.17s/it]"
     ]
    },
    {
     "name": "stdout",
     "output_type": "stream",
     "text": [
      "Searching in /mnt/work/dhuseljic/results/udal/overconfidence/CIFAR10/resnet18/margin/N_INIT128__ACQ_SIZE128__N_ACQ38\n",
      "> Found seed7\n",
      "> Found seed4\n",
      "> Found seed9\n",
      "> Found seed3\n",
      "> Found seed1\n",
      "> Found seed6\n",
      "> Found seed2\n",
      "> Found seed8\n",
      "> Found seed5\n",
      "> Found seed10\n"
     ]
    },
    {
     "name": "stderr",
     "output_type": "stream",
     "text": [
      " 75%|███████▌  | 3/4 [00:03<00:01,  1.18s/it]"
     ]
    },
    {
     "name": "stdout",
     "output_type": "stream",
     "text": [
      "Searching in /mnt/work/dhuseljic/results/udal/overconfidence/CIFAR10/resnet18/entropy/N_INIT128__ACQ_SIZE128__N_ACQ38\n",
      "> Found seed5\n",
      "> Found seed10\n",
      "> Found seed2\n",
      "> Found seed8\n",
      "> Found seed6\n",
      "> Found seed1\n",
      "> Found seed9\n",
      "> Found seed3\n",
      "> Found seed4\n",
      "> Found seed7\n"
     ]
    },
    {
     "name": "stderr",
     "output_type": "stream",
     "text": [
      "100%|██████████| 4/4 [00:04<00:00,  1.21s/it]\n"
     ]
    }
   ],
   "source": [
    "root_path = Path('/mnt/work/dhuseljic/results/udal/')\n",
    "# root_path = Path('/home/denis/results/udal/')\n",
    "dataset = 'CIFAR10'\n",
    "model = 'resnet18'\n",
    "experiments = {}\n",
    "n_init = 128\n",
    "acq_size = 128\n",
    "num_cycles = 38\n",
    "# Deterministic\n",
    "experiments.update({\n",
    "    'random eval':  root_path / f'overconfidence/{dataset}/resnet18/random/N_INIT{n_init}__ACQ_SIZE{acq_size}__N_ACQ{num_cycles}/',\n",
    "    'lc eval':      root_path / f'overconfidence/{dataset}/resnet18/least_confident/N_INIT{n_init}__ACQ_SIZE{acq_size}__N_ACQ{num_cycles}/',\n",
    "    'margin eval':  root_path / f'overconfidence/{dataset}/resnet18/margin/N_INIT{n_init}__ACQ_SIZE{acq_size}__N_ACQ{num_cycles}/',\n",
    "    'entropy eval': root_path / f'overconfidence/{dataset}/resnet18/entropy/N_INIT{n_init}__ACQ_SIZE{acq_size}__N_ACQ{num_cycles}/',\n",
    "})\n",
    "\n",
    "all_results = {}\n",
    "for exp_name, exp_path in tqdm(experiments.items()):\n",
    "    all_results[exp_name] = get_experiments(Path(exp_path), 'seed*')"
   ]
  },
  {
   "cell_type": "code",
   "execution_count": 59,
   "metadata": {},
   "outputs": [
    {
     "name": "stderr",
     "output_type": "stream",
     "text": [
      "100%|██████████| 4/4 [00:00<00:00, 2816.86it/s]\n"
     ]
    }
   ],
   "source": [
    "show_std = False\n",
    "learning_curves = {}\n",
    "\n",
    "for strat_name, results in tqdm(all_results.items()):\n",
    "\n",
    "    test_oces = []\n",
    "    n_labeled_samples = []\n",
    "\n",
    "    for seed_results in results:\n",
    "        n_labeled_samples.append([seed_results[cycle]['n_labeled_samples'] for cycle in seed_results])\n",
    "        test_oces.append([seed_results[cycle]['test_stats']['oce'] for cycle in seed_results])\n",
    "\n",
    "    n_labeled_samples = np.mean(n_labeled_samples, 0)\n",
    "    test_oces_mean, test_oces_std = np.mean(test_oces, 0), np.std(test_oces, 0)\n",
    "\n",
    "    learning_curves[strat_name] = {\n",
    "        'oce': test_oces_mean, 'oce_std': test_oces_std,\n",
    "    }"
   ]
  },
  {
   "cell_type": "code",
   "execution_count": 94,
   "metadata": {},
   "outputs": [
    {
     "data": {
      "image/png": "[encoded data removed]",
      "text/plain": [
       "<Figure size 1000x500 with 1 Axes>"
      ]
     },
     "metadata": {},
     "output_type": "display_data"
    }
   ],
   "source": [
    "oce = learning_curves['random eval']['oce']\n",
    "oce_std = learning_curves['random eval']['oce_std']\n",
    "plt.plot(n_labeled_samples, oce, label='random')\n",
    "\n",
    "oce = learning_curves['lc eval']['oce']\n",
    "oce_std = learning_curves['random eval']['oce_std']\n",
    "plt.plot(n_labeled_samples, oce, label='lc')\n",
    "\n",
    "oce = learning_curves['margin eval']['oce']\n",
    "oce_std = learning_curves['random eval']['oce_std']\n",
    "plt.plot(n_labeled_samples, oce, label='margin')\n",
    "\n",
    "oce = learning_curves['entropy eval']['oce']\n",
    "oce_std = learning_curves['random eval']['oce_std']\n",
    "plt.plot(n_labeled_samples, oce, label='entropy')\n",
    "\n",
    "plt.legend()\n",
    "\n",
    "plt.show()"
   ]
  },
  {
   "cell_type": "code",
   "execution_count": 93,
   "metadata": {},
   "outputs": [
    {
     "data": {
      "text/plain": [
       "{'random eval': 0.055341587960720064,\n",
       " 'lc eval': 0.04161111414432526,\n",
       " 'margin eval': 0.04491196721792221,\n",
       " 'entropy eval': 0.04201927706599236}"
      ]
     },
     "execution_count": 93,
     "metadata": {},
     "output_type": "execute_result"
    }
   ],
   "source": [
    "import pandas as pd\n",
    "\n",
    "{key: val['oce'][-1] for key, val in learning_curves.items()}"
   ]
  },
  {
   "cell_type": "code",
   "execution_count": 75,
   "metadata": {},
   "outputs": [
    {
     "name": "stdout",
     "output_type": "stream",
     "text": [
      "Files already downloaded and verified\n",
      "Files already downloaded and verified\n"
     ]
    },
    {
     "data": {
      "text/plain": [
       "<All keys matched successfully>"
      ]
     },
     "execution_count": 75,
     "metadata": {},
     "output_type": "execute_result"
    }
   ],
   "source": [
    "from active_learning import build_model, build_datasets\n",
    "\n",
    "exp_path = experiments['random eval'] / 'seed1'\n",
    "\n",
    "state_dict = load_model(exp_path)\n",
    "args = load_args(exp_path)\n",
    "results = load_results(exp_path)\n",
    "\n",
    "data = build_datasets(args)\n",
    "model = build_model(args, num_classes=10)\n",
    "model = model.model\n",
    "model.load_state_dict(state_dict)"
   ]
  },
  {
   "cell_type": "code",
   "execution_count": 76,
   "metadata": {},
   "outputs": [
    {
     "name": "stderr",
     "output_type": "stream",
     "text": [
      "  0%|          | 0/40 [00:00<?, ?it/s]"
     ]
    },
    {
     "name": "stderr",
     "output_type": "stream",
     "text": [
      "100%|██████████| 40/40 [00:02<00:00, 19.91it/s]\n"
     ]
    }
   ],
   "source": [
    "torch.set_grad_enabled(False)\n",
    "\n",
    "model.eval()\n",
    "model.cuda()\n",
    "test_loader = torch.utils.data.DataLoader(data.test_dataset, batch_size=256)\n",
    "\n",
    "logits_list = []\n",
    "targets_list = []\n",
    "for batch in tqdm(test_loader):\n",
    "    inputs, targets = batch\n",
    "    logits = model(inputs.cuda())\n",
    "    logits_list.append(logits.cpu())\n",
    "    targets_list.append(targets.cpu())\n",
    "\n",
    "logits = torch.cat(logits_list)\n",
    "targets = torch.cat(targets_list)"
   ]
  },
  {
   "cell_type": "code",
   "execution_count": 77,
   "metadata": {},
   "outputs": [
    {
     "name": "stdout",
     "output_type": "stream",
     "text": [
      "Test Accuracy: 0.8489999771118164\n"
     ]
    },
    {
     "data": {
      "text/plain": [
       "{'accuracy': 0.8490999937057495,\n",
       " 'nll': 0.5365116596221924,\n",
       " 'brier': 0.23503151535987854,\n",
       " 'tce': 0.06616222113370895,\n",
       " 'ace': 0.054619304835796356,\n",
       " 'oce': 0.05762855336070061}"
      ]
     },
     "execution_count": 77,
     "metadata": {},
     "output_type": "execute_result"
    }
   ],
   "source": [
    "print('Test Accuracy:', (logits.argmax(-1) == targets).float().mean().item())\n",
    "results['cycle38']['test_stats']"
   ]
  },
  {
   "cell_type": "code",
   "execution_count": 86,
   "metadata": {},
   "outputs": [
    {
     "data": {
      "text/plain": [
       "[<matplotlib.lines.Line2D at 0x7f06ff429880>]"
      ]
     },
     "execution_count": 86,
     "metadata": {},
     "output_type": "execute_result"
    },
    {
     "data": {
      "image/png": "[encoded data removed]",
      "text/plain": [
       "<Figure size 1000x500 with 1 Axes>"
      ]
     },
     "metadata": {},
     "output_type": "display_data"
    }
   ],
   "source": [
    "from dal_toolbox.metrics import TopLabelCalibrationPlot\n",
    "\n",
    "probas = logits.softmax(-1)\n",
    "tcp = TopLabelCalibrationPlot()(probas, targets)\n",
    "plt.plot(tcp['confs'], tcp['accs'])\n",
    "plt.plot([0, 1], [0, 1], color='black', linewidth=3, linestyle=':')"
   ]
  },
  {
   "cell_type": "code",
   "execution_count": null,
   "metadata": {},
   "outputs": [],
   "source": []
  }
 ],
 "metadata": {
  "kernelspec": {
   "display_name": "dal-toolbox",
   "language": "python",
   "name": "python3"
  },
  "language_info": {
   "codemirror_mode": {
    "name": "ipython",
    "version": 3
   },
   "file_extension": ".py",
   "mimetype": "text/x-python",
   "name": "python",
   "nbconvert_exporter": "python",
   "pygments_lexer": "ipython3",
   "version": "3.9.16"
  },
  "orig_nbformat": 4
 },
 "nbformat": 4,
 "nbformat_minor": 2
}
