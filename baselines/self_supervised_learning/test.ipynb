{
 "cells": [
  {
   "cell_type": "code",
   "execution_count": 6,
   "outputs": [],
   "source": [
    "import warnings\n",
    "\n",
    "import lightning\n",
    "import torch\n",
    "import torchvision\n",
    "from torch import nn\n",
    "from torch.utils.data import DataLoader, Dataset\n",
    "\n",
    "from dal_toolbox import metrics\n",
    "from dal_toolbox.datasets.base import BaseData\n",
    "from dal_toolbox.datasets.svhn import SVHNPlain\n",
    "from dal_toolbox.models import deterministic"
   ],
   "metadata": {
    "collapsed": false,
    "ExecuteTime": {
     "end_time": "2023-08-29T14:42:22.876277200Z",
     "start_time": "2023-08-29T14:42:22.857343400Z"
    }
   }
  },
  {
   "cell_type": "code",
   "execution_count": 7,
   "outputs": [
    {
     "data": {
      "text/plain": "<All keys matched successfully>"
     },
     "execution_count": 7,
     "metadata": {},
     "output_type": "execute_result"
    }
   ],
   "source": [
    "class FeatureDatasetWrapper(BaseData):\n",
    "    \"\"\"\n",
    "    Wrapper for FeatureDatasets to be used with AbstractData\n",
    "    \"\"\"\n",
    "\n",
    "    def __init__(self, dataset_path):\n",
    "        super().__init__(dataset_path)\n",
    "\n",
    "    @property\n",
    "    def num_classes(self):\n",
    "        return self.n_classes\n",
    "\n",
    "    @property\n",
    "    def num_features(self):\n",
    "        return self.n_features\n",
    "\n",
    "    def download_datasets(self):\n",
    "        map = \"cpu\" if not torch.cuda.is_available() else None\n",
    "        feature_dict = torch.load(self.dataset_path, map_location=map)\n",
    "        self._trainset = feature_dict[\"trainset\"]\n",
    "        self._testset = feature_dict[\"testset\"]\n",
    "        self.n_classes = len(torch.unique(self._testset.labels))\n",
    "        self.n_features = self._testset.features.shape[1]\n",
    "\n",
    "    @property\n",
    "    def full_train_dataset_eval_transforms(self):\n",
    "        warnings.warn(\"FeatureDataset hast no EvalTransforms\")\n",
    "        return self.full_train_dataset\n",
    "\n",
    "    @property\n",
    "    def full_train_dataset_query_transforms(self):\n",
    "        warnings.warn(\"FeatureDataset hast no QueryTransform\")\n",
    "        return self.full_train_dataset\n",
    "\n",
    "    @property\n",
    "    def test_dataset(self):\n",
    "        return self._testset\n",
    "\n",
    "    @property\n",
    "    def train_transforms(self):\n",
    "        return None\n",
    "\n",
    "    @property\n",
    "    def query_transforms(self):\n",
    "        return None\n",
    "\n",
    "    @property\n",
    "    def eval_transforms(self):\n",
    "        return None\n",
    "\n",
    "    @property\n",
    "    def full_train_dataset(self):\n",
    "        return self._trainset\n",
    "\n",
    "\n",
    "best_path = \"resnet50_deterministic_SVHN_0.915.pth\"\n",
    "data = FeatureDatasetWrapper(best_path)\n",
    "\n",
    "results = torch.load(best_path, map_location=torch.device('cpu')) # Can be gpu if one available\n",
    "encoder = deterministic.resnet.ResNet50(num_classes=1)\n",
    "encoder.linear = nn.Identity()\n",
    "encoder.load_state_dict(results[\"model\"])"
   ],
   "metadata": {
    "collapsed": false,
    "ExecuteTime": {
     "end_time": "2023-08-29T14:42:24.422405900Z",
     "start_time": "2023-08-29T14:42:23.330326Z"
    }
   }
  },
  {
   "cell_type": "code",
   "execution_count": 8,
   "outputs": [
    {
     "name": "stdout",
     "output_type": "stream",
     "text": [
      "Using downloaded and verified file: /data/train_32x32.mat\n",
      "Using downloaded and verified file: /data/test_32x32.mat\n"
     ]
    },
    {
     "name": "stderr",
     "output_type": "stream",
     "text": [
      "GPU available: True (cuda), used: True\n",
      "TPU available: False, using: 0 TPU cores\n",
      "IPU available: False, using: 0 IPUs\n",
      "HPU available: False, using: 0 HPUs\n",
      "You are using a CUDA device ('NVIDIA GeForce RTX 3080') that has Tensor Cores. To properly utilize them, you should set `torch.set_float32_matmul_precision('medium' | 'high')` which will trade-off precision for performance. For more details, read https://pytorch.org/docs/stable/generated/torch.set_float32_matmul_precision.html#torch.set_float32_matmul_precision\n",
      "LOCAL_RANK: 0 - CUDA_VISIBLE_DEVICES: [0]\n",
      "\n",
      "  | Name          | Type             | Params\n",
      "---------------------------------------------------\n",
      "0 | model         | Linear           | 20.5 K\n",
      "1 | loss_fn       | CrossEntropyLoss | 0     \n",
      "2 | train_metrics | ModuleDict       | 0     \n",
      "3 | val_metrics   | ModuleDict       | 0     \n",
      "---------------------------------------------------\n",
      "20.5 K    Trainable params\n",
      "0         Non-trainable params\n",
      "20.5 K    Total params\n",
      "0.082     Total estimated model params size (MB)\n"
     ]
    },
    {
     "data": {
      "text/plain": "Sanity Checking: 0it [00:00, ?it/s]",
      "application/vnd.jupyter.widget-view+json": {
       "version_major": 2,
       "version_minor": 0,
       "model_id": "39564efb98e34e1bb741e8125b38da18"
      }
     },
     "metadata": {},
     "output_type": "display_data"
    },
    {
     "data": {
      "text/plain": "Training: 0it [00:00, ?it/s]",
      "application/vnd.jupyter.widget-view+json": {
       "version_major": 2,
       "version_minor": 0,
       "model_id": "ec91f6c1c5ab4e45806437ae86dc4c0d"
      }
     },
     "metadata": {},
     "output_type": "display_data"
    }
   ],
   "source": [
    "class EncoderDataset(Dataset):\n",
    "    def __init__(self, subset, encoder, transform=None):\n",
    "        self.subset = subset\n",
    "        self.transform = transform\n",
    "\n",
    "    def __getitem__(self, index):\n",
    "        x, y = self.subset[index]\n",
    "        if self.transform:\n",
    "            x = self.transform(x)\n",
    "        return x, y\n",
    "\n",
    "    def __len__(self):\n",
    "        return len(self.subset)\n",
    "\n",
    "def custom_collate(batch):\n",
    "    batch = torch.utils.data.default_collate(batch)\n",
    "    return encoder(batch[0]), batch[1]\n",
    "\n",
    "cifar = SVHNPlain(\"/data/\")\n",
    "transform = torchvision.transforms.Compose([\n",
    "    torchvision.transforms.RandomCrop(32, padding=4),\n",
    "    torchvision.transforms.RandomHorizontalFlip(),\n",
    "])\n",
    "\n",
    "train_dataloader = DataLoader(EncoderDataset(cifar.train_dataset, encoder, transform),\n",
    "                                   batch_size=256,\n",
    "                                   shuffle=True,\n",
    "                             collate_fn=custom_collate)\n",
    "\n",
    "val_dataloader = DataLoader(EncoderDataset(cifar.val_dataset, encoder, None),\n",
    "                                 batch_size=256,\n",
    "                                 shuffle=False,\n",
    "                           collate_fn=custom_collate)\n",
    "\n",
    "test_dataloader = DataLoader(EncoderDataset(cifar.test_dataset, encoder, None),\n",
    "                                  batch_size=256,\n",
    "                                  shuffle=False,\n",
    "                            collate_fn=custom_collate)\n",
    "\n",
    "model = nn.Linear(2048, 10)\n",
    "\n",
    "optimizer = torch.optim.Adam(model.parameters(),\n",
    "                            lr=0.01,\n",
    "                            weight_decay=5e-4)\n",
    "lr_scheduler = torch.optim.lr_scheduler.CosineAnnealingLR(optimizer, T_max=100)\n",
    "model = deterministic.DeterministicModel(\n",
    "    model,\n",
    "    optimizer=optimizer,\n",
    "    lr_scheduler=lr_scheduler,\n",
    "    train_metrics={'train_acc': metrics.Accuracy()},\n",
    "    val_metrics={'val_acc': metrics.Accuracy()},\n",
    ")\n",
    "\n",
    "trainer = lightning.Trainer(\n",
    "    default_root_dir=\"~/tmp\",\n",
    "    accelerator=\"auto\",\n",
    "    max_epochs=100,\n",
    "    enable_checkpointing=False,\n",
    "    check_val_every_n_epoch=10,\n",
    "    enable_progress_bar=True,\n",
    ")\n",
    "\n",
    "trainer.fit(model, train_dataloader, val_dataloader)"
   ],
   "metadata": {
    "collapsed": false,
    "ExecuteTime": {
     "end_time": "2023-08-29T14:44:44.675519400Z",
     "start_time": "2023-08-29T14:42:24.427392500Z"
    }
   }
  },
  {
   "cell_type": "code",
   "execution_count": null,
   "outputs": [],
   "source": [],
   "metadata": {
    "collapsed": false
   }
  }
 ],
 "metadata": {
  "kernelspec": {
   "display_name": "Python 3",
   "language": "python",
   "name": "python3"
  },
  "language_info": {
   "codemirror_mode": {
    "name": "ipython",
    "version": 2
   },
   "file_extension": ".py",
   "mimetype": "text/x-python",
   "name": "python",
   "nbconvert_exporter": "python",
   "pygments_lexer": "ipython2",
   "version": "2.7.6"
  }
 },
 "nbformat": 4,
 "nbformat_minor": 0
}
