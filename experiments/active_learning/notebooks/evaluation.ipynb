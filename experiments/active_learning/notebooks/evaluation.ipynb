{
 "cells": [
  {
   "cell_type": "code",
   "execution_count": 60,
   "metadata": {},
   "outputs": [],
   "source": [
    "import os\n",
    "import json\n",
    "import tqdm\n",
    "import yaml\n",
    "\n",
    "import torch\n",
    "import numpy as np\n",
    "import matplotlib.pyplot as plt\n",
    "\n",
    "from omegaconf import OmegaConf\n",
    "from pathlib import Path\n",
    "from tqdm.auto import tqdm\n",
    "os.makedirs('./plots', exist_ok=True)"
   ]
  },
  {
   "cell_type": "code",
   "execution_count": 61,
   "metadata": {},
   "outputs": [
    {
     "name": "stderr",
     "output_type": "stream",
     "text": [
      "fusermount: entry for /home/denis/Documents/projects/uncertainty_evaluation/experiments/active_learning/notebooks/results not found in /etc/mtab\n"
     ]
    },
    {
     "ename": "CalledProcessError",
     "evalue": "Command 'b'mkdir -p results\\nfusermount -uz results\\n# sshfs compute.ies:/mnt/work/dhuseljic/results/al_baselines/ results\\n# ls results\\n'' returned non-zero exit status 1.",
     "output_type": "error",
     "traceback": [
      "\u001b[0;31m---------------------------------------------------------------------------\u001b[0m",
      "\u001b[0;31mCalledProcessError\u001b[0m                        Traceback (most recent call last)",
      "Cell \u001b[0;32mIn[61], line 1\u001b[0m\n\u001b[0;32m----> 1\u001b[0m get_ipython()\u001b[39m.\u001b[39;49mrun_cell_magic(\u001b[39m'\u001b[39;49m\u001b[39mbash\u001b[39;49m\u001b[39m'\u001b[39;49m, \u001b[39m'\u001b[39;49m\u001b[39m'\u001b[39;49m, \u001b[39m'\u001b[39;49m\u001b[39mmkdir -p results\u001b[39;49m\u001b[39m\\n\u001b[39;49;00m\u001b[39mfusermount -uz results\u001b[39;49m\u001b[39m\\n\u001b[39;49;00m\u001b[39m# sshfs compute.ies:/mnt/work/dhuseljic/results/al_baselines/ results\u001b[39;49m\u001b[39m\\n\u001b[39;49;00m\u001b[39m# ls results\u001b[39;49m\u001b[39m\\n\u001b[39;49;00m\u001b[39m'\u001b[39;49m)\n",
      "File \u001b[0;32m~/miniconda3/envs/dal-toolbox/lib/python3.9/site-packages/IPython/core/interactiveshell.py:2478\u001b[0m, in \u001b[0;36mInteractiveShell.run_cell_magic\u001b[0;34m(self, magic_name, line, cell)\u001b[0m\n\u001b[1;32m   2476\u001b[0m \u001b[39mwith\u001b[39;00m \u001b[39mself\u001b[39m\u001b[39m.\u001b[39mbuiltin_trap:\n\u001b[1;32m   2477\u001b[0m     args \u001b[39m=\u001b[39m (magic_arg_s, cell)\n\u001b[0;32m-> 2478\u001b[0m     result \u001b[39m=\u001b[39m fn(\u001b[39m*\u001b[39;49margs, \u001b[39m*\u001b[39;49m\u001b[39m*\u001b[39;49mkwargs)\n\u001b[1;32m   2480\u001b[0m \u001b[39m# The code below prevents the output from being displayed\u001b[39;00m\n\u001b[1;32m   2481\u001b[0m \u001b[39m# when using magics with decodator @output_can_be_silenced\u001b[39;00m\n\u001b[1;32m   2482\u001b[0m \u001b[39m# when the last Python token in the expression is a ';'.\u001b[39;00m\n\u001b[1;32m   2483\u001b[0m \u001b[39mif\u001b[39;00m \u001b[39mgetattr\u001b[39m(fn, magic\u001b[39m.\u001b[39mMAGIC_OUTPUT_CAN_BE_SILENCED, \u001b[39mFalse\u001b[39;00m):\n",
      "File \u001b[0;32m~/miniconda3/envs/dal-toolbox/lib/python3.9/site-packages/IPython/core/magics/script.py:154\u001b[0m, in \u001b[0;36mScriptMagics._make_script_magic.<locals>.named_script_magic\u001b[0;34m(line, cell)\u001b[0m\n\u001b[1;32m    152\u001b[0m \u001b[39melse\u001b[39;00m:\n\u001b[1;32m    153\u001b[0m     line \u001b[39m=\u001b[39m script\n\u001b[0;32m--> 154\u001b[0m \u001b[39mreturn\u001b[39;00m \u001b[39mself\u001b[39;49m\u001b[39m.\u001b[39;49mshebang(line, cell)\n",
      "File \u001b[0;32m~/miniconda3/envs/dal-toolbox/lib/python3.9/site-packages/IPython/core/magics/script.py:314\u001b[0m, in \u001b[0;36mScriptMagics.shebang\u001b[0;34m(self, line, cell)\u001b[0m\n\u001b[1;32m    309\u001b[0m \u001b[39mif\u001b[39;00m args\u001b[39m.\u001b[39mraise_error \u001b[39mand\u001b[39;00m p\u001b[39m.\u001b[39mreturncode \u001b[39m!=\u001b[39m \u001b[39m0\u001b[39m:\n\u001b[1;32m    310\u001b[0m     \u001b[39m# If we get here and p.returncode is still None, we must have\u001b[39;00m\n\u001b[1;32m    311\u001b[0m     \u001b[39m# killed it but not yet seen its return code. We don't wait for it,\u001b[39;00m\n\u001b[1;32m    312\u001b[0m     \u001b[39m# in case it's stuck in uninterruptible sleep. -9 = SIGKILL\u001b[39;00m\n\u001b[1;32m    313\u001b[0m     rc \u001b[39m=\u001b[39m p\u001b[39m.\u001b[39mreturncode \u001b[39mor\u001b[39;00m \u001b[39m-\u001b[39m\u001b[39m9\u001b[39m\n\u001b[0;32m--> 314\u001b[0m     \u001b[39mraise\u001b[39;00m CalledProcessError(rc, cell)\n",
      "\u001b[0;31mCalledProcessError\u001b[0m: Command 'b'mkdir -p results\\nfusermount -uz results\\n# sshfs compute.ies:/mnt/work/dhuseljic/results/al_baselines/ results\\n# ls results\\n'' returned non-zero exit status 1."
     ]
    }
   ],
   "source": [
    "%%bash\n",
    "mkdir -p results\n",
    "fusermount -uz results\n",
    "# sshfs compute.ies:/mnt/work/dhuseljic/results/al_baselines/ results\n",
    "# ls results"
   ]
  },
  {
   "cell_type": "code",
   "execution_count": null,
   "metadata": {},
   "outputs": [
    {
     "name": "stdout",
     "output_type": "stream",
     "text": [
      "dict_keys(['cycle0', 'cycle1', 'cycle2', 'cycle3', 'cycle4', 'cycle5', 'cycle6', 'cycle7', 'cycle8', 'cycle9'])\n"
     ]
    }
   ],
   "source": [
    "def load_json(json_file):\n",
    "    with open(json_file, 'r') as f:\n",
    "        data = json.load(f)\n",
    "    return data\n",
    "\n",
    "def load_results(path):\n",
    "    path = Path(path)\n",
    "    assert path.is_dir(), 'Path does not exist.'\n",
    "    exp_json = path / 'results.json'\n",
    "    results = load_json(exp_json)\n",
    "    return results\n",
    "\n",
    "def load_args(path):\n",
    "    path = Path(path)\n",
    "    assert path.is_dir(), 'Path does not exist.'\n",
    "    exp_cfg = path / '.hydra' / 'config.yaml'\n",
    "    cfg =  OmegaConf.load(exp_cfg)\n",
    "    return cfg\n",
    "\n",
    "def load_checkpoint(path, final=True):\n",
    "    path = Path(path)\n",
    "    assert path.is_dir(), 'Path does not exist.'\n",
    "    if final:\n",
    "        exp_pth = path / 'model_final.pth'\n",
    "    else:\n",
    "        exp_pth = path / 'checkpoint.pth'\n",
    "    checkpoint = torch.load(exp_pth)\n",
    "    return checkpoint\n",
    "\n",
    "def get_experiments(result_path, glob_pattern, train_results=False):\n",
    "    # Aggregate results over multiple glob pattern such as seeds\n",
    "    experiments = []\n",
    "    for exp_path in result_path.glob(glob_pattern):\n",
    "        d = load_results(exp_path)\n",
    "        experiments.append(d)\n",
    "    assert len(experiments) != 0, f'No experiments found for {result_path}.'\n",
    "    return experiments\n",
    "\n",
    "path = \"/mnt/work/dhuseljic/results/al_baselines/CIFAR10/resnet18/budget_10000/random\"\n",
    "exp_results = get_experiments(Path(path), 'seed1')\n",
    "# metrics = get_metric_values(exp_results)\n",
    "print(exp_results[0].keys())\n",
    "# print(len(exp_results[0]['results']['train_history']))\n",
    "# print(exp_results[0]['results']['test_stats'].keys())"
   ]
  },
  {
   "cell_type": "code",
   "execution_count": 62,
   "metadata": {},
   "outputs": [],
   "source": [
    "experiments = {\n",
    "    \"Random\": \"/mnt/work/dhuseljic/results/al_baselines/CIFAR10/resnet18/budget_10000/random/\",\n",
    "    \"Entropy\": \"/mnt/work/dhuseljic/results/al_baselines/CIFAR10/resnet18/budget_10000/entropy/\",\n",
    "}\n",
    "\n",
    "learning_curves = {}\n",
    "for exp_name, path in experiments.items():\n",
    "    seed_results = get_experiments(Path(path), glob_pattern='seed*')\n",
    "\n",
    "    seed_accuracies = []\n",
    "    seed_num_labeled = []\n",
    "    for results in seed_results:\n",
    "        seed_accuracies.append([val['test_stats']['accuracy'] for key, val in results.items()])\n",
    "        seed_num_labeled.append([val['n_labeled_samples'] for key, val in results.items()])\n",
    "    metrics = {\n",
    "        'acc': np.mean(seed_accuracies, axis=0), \n",
    "        'acc_std': np.std(seed_accuracies, axis=0), \n",
    "        'num_labeled': np.mean(seed_num_labeled, axis=0)\n",
    "    }\n",
    "    learning_curves[exp_name] = metrics"
   ]
  },
  {
   "cell_type": "code",
   "execution_count": 63,
   "metadata": {},
   "outputs": [
    {
     "name": "stdout",
     "output_type": "stream",
     "text": [
      "al_cycle:\n",
      "  n_init: 1000\n",
      "  acq_size: 1000\n",
      "  n_acq: 9\n",
      "  cold_start: true\n",
      "random_seed: 1\n",
      "dataset_path: /mnt/work/dhuseljic/datasets\n",
      "val_interval: 25\n",
      "output_dir: /mnt/work/dhuseljic/results/al_baselines/CIFAR10/resnet18/random/budget_10000/seed1/\n",
      "model:\n",
      "  name: resnet18_deterministic\n",
      "  num_epochs: 200\n",
      "  train_batch_size: 64\n",
      "  predict_batch_size: 256\n",
      "  optimizer:\n",
      "    lr: 0.001\n",
      "    weight_decay: 0.05\n",
      "    momentum: 0.9\n",
      "dataset:\n",
      "  name: CIFAR10\n",
      "al_strategy:\n",
      "  name: random\n",
      "\n"
     ]
    }
   ],
   "source": [
    "from omegaconf import OmegaConf\n",
    "print(OmegaConf.to_yaml(load_args(Path(experiments['Random']) / 'seed1')))"
   ]
  },
  {
   "cell_type": "code",
   "execution_count": 64,
   "metadata": {},
   "outputs": [
    {
     "data": {
      "image/png": "[encoded data removed]",
      "text/plain": [
       "<Figure size 700x500 with 1 Axes>"
      ]
     },
     "metadata": {},
     "output_type": "display_data"
    }
   ],
   "source": [
    "plt.figure(figsize=(7, 5))\n",
    "for exp_name, metrics in learning_curves.items():\n",
    "    plt.plot(metrics['num_labeled'], metrics['acc'], '-o', label=exp_name)\n",
    "    plt.fill_between(metrics['num_labeled'], metrics['acc'] - metrics['acc_std'], metrics['acc'] + metrics['acc_std'], alpha=.5)\n",
    "plt.legend()\n",
    "plt.savefig('plots/budget10000.png')\n",
    "plt.show()"
   ]
  }
 ],
 "metadata": {
  "kernelspec": {
   "display_name": "dal-toolbox",
   "language": "python",
   "name": "python3"
  },
  "language_info": {
   "codemirror_mode": {
    "name": "ipython",
    "version": 3
   },
   "file_extension": ".py",
   "mimetype": "text/x-python",
   "name": "python",
   "nbconvert_exporter": "python",
   "pygments_lexer": "ipython3",
   "version": "3.9.16"
  },
  "orig_nbformat": 4
 },
 "nbformat": 4,
 "nbformat_minor": 2
}
