{
 "cells": [
  {
   "cell_type": "code",
   "execution_count": null,
   "metadata": {},
   "outputs": [],
   "source": [
    "import math \n",
    "\n",
    "import torch\n",
    "import torch.nn as nn\n",
    "import torch.nn.functional as F\n",
    "\n",
    "import numpy as np\n",
    "import pylab as plt\n",
    "from sklearn import datasets"
   ]
  },
  {
   "cell_type": "code",
   "execution_count": null,
   "metadata": {},
   "outputs": [],
   "source": [
    "# X, y = datasets.make_moons(200, ) = \n",
    "X = torch.Tensor(40, 1).uniform_(-3, 3).float()\n",
    "y = torch.sin(X).float()\n",
    "y = y + torch.randn_like(y)*.1\n",
    "\n",
    "X = (X - X.std(0)) - X.mean(0)\n",
    "train_ds = torch.utils.data.TensorDataset(X, y)\n",
    "\n",
    "plt.scatter(X.squeeze(), y)\n",
    "plt.show()"
   ]
  },
  {
   "cell_type": "code",
   "execution_count": null,
   "metadata": {},
   "outputs": [],
   "source": [
    "from dal_toolbox.models.utils.variational_inference import BayesianLinear, BayesianConv2d\n",
    "\n",
    "class Net(nn.Module):\n",
    "    def __init__(self, prior_sigma=1) -> None:\n",
    "        super().__init__()\n",
    "        self.l1 = BayesianLinear(1, 50, prior_sigma=prior_sigma)\n",
    "        self.l3 = BayesianLinear(50, 1, prior_sigma=prior_sigma)\n",
    "        self.act = nn.Tanh()\n",
    "    \n",
    "    def forward(self, x):\n",
    "        out = self.l1(x)\n",
    "        out = self.act(out)\n",
    "        # out = self.l2(out)\n",
    "        # kout = self.act(out)\n",
    "        out = self.l3(out)\n",
    "        return out"
   ]
  },
  {
   "cell_type": "code",
   "execution_count": null,
   "metadata": {},
   "outputs": [],
   "source": [
    "from dal_toolbox.models.variational_inference.trainer import VITrainer\n",
    "\n",
    "train_loader = torch.utils.data.DataLoader(train_ds, batch_size=32, shuffle=True)\n",
    "\n",
    "model = Net(prior_sigma=1)\n",
    "optimizer = torch.optim.SGD(model.parameters(), lr=.1, momentum=0.9)\n",
    "\n",
    "trainer = VITrainer(model, optimizer, criterion=nn.MSELoss(), kl_temperature=1)\n",
    "train_stats = trainer.train(1000, train_loader)\n",
    "train_history = train_stats['train_history']\n",
    "\n",
    "fig = plt.figure(figsize=(20, 5))\n",
    "axis = torch.linspace(X.min()-2, X.max()+2, 101)\n",
    "with torch.no_grad():\n",
    "    axis_pred = torch.stack([model(axis.view(-1, 1)).squeeze() for _ in range(100)], dim=-1)\n",
    "\n",
    "plt.subplot(141)\n",
    "plt.scatter(X, y)\n",
    "plt.plot(axis, axis_pred, color='red', alpha=.2)\n",
    "plt.subplot(142)\n",
    "plt.plot([d['train_loss'] for d in train_history], label='Total', color='green')\n",
    "plt.subplot(143)\n",
    "plt.plot([d['train_nll'] for d in train_history], label='NLL', color='red')\n",
    "plt.subplot(144)\n",
    "plt.plot([d['train_kl_loss'] for d in train_history], label='KL', color='blue')\n",
    "fig.legend(loc='upper center')\n",
    "plt.show()\n"
   ]
  },
  {
   "cell_type": "code",
   "execution_count": null,
   "metadata": {},
   "outputs": [],
   "source": [
    "class BayesianCNN(nn.Module):\n",
    "    def __init__(self, prior_sigma=1) -> None:\n",
    "        super().__init__()\n",
    "        self.conv1 = BayesianConv2d(1, 16, kernel_size=5, stride=2, prior_sigma=prior_sigma)\n",
    "        self.conv2 = BayesianConv2d(16, 32, kernel_size=5, stride=2, prior_sigma=prior_sigma)\n",
    "        self.l1 = BayesianLinear(512, 10, prior_sigma=prior_sigma)\n",
    "\n",
    "    def forward(self, x):\n",
    "        out = self.conv1(x)\n",
    "        out = self.conv2(out)\n",
    "        out = torch.flatten(out, start_dim=1)\n",
    "        out = self.l1(out)\n",
    "        return out\n",
    "        \n",
    "class CNN(nn.Module):\n",
    "    def __init__(self) -> None:\n",
    "        super().__init__()\n",
    "\n",
    "        self.conv1 = nn.Conv2d(1, 16, kernel_size=5, stride=2)\n",
    "        self.conv2 = nn.Conv2d(16, 32, kernel_size=5, stride=2)\n",
    "        self.l1 = nn.Linear(512, 10)\n",
    "\n",
    "    def forward(self, x):\n",
    "        out = self.conv1(x)\n",
    "        out = self.conv2(out)\n",
    "        out = torch.flatten(out, start_dim=1)\n",
    "        out = self.l1(out)\n",
    "        return out\n",
    "        "
   ]
  },
  {
   "cell_type": "code",
   "execution_count": null,
   "metadata": {},
   "outputs": [],
   "source": [
    "from torchvision.datasets import MNIST\n",
    "from torchvision.transforms import ToTensor\n",
    "\n",
    "train_ds = MNIST('/tmp', True, transform=ToTensor(), download=True)\n",
    "test_ds = MNIST('/tmp', False, transform=ToTensor(), download=True)\n",
    "\n",
    "train_loader = torch.utils.data.DataLoader(train_ds, batch_size=256, shuffle=True, drop_last=True)\n",
    "test_loader = torch.utils.data.DataLoader(test_ds, batch_size=256)\n",
    "\n",
    "device='cuda'\n",
    "\n",
    "model = BayesianCNN(prior_sigma=1)\n",
    "model.to(device)\n",
    "optimizer = torch.optim.SGD(model.parameters(), lr=.1, momentum=0.9)\n",
    "trainer = VITrainer(model, optimizer, criterion=nn.CrossEntropyLoss(), kl_temperature=1, device='cuda')\n",
    "train_stats = trainer.train(10, train_loader)\n",
    "train_history = train_stats['train_history']\n",
    "\n",
    "plt.figure(figsize=(15, 5))\n",
    "plt.subplot(131)\n",
    "plt.plot([d['train_loss'] for d in train_history], label='Total', color='green')\n",
    "plt.subplot(132)\n",
    "plt.plot([d['train_nll'] for d in train_history], label='NLL', color='red')\n",
    "plt.subplot(133)\n",
    "plt.plot([d['train_kl_loss'] for d in train_history], label='KL', color='blue')\n",
    "fig.legend(loc='upper center')\n",
    "plt.show()"
   ]
  },
  {
   "cell_type": "code",
   "execution_count": null,
   "metadata": {},
   "outputs": [],
   "source": [
    "trainer.evaluate(test_loader)"
   ]
  },
  {
   "cell_type": "code",
   "execution_count": null,
   "metadata": {},
   "outputs": [],
   "source": []
  }
 ],
 "metadata": {
  "kernelspec": {
   "display_name": "uncertainty_evaluation",
   "language": "python",
   "name": "python3"
  },
  "language_info": {
   "codemirror_mode": {
    "name": "ipython",
    "version": 3
   },
   "file_extension": ".py",
   "mimetype": "text/x-python",
   "name": "python",
   "nbconvert_exporter": "python",
   "pygments_lexer": "ipython3",
   "version": "3.9.13"
  },
  "orig_nbformat": 4
 },
 "nbformat": 4,
 "nbformat_minor": 2
}
