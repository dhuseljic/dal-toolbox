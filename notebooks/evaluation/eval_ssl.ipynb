{
 "cells": [
  {
   "cell_type": "code",
   "execution_count": 1,
   "metadata": {},
   "outputs": [
    {
     "name": "stderr",
     "output_type": "stream",
     "text": [
      "/home/denis/miniconda3/envs/uncertainty_evaluation/lib/python3.9/site-packages/tqdm/auto.py:22: TqdmWarning: IProgress not found. Please update jupyter and ipywidgets. See https://ipywidgets.readthedocs.io/en/stable/user_install.html\n",
      "  from .autonotebook import tqdm as notebook_tqdm\n"
     ]
    }
   ],
   "source": [
    "import os\n",
    "import json\n",
    "import tqdm\n",
    "import yaml\n",
    "\n",
    "import numpy as np\n",
    "import matplotlib.pyplot as plt\n",
    "import pandas as pd\n",
    "\n",
    "from omegaconf import OmegaConf\n",
    "from pathlib import Path\n",
    "from tqdm.auto import tqdm"
   ]
  },
  {
   "cell_type": "code",
   "execution_count": 2,
   "metadata": {},
   "outputs": [
    {
     "name": "stdout",
     "output_type": "stream",
     "text": [
      "CIFAR10\n"
     ]
    }
   ],
   "source": [
    "%%bash\n",
    "mkdir -p results\n",
    "fusermount -uz results\n",
    "sshfs compute.ies:/mnt/work/deep_al/results/ssl results\n",
    "ls results"
   ]
  },
  {
   "cell_type": "code",
   "execution_count": 3,
   "metadata": {},
   "outputs": [],
   "source": [
    "def load_json(json_file):\n",
    "    with open(json_file, 'r') as f:\n",
    "        data = json.load(f)\n",
    "    return data\n",
    "\n",
    "def load_results(path, train_results=False):\n",
    "    path = Path(path)\n",
    "    assert path.is_dir(), 'Path does not exist.'\n",
    "        \n",
    "    results = {}\n",
    "\n",
    "    exp_json = path / 'results.json'\n",
    "    exp_cfg = path / '.hydra' / 'config.yaml'\n",
    "    try:\n",
    "        cfg =  OmegaConf.load(exp_cfg)\n",
    "        data = load_json(exp_json)\n",
    "    except:\n",
    "        print(f'{path} has missing results.')\n",
    "        return\n",
    "\n",
    "    results['cfg'] = cfg\n",
    "    results['results'] = data\n",
    "    return results\n",
    "\n",
    "def collect_results_by_pattern(result_path, glob_pattern, train_results=False):\n",
    "    experiments = []\n",
    "    for exp_path in result_path.glob(glob_pattern):\n",
    "        d = load_results(exp_path, train_results=train_results)\n",
    "        experiments.append(d)\n",
    "    assert len(experiments) != 0, f'No experiments found for {result_path}.'\n",
    "    return experiments"
   ]
  },
  {
   "cell_type": "code",
   "execution_count": 7,
   "metadata": {},
   "outputs": [
    {
     "name": "stderr",
     "output_type": "stream",
     "text": [
      "100%|██████████| 2/2 [00:00<00:00, 12.16it/s]\n"
     ]
    }
   ],
   "source": [
    "dataset = 'CIFAR10'\n",
    "n_labeled_samples = 250\n",
    "experiments = {\n",
    "    'fully_supervised': f'results/{dataset}/wideresnet2810/fully_supervised/{n_labeled_samples}labeled_samples/',\n",
    "    'pseudo_labels': f'results/{dataset}/wideresnet2810/pseudo_labels/{n_labeled_samples}labeled_samples/',\n",
    "    # 'pi_model': f'results/{dataset}/wideresnet2810/pi_model/{n_labeled_samples}labeled_samples/',\n",
    "}\n",
    "\n",
    "aggregated_results = {}\n",
    "for exp_name, exp_path in tqdm(experiments.items()):\n",
    "    # Loads all results by seeds in a list\n",
    "    all_results = collect_results_by_pattern(Path(exp_path), 'seed*')\n",
    "\n",
    "    # aggregate the results\n",
    "    result = []\n",
    "    for results_seed in all_results:\n",
    "        result_dict = results_seed['results']\n",
    "        result.append(result_dict['test_history'][-1])\n",
    "    aggregated_results[exp_name] = result"
   ]
  },
  {
   "cell_type": "code",
   "execution_count": 8,
   "metadata": {},
   "outputs": [
    {
     "data": {
      "text/html": [
       "<div>\n",
       "<style scoped>\n",
       "    .dataframe tbody tr th:only-of-type {\n",
       "        vertical-align: middle;\n",
       "    }\n",
       "\n",
       "    .dataframe tbody tr th {\n",
       "        vertical-align: top;\n",
       "    }\n",
       "\n",
       "    .dataframe thead th {\n",
       "        text-align: right;\n",
       "    }\n",
       "</style>\n",
       "<table border=\"1\" class=\"dataframe\">\n",
       "  <thead>\n",
       "    <tr style=\"text-align: right;\">\n",
       "      <th></th>\n",
       "      <th>test_acc1</th>\n",
       "      <th>test_acc1_std</th>\n",
       "      <th>test_prec</th>\n",
       "      <th>test_prec_std</th>\n",
       "      <th>test_loss</th>\n",
       "      <th>test_loss_std</th>\n",
       "      <th>test_nll</th>\n",
       "      <th>test_nll_std</th>\n",
       "      <th>test_tce</th>\n",
       "      <th>test_tce_std</th>\n",
       "      <th>test_mce</th>\n",
       "      <th>test_mce_std</th>\n",
       "    </tr>\n",
       "  </thead>\n",
       "  <tbody>\n",
       "    <tr>\n",
       "      <th>fully_supervised</th>\n",
       "      <td>40.549998</td>\n",
       "      <td>0.302435</td>\n",
       "      <td>0.403557</td>\n",
       "      <td>0.001637</td>\n",
       "      <td>2.936891</td>\n",
       "      <td>0.014870</td>\n",
       "      <td>2.936891</td>\n",
       "      <td>0.014870</td>\n",
       "      <td>0.398173</td>\n",
       "      <td>0.002260</td>\n",
       "      <td>0.141157</td>\n",
       "      <td>0.000175</td>\n",
       "    </tr>\n",
       "    <tr>\n",
       "      <th>pseudo_labels</th>\n",
       "      <td>42.383333</td>\n",
       "      <td>0.681193</td>\n",
       "      <td>0.422148</td>\n",
       "      <td>0.005609</td>\n",
       "      <td>3.549727</td>\n",
       "      <td>0.072354</td>\n",
       "      <td>3.549727</td>\n",
       "      <td>0.072354</td>\n",
       "      <td>0.438060</td>\n",
       "      <td>0.005338</td>\n",
       "      <td>0.154019</td>\n",
       "      <td>0.002574</td>\n",
       "    </tr>\n",
       "  </tbody>\n",
       "</table>\n",
       "</div>"
      ],
      "text/plain": [
       "                  test_acc1  test_acc1_std  test_prec  test_prec_std  \\\n",
       "fully_supervised  40.549998       0.302435   0.403557       0.001637   \n",
       "pseudo_labels     42.383333       0.681193   0.422148       0.005609   \n",
       "\n",
       "                  test_loss  test_loss_std  test_nll  test_nll_std  test_tce  \\\n",
       "fully_supervised   2.936891       0.014870  2.936891      0.014870  0.398173   \n",
       "pseudo_labels      3.549727       0.072354  3.549727      0.072354  0.438060   \n",
       "\n",
       "                  test_tce_std  test_mce  test_mce_std  \n",
       "fully_supervised      0.002260  0.141157      0.000175  \n",
       "pseudo_labels         0.005338  0.154019      0.002574  "
      ]
     },
     "execution_count": 8,
     "metadata": {},
     "output_type": "execute_result"
    }
   ],
   "source": [
    "avg_results = {}\n",
    "for exp_name in aggregated_results:\n",
    "    results_per_seed = aggregated_results[exp_name]\n",
    "    keys = results_per_seed[0].keys()\n",
    "    avg_result = {}\n",
    "    for key in keys:\n",
    "        avg_result[key] = np.mean([d[key] for d in results_per_seed])\n",
    "        avg_result[key + '_std'] = np.std([d[key] for d in results_per_seed])\n",
    "    avg_results[exp_name] = avg_result\n",
    "\n",
    "df = pd.DataFrame(avg_results).T\n",
    "df\n",
    "# USB benchmark\n",
    "# fully_supervised : 22.82 \n",
    "# pseudo label     : 24.05 \n",
    "# pi model         : 24.42 "
   ]
  },
  {
   "cell_type": "code",
   "execution_count": null,
   "metadata": {},
   "outputs": [],
   "source": []
  }
 ],
 "metadata": {
  "kernelspec": {
   "display_name": "uncertainty_evaluation",
   "language": "python",
   "name": "python3"
  },
  "language_info": {
   "codemirror_mode": {
    "name": "ipython",
    "version": 3
   },
   "file_extension": ".py",
   "mimetype": "text/x-python",
   "name": "python",
   "nbconvert_exporter": "python",
   "pygments_lexer": "ipython3",
   "version": "3.9.13 (main, Aug 25 2022, 23:26:10) \n[GCC 11.2.0]"
  },
  "orig_nbformat": 4,
  "vscode": {
   "interpreter": {
    "hash": "dfeabd65c26caef9e4834d0951a792d9f59ccda2d72b0cad1a1a6596669e4d0e"
   }
  }
 },
 "nbformat": 4,
 "nbformat_minor": 2
}
