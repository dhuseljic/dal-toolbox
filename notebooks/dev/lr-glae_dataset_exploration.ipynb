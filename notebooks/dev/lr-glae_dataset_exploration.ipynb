{
 "cells": [
  {
   "cell_type": "code",
   "execution_count": 3,
   "metadata": {},
   "outputs": [],
   "source": [
    " import os\n",
    "os.chdir(\"/home/lukas/projects/uncertainty-evaluation\")\n",
    "from collections import Counter"
   ]
  },
  {
   "cell_type": "code",
   "execution_count": 2,
   "metadata": {},
   "outputs": [
    {
     "name": "stderr",
     "output_type": "stream",
     "text": [
      "/home/lukas/miniconda3/envs/uncertainty_evaluation/lib/python3.9/site-packages/tqdm/auto.py:22: TqdmWarning: IProgress not found. Please update jupyter and ipywidgets. See https://ipywidgets.readthedocs.io/en/stable/user_install.html\n",
      "  from .autonotebook import tqdm as notebook_tqdm\n"
     ]
    }
   ],
   "source": [
    "from datasets import load_dataset\n",
    "import numpy as np \n",
    "import matplotlib.pyplot as plt \n",
    "from collections import Counter\n",
    "import matplotlib.pyplot as plt "
   ]
  },
  {
   "attachments": {},
   "cell_type": "markdown",
   "metadata": {},
   "source": [
    "**Agnews**"
   ]
  },
  {
   "cell_type": "code",
   "execution_count": 16,
   "metadata": {},
   "outputs": [
    {
     "name": "stderr",
     "output_type": "stream",
     "text": [
      "Found cached dataset ag_news (/home/lukas/.cache/huggingface/datasets/ag_news/default/0.0.0/bc2bcb40336ace1a0374767fc29bb0296cdaf8a6da7298436239c54d79180548)\n",
      "100%|██████████| 2/2 [00:00<00:00, 739.08it/s]"
     ]
    },
    {
     "name": "stdout",
     "output_type": "stream",
     "text": [
      "Train: 120000\n",
      "Counter({2: 30000, 3: 30000, 1: 30000, 0: 30000})\n",
      "------------------------------------------------------------\n",
      "Test: 7600\n",
      "Counter({2: 1900, 3: 1900, 1: 1900, 0: 1900})\n",
      "------------------------------------------------------------\n",
      "Wall St. Bears Claw Back Into the Black (Reuters) Reuters - Short-sellers, Wall Street's dwindling\\band of ultra-cynics, are seeing green again.\n"
     ]
    },
    {
     "name": "stderr",
     "output_type": "stream",
     "text": [
      "\n"
     ]
    }
   ],
   "source": [
    "ds = load_dataset(\"ag_news\")\n",
    "train_ds = ds['train']\n",
    "test_ds = ds['test']\n",
    "\n",
    "print(\"Train:\", len(train_ds))\n",
    "print(Counter(train_ds[\"label\"]))\n",
    "print(\"--\"*30)\n",
    "print(\"Test:\", len(test_ds))\n",
    "print(Counter(test_ds[\"label\"]))\n",
    "print(\"--\"*30)\n",
    "print(train_ds[0][\"text\"])"
   ]
  },
  {
   "attachments": {},
   "cell_type": "markdown",
   "metadata": {},
   "source": [
    "**Banks77**"
   ]
  },
  {
   "cell_type": "code",
   "execution_count": 19,
   "metadata": {},
   "outputs": [
    {
     "name": "stderr",
     "output_type": "stream",
     "text": [
      "Found cached dataset banking77 (/home/lukas/.cache/huggingface/datasets/banking77/default/1.1.0/ff44c4421d7e70aa810b0fa79d36908a38b87aff8125d002cd44f7fcd31f493c)\n",
      "100%|██████████| 2/2 [00:00<00:00, 902.97it/s]"
     ]
    },
    {
     "name": "stdout",
     "output_type": "stream",
     "text": [
      "Train: 10003\n",
      "Counter({15: 187, 28: 182, 6: 181, 75: 180, 19: 177, 63: 175, 26: 173, 64: 172, 66: 171, 5: 171, 52: 169, 16: 168, 17: 167, 34: 166, 76: 163, 51: 162, 53: 161, 20: 160, 45: 159, 0: 159, 8: 157, 7: 156, 11: 153, 25: 153, 47: 149, 48: 148, 61: 146, 59: 145, 46: 143, 13: 139, 35: 137, 73: 135, 27: 133, 54: 129, 39: 129, 9: 129, 24: 129, 67: 128, 4: 127, 36: 126, 71: 126, 2: 126, 21: 122, 30: 121, 74: 121, 29: 121, 42: 121, 31: 121, 43: 120, 33: 118, 49: 115, 58: 114, 57: 114, 70: 113, 65: 113, 32: 112, 12: 112, 14: 112, 56: 111, 1: 110, 55: 108, 38: 106, 44: 105, 69: 104, 62: 103, 68: 102, 40: 98, 60: 97, 37: 97, 50: 95, 3: 87, 22: 86, 41: 82, 18: 61, 10: 59, 72: 41, 23: 35})\n"
     ]
    },
    {
     "name": "stderr",
     "output_type": "stream",
     "text": [
      "\n"
     ]
    },
    {
     "data": {
      "image/png": "[encoded data removed]",
      "text/plain": [
       "<Figure size 640x480 with 1 Axes>"
      ]
     },
     "metadata": {},
     "output_type": "display_data"
    },
    {
     "name": "stdout",
     "output_type": "stream",
     "text": [
      "------------------------------------------------------------\n",
      "Test: 3080\n",
      "Counter({11: 40, 13: 40, 32: 40, 17: 40, 34: 40, 46: 40, 36: 40, 12: 40, 4: 40, 14: 40, 33: 40, 41: 40, 1: 40, 49: 40, 23: 40, 56: 40, 47: 40, 8: 40, 60: 40, 75: 40, 15: 40, 66: 40, 54: 40, 40: 40, 10: 40, 61: 40, 6: 40, 16: 40, 30: 40, 74: 40, 68: 40, 38: 40, 73: 40, 62: 40, 29: 40, 22: 40, 3: 40, 28: 40, 44: 40, 26: 40, 45: 40, 42: 40, 52: 40, 27: 40, 51: 40, 25: 40, 48: 40, 55: 40, 18: 40, 63: 40, 70: 40, 67: 40, 53: 40, 21: 40, 7: 40, 64: 40, 50: 40, 35: 40, 65: 40, 71: 40, 39: 40, 58: 40, 43: 40, 72: 40, 76: 40, 37: 40, 59: 40, 5: 40, 20: 40, 31: 40, 57: 40, 0: 40, 19: 40, 9: 40, 2: 40, 69: 40, 24: 40})\n",
      "------------------------------------------------------------\n",
      "I am still waiting on my card?\n"
     ]
    }
   ],
   "source": [
    "ds = load_dataset(\"banking77\")\n",
    "train_ds = ds['train']\n",
    "test_ds = ds['test']\n",
    "\n",
    "print(\"Train:\", len(train_ds))\n",
    "print(Counter(train_ds[\"label\"]))\n",
    "plt.bar(*zip(*Counter(train_ds[\"label\"]).items()))\n",
    "plt.show()\n",
    "print(\"--\"*30)\n",
    "print(\"Test:\", len(test_ds))\n",
    "print(Counter(test_ds[\"label\"]))\n",
    "print(\"--\"*30)\n",
    "print(train_ds[0][\"text\"])"
   ]
  },
  {
   "attachments": {},
   "cell_type": "markdown",
   "metadata": {},
   "source": [
    "**DBPedia**"
   ]
  },
  {
   "cell_type": "code",
   "execution_count": 22,
   "metadata": {},
   "outputs": [
    {
     "name": "stderr",
     "output_type": "stream",
     "text": [
      "Found cached dataset dbpedia_14 (/home/lukas/.cache/huggingface/datasets/dbpedia_14/dbpedia_14/2.0.0/01dab9e10d969eadcdbc918be5a09c9190a24caeae33b10eee8f367a1e3f1f0c)\n",
      "100%|██████████| 2/2 [00:00<00:00, 325.64it/s]"
     ]
    },
    {
     "name": "stdout",
     "output_type": "stream",
     "text": [
      "Train: 560000\n",
      "Counter({0: 40000, 1: 40000, 2: 40000, 3: 40000, 4: 40000, 5: 40000, 6: 40000, 7: 40000, 8: 40000, 9: 40000, 10: 40000, 11: 40000, 12: 40000, 13: 40000})\n",
      "------------------------------------------------------------\n",
      "Test: 70000\n",
      "Counter({0: 5000, 1: 5000, 2: 5000, 3: 5000, 4: 5000, 5: 5000, 6: 5000, 7: 5000, 8: 5000, 9: 5000, 10: 5000, 11: 5000, 12: 5000, 13: 5000})\n",
      "------------------------------------------------------------\n",
      " Abbott of Farnham E D Abbott Limited was a British coachbuilding business based in Farnham Surrey trading under that name from 1929. A major part of their output was under sub-contract to motor vehicle manufacturers. Their business closed in 1972.\n"
     ]
    },
    {
     "name": "stderr",
     "output_type": "stream",
     "text": [
      "\n"
     ]
    }
   ],
   "source": [
    "ds = load_dataset(\"dbpedia_14\")\n",
    "train_ds = ds['train']\n",
    "test_ds = ds['test']\n",
    "\n",
    "print(\"Train:\", len(train_ds))\n",
    "print(Counter(train_ds[\"label\"]))\n",
    "# plt.bar(*zip(*Counter(train_ds[\"label\"]).items()))\n",
    "# plt.show()\n",
    "print(\"--\"*30)\n",
    "print(\"Test:\", len(test_ds))\n",
    "print(Counter(test_ds[\"label\"]))\n",
    "print(\"--\"*30)\n",
    "print(train_ds[0][\"content\"])"
   ]
  },
  {
   "attachments": {},
   "cell_type": "markdown",
   "metadata": {},
   "source": [
    "**fnc1**"
   ]
  },
  {
   "cell_type": "code",
   "execution_count": 26,
   "metadata": {},
   "outputs": [
    {
     "name": "stderr",
     "output_type": "stream",
     "text": [
      "Using custom data configuration nid989--FNC-1-f270ac23672eeb8d\n",
      "Found cached dataset csv (/home/lukas/.cache/huggingface/datasets/nid989___csv/nid989--FNC-1-f270ac23672eeb8d/0.0.0/6b34fb8fcf56f7c8ba51dc895bfa2bfbe43546f190a60fcf74bb5e8afdcc2317)\n",
      "100%|██████████| 3/3 [00:00<00:00, 1391.92it/s]"
     ]
    },
    {
     "name": "stdout",
     "output_type": "stream",
     "text": [
      "Train: 40476\n",
      "Counter({3: 29544, 2: 7234, 0: 3018, 1: 680})\n"
     ]
    },
    {
     "name": "stderr",
     "output_type": "stream",
     "text": [
      "\n"
     ]
    },
    {
     "data": {
      "image/png": "[encoded data removed]",
      "text/plain": [
       "<Figure size 640x480 with 1 Axes>"
      ]
     },
     "metadata": {},
     "output_type": "display_data"
    },
    {
     "name": "stdout",
     "output_type": "stream",
     "text": [
      "------------------------------------------------------------\n",
      "Test: 4998\n",
      "Counter({3: 3699, 2: 888, 0: 336, 1: 75})\n",
      "------------------------------------------------------------\n",
      "CNN Plays Alleged Audiotape of Michael Brown ShootingMilitarization Of Police\n",
      "An unverified audio recording may captured shooting Michael Brown investigated FBI, according report. News recording surfaced revealed CNN, although network said independently confirmed alleged gunshots heard tape shooting unarmed 18-year-old Ferguson, Missouri, Aug. 9. In recording, man identified heard speaking series gunshots heard background. There quick pause another round gunshots fired. According CNN, man lives near Brown killed talking friend online time, ambient sound recorded. The man didn’t realize recorded initially later became aware could tied Brown case. According Lopa Blumenthal, lawyer representing man made recording, tape could “huge relevance case might finally end up.”\n"
     ]
    },
    {
     "data": {
      "image/png": "[encoded data removed]",
      "text/plain": [
       "<Figure size 640x480 with 1 Axes>"
      ]
     },
     "metadata": {},
     "output_type": "display_data"
    }
   ],
   "source": [
    "ds = load_dataset(\"nid989/FNC-1\")\n",
    "train_ds = ds['train']\n",
    "test_ds = ds['test']\n",
    "\n",
    "print(\"Train:\", len(train_ds))\n",
    "print(Counter(train_ds[\"Stance\"]))\n",
    "plt.bar(*zip(*Counter(train_ds[\"Stance\"]).items()))\n",
    "plt.show()\n",
    "print(\"--\"*30)\n",
    "print(\"Test:\", len(test_ds))\n",
    "print(Counter(test_ds[\"Stance\"]))\n",
    "print(\"--\"*30)\n",
    "print(train_ds[0][\"Headline\"])\n",
    "print(train_ds[0]['articleBody'])\n",
    "plt.bar(*zip(*Counter(test_ds[\"Stance\"]).items()))\n",
    "plt.show()"
   ]
  },
  {
   "attachments": {},
   "cell_type": "markdown",
   "metadata": {},
   "source": [
    "**mnli**"
   ]
  },
  {
   "cell_type": "code",
   "execution_count": 29,
   "metadata": {},
   "outputs": [
    {
     "name": "stderr",
     "output_type": "stream",
     "text": [
      "Found cached dataset multi_nli (/home/lukas/.cache/huggingface/datasets/multi_nli/default/0.0.0/591f72eb6263d1ab527561777936b199b714cda156d35716881158a2bd144f39)\n",
      "100%|██████████| 3/3 [00:00<00:00, 529.87it/s]"
     ]
    },
    {
     "name": "stdout",
     "output_type": "stream",
     "text": [
      "Train: 392702\n",
      "Counter({2: 130903, 1: 130900, 0: 130899})\n",
      "------------------------------------------------------------\n",
      "Test: 9815\n",
      "Counter({0: 3479, 2: 3213, 1: 3123})\n",
      "------------------------------------------------------------\n",
      "Conceptually cream skimming has two basic dimensions - product and geography.\n",
      "Product and geography are what make cream skimming work. \n"
     ]
    },
    {
     "name": "stderr",
     "output_type": "stream",
     "text": [
      "\n"
     ]
    }
   ],
   "source": [
    "ds = load_dataset(\"multi_nli\")\n",
    "train_ds = ds['train']\n",
    "test_ds = ds['validation_matched']\n",
    "\n",
    "print(\"Train:\", len(train_ds))\n",
    "print(Counter(train_ds[\"label\"]))\n",
    "# plt.bar(*zip(*Counter(train_ds[\"label\"]).items()))\n",
    "# plt.show()\n",
    "print(\"--\"*30)\n",
    "print(\"Test:\", len(test_ds))\n",
    "print(Counter(test_ds[\"label\"]))\n",
    "print(\"--\"*30)\n",
    "print(train_ds[0][\"premise\"])\n",
    "print(train_ds[0][\"hypothesis\"])"
   ]
  },
  {
   "attachments": {},
   "cell_type": "markdown",
   "metadata": {},
   "source": [
    "**wikitalk**"
   ]
  },
  {
   "cell_type": "code",
   "execution_count": 33,
   "metadata": {},
   "outputs": [
    {
     "name": "stderr",
     "output_type": "stream",
     "text": [
      "Using custom data configuration default-724e79923b06c83a\n",
      "Found cached dataset jigsaw_toxicity_pred (/home/lukas/.cache/huggingface/datasets/jigsaw_toxicity_pred/default-724e79923b06c83a/1.1.0/9cf096ac4341c35839bc8a9f6a19d93e18e5ad3d84cf05f690d2bc6f7384af85)\n",
      "100%|██████████| 2/2 [00:00<00:00, 602.02it/s]"
     ]
    },
    {
     "name": "stdout",
     "output_type": "stream",
     "text": [
      "Train: 159571\n",
      "Counter({0: 144277, 1: 15294})\n"
     ]
    },
    {
     "name": "stderr",
     "output_type": "stream",
     "text": [
      "\n"
     ]
    },
    {
     "data": {
      "image/png": "[encoded data removed]",
      "text/plain": [
       "<Figure size 640x480 with 1 Axes>"
      ]
     },
     "metadata": {},
     "output_type": "display_data"
    },
    {
     "name": "stdout",
     "output_type": "stream",
     "text": [
      "------------------------------------------------------------\n",
      "Test: 63978\n",
      "Counter({0: 57888, 1: 6090})\n",
      "------------------------------------------------------------\n",
      "Explanation\n",
      "Why the edits made under my username Hardcore Metallica Fan were reverted? They weren't vandalisms, just closure on some GAs after I voted at New York Dolls FAC. And please don't remove the template from the talk page since I'm retired now.89.205.38.27\n"
     ]
    },
    {
     "data": {
      "image/png": "[encoded data removed]",
      "text/plain": [
       "<Figure size 640x480 with 1 Axes>"
      ]
     },
     "metadata": {},
     "output_type": "display_data"
    }
   ],
   "source": [
    "ds = load_dataset('jigsaw_toxicity_pred', data_dir= '~/.cache/huggingface/manual_ds/jigsaw_toxicity_pred')\n",
    "train_ds = ds['train']\n",
    "test_ds = ds['test']\n",
    "\n",
    "print(\"Train:\", len(train_ds))\n",
    "print(Counter(train_ds[\"toxic\"]))\n",
    "plt.bar(*zip(*Counter(train_ds[\"toxic\"]).items()))\n",
    "plt.show()\n",
    "print(\"--\"*30)\n",
    "print(\"Test:\", len(test_ds))\n",
    "print(Counter(test_ds[\"toxic\"]))\n",
    "print(\"--\"*30)\n",
    "print(train_ds[0][\"comment_text\"])\n",
    "plt.bar(*zip(*Counter(test_ds[\"toxic\"]).items()))\n",
    "plt.show()"
   ]
  },
  {
   "cell_type": "code",
   "execution_count": 4,
   "metadata": {},
   "outputs": [
    {
     "name": "stderr",
     "output_type": "stream",
     "text": [
      "Downloading builder script: 100%|██████████| 4.95k/4.95k [00:00<00:00, 5.41MB/s]\n",
      "Downloading metadata: 100%|██████████| 2.94k/2.94k [00:00<00:00, 2.29MB/s]\n",
      "Downloading readme: 100%|██████████| 6.56k/6.56k [00:00<00:00, 5.33MB/s]\n"
     ]
    },
    {
     "name": "stdout",
     "output_type": "stream",
     "text": [
      "Downloading and preparing dataset snips_built_in_intents/default to /home/lukas/.cache/huggingface/datasets/snips_built_in_intents/default/0.0.0/f7f10213b60cb830d41cb190315da7151437d62acb6f21f0159f7afb4cb7c784...\n"
     ]
    },
    {
     "name": "stderr",
     "output_type": "stream",
     "text": [
      "Downloading data: 9.13MB [00:00, 671MB/s]                   \n"
     ]
    },
    {
     "name": "stdout",
     "output_type": "stream",
     "text": [
      "Dataset snips_built_in_intents downloaded and prepared to /home/lukas/.cache/huggingface/datasets/snips_built_in_intents/default/0.0.0/f7f10213b60cb830d41cb190315da7151437d62acb6f21f0159f7afb4cb7c784. Subsequent calls will reuse this data.\n"
     ]
    },
    {
     "name": "stderr",
     "output_type": "stream",
     "text": [
      "100%|██████████| 1/1 [00:00<00:00, 968.44it/s]\n"
     ]
    }
   ],
   "source": [
    "ds = load_dataset(\"snips_built_in_intents\")\n",
    "# train_ds = ds['train']\n",
    "# test_ds = ds['validation_matched']\n",
    "\n",
    "# print(\"Train:\", len(train_ds))\n",
    "# print(Counter(train_ds[\"label\"]))\n",
    "# # plt.bar(*zip(*Counter(train_ds[\"label\"]).items()))\n",
    "# # plt.show()\n",
    "# print(\"--\"*30)\n",
    "# print(\"Test:\", len(test_ds))\n",
    "# print(Counter(test_ds[\"label\"]))\n",
    "# print(\"--\"*30)\n",
    "# print(train_ds[0][\"premise\"])\n",
    "# print(train_ds[0][\"hypothesis\"])"
   ]
  },
  {
   "cell_type": "code",
   "execution_count": 6,
   "metadata": {},
   "outputs": [
    {
     "data": {
      "text/plain": [
       "DatasetDict({\n",
       "    train: Dataset({\n",
       "        features: ['text', 'label'],\n",
       "        num_rows: 328\n",
       "    })\n",
       "})"
      ]
     },
     "execution_count": 6,
     "metadata": {},
     "output_type": "execute_result"
    }
   ],
   "source": [
    "ds"
   ]
  }
 ],
 "metadata": {
  "kernelspec": {
   "display_name": "uncertainty_evaluation",
   "language": "python",
   "name": "python3"
  },
  "language_info": {
   "codemirror_mode": {
    "name": "ipython",
    "version": 3
   },
   "file_extension": ".py",
   "mimetype": "text/x-python",
   "name": "python",
   "nbconvert_exporter": "python",
   "pygments_lexer": "ipython3",
   "version": "3.9.13 (main, Aug 25 2022, 23:26:10) \n[GCC 11.2.0]"
  },
  "orig_nbformat": 4,
  "vscode": {
   "interpreter": {
    "hash": "a137b31766c80c5452d7d9b60b414c324543bfb57a3d2aa6a963cb3743a9144f"
   }
  }
 },
 "nbformat": 4,
 "nbformat_minor": 2
}
