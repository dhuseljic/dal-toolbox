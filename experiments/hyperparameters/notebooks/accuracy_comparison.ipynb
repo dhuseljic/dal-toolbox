{
 "cells": [
  {
   "cell_type": "code",
   "execution_count": 46,
   "metadata": {},
   "outputs": [],
   "source": [
    "import os\n",
    "import json\n",
    "import pandas as pd\n",
    "from tqdm.notebook import tqdm\n",
    "from pathlib import Path\n",
    "import numpy as np"
   ]
  },
  {
   "cell_type": "code",
   "execution_count": 47,
   "metadata": {},
   "outputs": [
    {
     "name": "stdout",
     "output_type": "stream",
     "text": [
      "data/random/lr0.01_wd0.005/seed1/results.json\n",
      "data/random/lr0.01_wd0.005/seed2/results.json\n",
      "data/random/lr0.001_wd0.005/seed1/results.json\n",
      "data/random/lr0.001_wd0.005/seed2/results.json\n",
      "data/random/lr0.001_wd0.05/seed1/results.json\n",
      "data/random/lr0.001_wd0.05/seed2/results.json\n",
      "data/random/lr0.001_wd0.0005/seed1/results.json\n",
      "data/random/lr0.001_wd0.0005/seed2/results.json\n",
      "data/random/lr0.01_wd0.0005/seed1/results.json\n",
      "data/random/lr0.01_wd0.0005/seed2/results.json\n",
      "data/random/lr0.01_wd0.05/seed1/results.json\n",
      "data/random/lr0.01_wd0.05/seed2/results.json\n",
      "data/random/lr0.1_wd0.005/seed1/results.json\n",
      "data/random/lr0.1_wd0.005/seed2/results.json\n",
      "data/random/lr0.1_wd0.05/seed1/results.json\n",
      "data/random/lr0.1_wd0.05/seed2/results.json\n",
      "data/random/lr0.1_wd0.0005/seed1/results.json\n",
      "data/random/lr0.1_wd0.0005/seed2/results.json\n"
     ]
    }
   ],
   "source": [
    "root_path = Path('./data/random/')\n",
    "results = {}\n",
    "\n",
    "for subdir, dirs, files in os.walk(root_path):\n",
    "    for file in files:\n",
    "        if file == 'results.json':\n",
    "            print(os.path.join(subdir, file))\n",
    "            _, query, params, seed = subdir.split('/')\n",
    "            if query not in results:\n",
    "                results[query] = {}\n",
    "\n",
    "            if params not in results[query]:\n",
    "                results[query][params] = {}\n",
    "\n",
    "            with open(subdir + '/' + 'results.json', 'r') as f:\n",
    "                res = json.load(f)\n",
    "            results[query][params][seed] = res"
   ]
  },
  {
   "cell_type": "code",
   "execution_count": 48,
   "metadata": {},
   "outputs": [],
   "source": [
    "test_accuracys = {}\n",
    "\n",
    "for query in results:\n",
    "    test_accuracys[query] = {}\n",
    "    for params in results[query]:\n",
    "        test_accuracys[query][params] = []\n",
    "        for seed in results[query][params]:\n",
    "            # Find optimal run\n",
    "            best_acc = -1\n",
    "            for trial in results[query][params][seed]['ray-results']:\n",
    "                if 'test_acc' in trial['res']:\n",
    "                    if trial['res']['test_acc'] > best_acc:\n",
    "                        best_acc = trial['res']['test_acc']\n",
    "            test_accuracys[query][params].append(best_acc*100)"
   ]
  },
  {
   "cell_type": "code",
   "execution_count": 49,
   "metadata": {},
   "outputs": [
    {
     "data": {
      "text/plain": [
       "{'random': {'lr0.01_wd0.005': [83.49999785423279, 83.48000049591064],\n",
       "  'lr0.001_wd0.005': [83.52000117301941, 83.27000141143799],\n",
       "  'lr0.001_wd0.05': [82.96999931335449, 83.31000208854675],\n",
       "  'lr0.001_wd0.0005': [82.95000195503235, 83.05000066757202],\n",
       "  'lr0.01_wd0.0005': [83.06999802589417, 83.12000036239624],\n",
       "  'lr0.01_wd0.05': [83.27000141143799, 83.17999839782715],\n",
       "  'lr0.1_wd0.005': [83.37000012397766, 83.17999839782715],\n",
       "  'lr0.1_wd0.05': [83.24000239372253, 83.45000147819519],\n",
       "  'lr0.1_wd0.0005': [83.56000185012817, 83.31000208854675]}}"
      ]
     },
     "execution_count": 49,
     "metadata": {},
     "output_type": "execute_result"
    }
   ],
   "source": [
    "test_accuracys"
   ]
  },
  {
   "cell_type": "code",
   "execution_count": 50,
   "metadata": {},
   "outputs": [
    {
     "data": {
      "text/html": [
       "<div>\n",
       "<style scoped>\n",
       "    .dataframe tbody tr th:only-of-type {\n",
       "        vertical-align: middle;\n",
       "    }\n",
       "\n",
       "    .dataframe tbody tr th {\n",
       "        vertical-align: top;\n",
       "    }\n",
       "\n",
       "    .dataframe thead th {\n",
       "        text-align: right;\n",
       "    }\n",
       "</style>\n",
       "<table border=\"1\" class=\"dataframe\">\n",
       "  <thead>\n",
       "    <tr style=\"text-align: right;\">\n",
       "      <th></th>\n",
       "      <th>random</th>\n",
       "    </tr>\n",
       "  </thead>\n",
       "  <tbody>\n",
       "    <tr>\n",
       "      <th>lr0.001_wd0.0005</th>\n",
       "      <td>83.0 +/- 0.05</td>\n",
       "    </tr>\n",
       "    <tr>\n",
       "      <th>lr0.001_wd0.005</th>\n",
       "      <td>83.395 +/- 0.125</td>\n",
       "    </tr>\n",
       "    <tr>\n",
       "      <th>lr0.001_wd0.05</th>\n",
       "      <td>83.14 +/- 0.17</td>\n",
       "    </tr>\n",
       "    <tr>\n",
       "      <th>lr0.01_wd0.0005</th>\n",
       "      <td>83.095 +/- 0.025</td>\n",
       "    </tr>\n",
       "    <tr>\n",
       "      <th>lr0.01_wd0.005</th>\n",
       "      <td>83.49 +/- 0.01</td>\n",
       "    </tr>\n",
       "    <tr>\n",
       "      <th>lr0.01_wd0.05</th>\n",
       "      <td>83.225 +/- 0.045</td>\n",
       "    </tr>\n",
       "    <tr>\n",
       "      <th>lr0.1_wd0.0005</th>\n",
       "      <td>83.435 +/- 0.125</td>\n",
       "    </tr>\n",
       "    <tr>\n",
       "      <th>lr0.1_wd0.005</th>\n",
       "      <td>83.275 +/- 0.095</td>\n",
       "    </tr>\n",
       "    <tr>\n",
       "      <th>lr0.1_wd0.05</th>\n",
       "      <td>83.345 +/- 0.105</td>\n",
       "    </tr>\n",
       "  </tbody>\n",
       "</table>\n",
       "</div>"
      ],
      "text/plain": [
       "                            random\n",
       "lr0.001_wd0.0005     83.0 +/- 0.05\n",
       "lr0.001_wd0.005   83.395 +/- 0.125\n",
       "lr0.001_wd0.05      83.14 +/- 0.17\n",
       "lr0.01_wd0.0005   83.095 +/- 0.025\n",
       "lr0.01_wd0.005      83.49 +/- 0.01\n",
       "lr0.01_wd0.05     83.225 +/- 0.045\n",
       "lr0.1_wd0.0005    83.435 +/- 0.125\n",
       "lr0.1_wd0.005     83.275 +/- 0.095\n",
       "lr0.1_wd0.05      83.345 +/- 0.105"
      ]
     },
     "execution_count": 50,
     "metadata": {},
     "output_type": "execute_result"
    }
   ],
   "source": [
    "df = {}\n",
    "for query in test_accuracys:\n",
    "    df[query] = {}\n",
    "    for params in test_accuracys[query]:\n",
    "        df[query][params] = str(np.mean(test_accuracys[query][params]).round(4)) + ' +/- ' + str(np.std(test_accuracys[query][params]).round(4))\n",
    "pd.DataFrame(df)"
   ]
  },
  {
   "cell_type": "code",
   "execution_count": null,
   "metadata": {},
   "outputs": [],
   "source": []
  }
 ],
 "metadata": {
  "kernelspec": {
   "display_name": "dal-toolbox",
   "language": "python",
   "name": "python3"
  },
  "language_info": {
   "codemirror_mode": {
    "name": "ipython",
    "version": 3
   },
   "file_extension": ".py",
   "mimetype": "text/x-python",
   "name": "python",
   "nbconvert_exporter": "python",
   "pygments_lexer": "ipython3",
   "version": "3.9.16"
  },
  "orig_nbformat": 4
 },
 "nbformat": 4,
 "nbformat_minor": 2
}
