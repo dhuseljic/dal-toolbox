{
 "cells": [
  {
   "cell_type": "code",
   "execution_count": 1,
   "metadata": {},
   "outputs": [],
   "source": [
    "# Imports\n",
    "import os\n",
    "import json\n",
    "import tqdm\n",
    "import yaml\n",
    "\n",
    "import numpy as np\n",
    "import matplotlib.pyplot as plt\n",
    "\n",
    "from pathlib import Path"
   ]
  },
  {
   "cell_type": "code",
   "execution_count": 15,
   "metadata": {},
   "outputs": [
    {
     "name": "stdout",
     "output_type": "stream",
     "text": [
      "/home/phahn/uncertainty-evaluation/experiments/notebooks/evaluation\n"
     ]
    },
    {
     "name": "stderr",
     "output_type": "stream",
     "text": [
      "100%|██████████| 5/5 [00:00<00:00, 102.66it/s]\n",
      "100%|██████████| 8/8 [00:00<00:00, 106.50it/s]\n"
     ]
    }
   ],
   "source": [
    "# Load all results and args into this dictionary\n",
    "print(os.getcwd())\n",
    "#model_names = ['WRS2810-40-HL', 'WRS2810-40-SL', 'WRS2810-250-HL', 'WRS2810-250-SL', 'WRS2810-4000-HL', 'WRS2810-4000-SL']\n",
    "model_names = ['WRS2810-40-HL', 'WRS2810-40-SL']\n",
    "root_path = Path('../../../results/ssl/')\n",
    "\n",
    "results = {mn:{} for mn in model_names}\n",
    "\n",
    "for model_name in model_names:\n",
    "    paths = sorted(list(root_path.glob(model_name+\"*\")))\n",
    "    for path in tqdm.tqdm(paths):\n",
    "        with open(path / 'results.json', 'r') as f:\n",
    "            run_results = json.load(f)\n",
    "        with open(path / '.hydra/config.yaml') as g:\n",
    "            conf = yaml.load(g, Loader=yaml.FullLoader)\n",
    "\n",
    "        results[model_name][path.stem[-1]] = {'results': run_results, 'args': conf}"
   ]
  },
  {
   "cell_type": "code",
   "execution_count": 34,
   "metadata": {},
   "outputs": [],
   "source": [
    "metrics_to_be_evaluated = {\n",
    "    'train_history' : ['train_acc1', 'train_total_loss'],\n",
    "    'test_history' : ['test_acc1', 'test_loss']\n",
    "}\n",
    "\n",
    "metrics_single = {}\n",
    "metrics_mean = {}\n",
    "metrics_std = {}\n",
    "\n",
    "\n",
    "for model_name in model_names:\n",
    "    metrics_single[model_name] = {}\n",
    "    metrics_mean[model_name] = {}\n",
    "    metrics_std[model_name] = {}\n",
    "    for history, metrics in metrics_to_be_evaluated.items():\n",
    "        for metric in metrics:\n",
    "            metrics_single[model_name][metric] = {}\n",
    "            metric_values_all = []\n",
    "            for seed, run_results in results[model_name].items():\n",
    "                metric_values = []\n",
    "                for iteration in run_results['results'][history]:\n",
    "                    metric_values.append(iteration[metric])\n",
    "                metrics_single[model_name][metric][seed] = metric_values\n",
    "                metric_values_all.append(metric_values)\n",
    "            metrics_mean[model_name][metric] = np.mean(np.array(metric_values_all), axis=0)\n",
    "            metrics_std[model_name][metric] = np.std(np.array(metric_values_all), axis=0)"
   ]
  },
  {
   "cell_type": "code",
   "execution_count": 35,
   "metadata": {},
   "outputs": [
    {
     "data": {
      "image/png": "[encoded data removed]",
      "text/plain": [
       "<Figure size 360x360 with 1 Axes>"
      ]
     },
     "metadata": {},
     "output_type": "display_data"
    }
   ],
   "source": [
    "# Choice of Demonstration for test stats\n",
    "metric = 'train_acc1'\n",
    "show_std = True\n",
    "\n",
    "fig = plt.figure(figsize=(5,5), facecolor='silver', edgecolor='black', tight_layout=True)\n",
    "\n",
    "for model, label in zip(model_names, model_names):\n",
    "    plt.plot(metrics_mean[model][metric], label=label)\n",
    "    if show_std:\n",
    "        plt.fill_between(\n",
    "            x=[i for i in range(len(metrics_mean[model][metric]))], \n",
    "            y1=metrics_mean[model][metric]+abs(metrics_std[model][metric]), \n",
    "            y2=metrics_mean[model][metric]-abs(metrics_std[model][metric]),\n",
    "            alpha=0.25,\n",
    "            edgecolor='#1B2ACC', \n",
    "            )\n",
    "plt.legend(loc='lower right')\n",
    "plt.xlim(0, len(metrics_mean[model][metric])-1)\n",
    "plt.xlabel('epoch')\n",
    "plt.ylabel(metric)\n",
    "plt.show()"
   ]
  },
  {
   "cell_type": "code",
   "execution_count": null,
   "metadata": {},
   "outputs": [],
   "source": []
  }
 ],
 "metadata": {
  "kernelspec": {
   "display_name": "torchal",
   "language": "python",
   "name": "python3"
  },
  "language_info": {
   "codemirror_mode": {
    "name": "ipython",
    "version": 3
   },
   "file_extension": ".py",
   "mimetype": "text/x-python",
   "name": "python",
   "nbconvert_exporter": "python",
   "pygments_lexer": "ipython3",
   "version": "3.9.12"
  },
  "orig_nbformat": 4,
  "vscode": {
   "interpreter": {
    "hash": "c8aaace6d0ceb796a3b6898b9ad1117eb2b6f4b4e065ee44f66c3f501e084e70"
   }
  }
 },
 "nbformat": 4,
 "nbformat_minor": 2
}
