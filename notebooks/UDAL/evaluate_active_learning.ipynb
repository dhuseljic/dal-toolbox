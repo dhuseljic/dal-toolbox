{
 "cells": [
  {
   "cell_type": "code",
   "execution_count": 1,
   "metadata": {},
   "outputs": [
    {
     "name": "stderr",
     "output_type": "stream",
     "text": [
      "/home/denis/miniconda3/envs/uncertainty_evaluation/lib/python3.9/site-packages/tqdm/auto.py:22: TqdmWarning: IProgress not found. Please update jupyter and ipywidgets. See https://ipywidgets.readthedocs.io/en/stable/user_install.html\n",
      "  from .autonotebook import tqdm as notebook_tqdm\n"
     ]
    }
   ],
   "source": [
    "# Imports\n",
    "\n",
    "import os\n",
    "import json\n",
    "import tqdm\n",
    "import yaml\n",
    "\n",
    "import torch\n",
    "import numpy as np\n",
    "import matplotlib.pyplot as plt\n",
    "\n",
    "from omegaconf import OmegaConf\n",
    "from pathlib import Path\n",
    "from tqdm.auto import tqdm"
   ]
  },
  {
   "cell_type": "code",
   "execution_count": 2,
   "metadata": {},
   "outputs": [
    {
     "name": "stdout",
     "output_type": "stream",
     "text": [
      "CIFAR10\n",
      "CIFAR100\n",
      "SVHN\n"
     ]
    }
   ],
   "source": [
    "%%bash\n",
    "mkdir -p results\n",
    "fusermount -uz results\n",
    "sshfs compute.ies:/mnt/work/deep_al/results/active_learning results\n",
    "ls results"
   ]
  },
  {
   "cell_type": "code",
   "execution_count": 3,
   "metadata": {},
   "outputs": [
    {
     "name": "stdout",
     "output_type": "stream",
     "text": [
      "dict_keys(['train_history', 'training_time', 'evaluation_time', 'test_stats', 'labeled_indices', 'n_labeled_samples', 'unlabeled_indices', 'n_unlabeled_samples'])\n",
      "dict_keys(['train_lr', 'train_loss', 'train_acc1'])\n",
      "dict_keys(['test_acc1', 'test_prec', 'test_loss', 'test_nll', 'test_tce', 'test_mce'])\n"
     ]
    }
   ],
   "source": [
    "\n",
    "def load_json(json_file):\n",
    "    with open(json_file, 'r') as f:\n",
    "        data = json.load(f)\n",
    "    return data\n",
    "\n",
    "def load_results(path):\n",
    "    path = Path(path)\n",
    "    assert path.is_dir(), 'Path does not exist.'\n",
    "        \n",
    "    results = {}\n",
    "\n",
    "    exp_json = path / 'results.json'\n",
    "    exp_cfg = path / '.hydra' / 'config.yaml'\n",
    "    exp_checkpoint = path / 'model_final.pth'\n",
    "    try:\n",
    "        cfg =  OmegaConf.load(exp_cfg)\n",
    "        data = load_json(exp_json)\n",
    "        checkpoint = torch.load(exp_checkpoint)\n",
    "    except:\n",
    "        print(f'{path} has missing results.')\n",
    "        return\n",
    "\n",
    "    results['cfg'] = cfg\n",
    "    results['checkpoint'] = checkpoint\n",
    "    results['results'] = data\n",
    "    return results\n",
    "\n",
    "def get_experiments(result_path, glob_pattern, train_results=False):\n",
    "    # Aggregate results over multiple glob pattern such as seeds\n",
    "    experiments = []\n",
    "    for exp_path in result_path.glob(glob_pattern):\n",
    "        d = load_results(exp_path)\n",
    "        experiments.append(d)\n",
    "    assert len(experiments) != 0, f'No experiments found for {result_path}.'\n",
    "    return experiments\n",
    "\n",
    "path = f'results/CIFAR10/resnet18/random/N_INIT{100}__ACQ_SIZE{100}__N_ACQ{9}/'\n",
    "exp_results = get_experiments(Path(path), 'seed1')\n",
    "# metrics = get_metric_values(exp_results)\n",
    "print(exp_results[0]['results']['cycle0'].keys())\n",
    "print(exp_results[0]['results']['cycle0']['train_history'][-1].keys())\n",
    "print(exp_results[0]['results']['cycle0']['test_stats'].keys())"
   ]
  },
  {
   "cell_type": "markdown",
   "metadata": {},
   "source": [
    "## General Results"
   ]
  },
  {
   "cell_type": "markdown",
   "metadata": {},
   "source": [
    "### Low Budget Domain"
   ]
  },
  {
   "cell_type": "code",
   "execution_count": 4,
   "metadata": {},
   "outputs": [
    {
     "name": "stderr",
     "output_type": "stream",
     "text": [
      "100%|██████████| 2/2 [00:46<00:00, 23.15s/it]\n"
     ]
    }
   ],
   "source": [
    "dataset = 'SVHN'\n",
    "experiments = {}\n",
    "# Deterministic\n",
    "experiments.update({\n",
    "    'random (Deterministic)': f'results/{dataset}/resnet18/random/N_INIT{100}__ACQ_SIZE{100}__N_ACQ{19}/',\n",
    "    'uncertainty (Deterministic)': f'results/{dataset}/resnet18/uncertainty/N_INIT{100}__ACQ_SIZE{100}__N_ACQ{19}/',\n",
    "    # 'badge (Deterministic)': f'results/{dataset}/resnet18/badge/N_INIT{100}__ACQ_SIZE{100}__N_ACQ{19}/',\n",
    "    # 'coreset (Deterministic)': f'results/{dataset}/resnet18/coreset/N_INIT{100}__ACQ_SIZE{100}__N_ACQ{19}/',\n",
    "    # 'random old hparams (Deterministic)': f'results/{dataset}/resnet18/random/N_INIT{100}__ACQ_SIZE{100}__N_ACQ{9}/',\n",
    "    # 'uncertainty old hparams (Deterministic)': f'results/{dataset}/resnet18/uncertainty/N_INIT{100}__ACQ_SIZE{100}__N_ACQ{9}/',\n",
    "})\n",
    "\n",
    "# MC-Dropout\n",
    "experiments.update({\n",
    "    # 'random (MC-Dropout)': f'results/{dataset}/resnet18_mcdropout/random/N_INIT{100}__ACQ_SIZE{100}__N_ACQ{9}/',\n",
    "    # 'uncertainty (MC-Dropout)': f'results/{dataset}/resnet18_mcdropout/uncertainty/N_INIT{100}__ACQ_SIZE{100}__N_ACQ{9}/',\n",
    "})\n",
    "\n",
    "# Ensemble\n",
    "experiments.update({\n",
    "    # 'random (Ensemble)': f'results/{dataset}/resnet18_ensemble/random/N_INIT{100}__ACQ_SIZE{100}__N_ACQ{9}/',\n",
    "    # 'uncertainty (Ensemble)': f'results/{dataset}/resnet18_ensemble/uncertainty/N_INIT{100}__ACQ_SIZE{100}__N_ACQ{9}/',\n",
    "})\n",
    "\n",
    "# Eval Model\n",
    "experiments.update({\n",
    "    # 'deterministic random queries (Eval Model)': f'results/{dataset}/resnet18/predefined/N_INIT{100}__ACQ_SIZE{100}__N_ACQ{9}/resnet18_random_queries/',\n",
    "    # 'deterministic uncertainty queries (Eval Model)': f'results/{dataset}/resnet18/predefined/N_INIT{100}__ACQ_SIZE{100}__N_ACQ{9}/resnet18_uncertainty_queries/',\n",
    "    # 'mcdropout uncertainty queries (Eval Model)': f'results/{dataset}/resnet18/predefined/N_INIT{100}__ACQ_SIZE{100}__N_ACQ{9}/resnet18_mcdropout_uncertainty_queries/',\n",
    "    # 'ensemble uncertainty queries (Eval Model)': f'results/{dataset}/resnet18/predefined/N_INIT{100}__ACQ_SIZE{100}__N_ACQ{9}/resnet18_ensemble_uncertainty_queries/',\n",
    "})\n",
    "\n",
    "\n",
    "all_results = {}\n",
    "for exp_name, exp_path in tqdm(experiments.items()):\n",
    "    all_results[exp_name] = get_experiments(Path(exp_path), 'seed*')"
   ]
  },
  {
   "cell_type": "code",
   "execution_count": 11,
   "metadata": {},
   "outputs": [
    {
     "name": "stderr",
     "output_type": "stream",
     "text": [
      "100%|██████████| 2/2 [00:00<00:00, 20.20it/s]"
     ]
    },
    {
     "name": "stdout",
     "output_type": "stream",
     "text": [
      "random (Deterministic) [71170, 62468, 38153, 26634, 42509, 43279, 66576, 15119, 50449, 10518, 36127, 24100, 46372, 34086, 68392, 31275, 10796, 71726, 28206, 1840, 10544, 52274, 62522, 64573, 19262, 8255, 72255, 50494, 32834, 37703, 71754, 56907, 39755, 36941, 18254, 46930, 41555, 53075, 55125, 39511, 51287, 58716, 43614, 34143, 9055, 66150, 42625, 64131, 29059, 18316, 12429, 13199, 33936, 12945, 43664, 19601, 68756, 149, 30867, 24475, 70816, 38054, 58024, 69804, 17068, 59056, 26801, 11955, 64694, 5306, 61884, 54974, 9665, 12225, 67013, 5064, 70857, 63691, 40651, 25043, 58325, 14294, 28631, 41950, 31969, 4321, 8163, 72420, 41444, 16359, 36072, 12010, 68334, 71919, 18677, 31733, 24823, 46840, 62459, 11773]\n",
      "random (Deterministic) [71170, 62468, 38153, 26634, 42509, 43279, 66576, 15119, 50449, 10518, 36127, 24100, 46372, 34086, 68392, 31275, 10796, 71726, 28206, 1840, 10544, 52274, 62522, 64573, 19262, 8255, 72255, 50494, 32834, 37703, 71754, 56907, 39755, 36941, 18254, 46930, 41555, 53075, 55125, 39511, 51287, 58716, 43614, 34143, 9055, 66150, 42625, 64131, 29059, 18316, 12429, 13199, 33936, 12945, 43664, 19601, 68756, 149, 30867, 24475, 70816, 38054, 58024, 69804, 17068, 59056, 26801, 11955, 64694, 5306, 61884, 54974, 9665, 12225, 67013, 5064, 70857, 63691, 40651, 25043, 58325, 14294, 28631, 41950, 31969, 4321, 8163, 72420, 41444, 16359, 36072, 12010, 68334, 71919, 18677, 31733, 24823, 46840, 62459, 11773]\n",
      "random (Deterministic) [71170, 62468, 38153, 26634, 42509, 43279, 66576, 15119, 50449, 10518, 36127, 24100, 46372, 34086, 68392, 31275, 10796, 71726, 28206, 1840, 10544, 52274, 62522, 64573, 19262, 8255, 72255, 50494, 32834, 37703, 71754, 56907, 39755, 36941, 18254, 46930, 41555, 53075, 55125, 39511, 51287, 58716, 43614, 34143, 9055, 66150, 42625, 64131, 29059, 18316, 12429, 13199, 33936, 12945, 43664, 19601, 68756, 149, 30867, 24475, 70816, 38054, 58024, 69804, 17068, 59056, 26801, 11955, 64694, 5306, 61884, 54974, 9665, 12225, 67013, 5064, 70857, 63691, 40651, 25043, 58325, 14294, 28631, 41950, 31969, 4321, 8163, 72420, 41444, 16359, 36072, 12010, 68334, 71919, 18677, 31733, 24823, 46840, 62459, 11773]\n",
      "uncertainty (Deterministic) [71170, 62468, 38153, 26634, 42509, 43279, 66576, 15119, 50449, 10518, 36127, 24100, 46372, 34086, 68392, 31275, 10796, 71726, 28206, 1840, 10544, 52274, 62522, 64573, 19262, 8255, 72255, 50494, 32834, 37703, 71754, 56907, 39755, 36941, 18254, 46930, 41555, 53075, 55125, 39511, 51287, 58716, 43614, 34143, 9055, 66150, 42625, 64131, 29059, 18316, 12429, 13199, 33936, 12945, 43664, 19601, 68756, 149, 30867, 24475, 70816, 38054, 58024, 69804, 17068, 59056, 26801, 11955, 64694, 5306, 61884, 54974, 9665, 12225, 67013, 5064, 70857, 63691, 40651, 25043, 58325, 14294, 28631, 41950, 31969, 4321, 8163, 72420, 41444, 16359, 36072, 12010, 68334, 71919, 18677, 31733, 24823, 46840, 62459, 11773]\n",
      "uncertainty (Deterministic) [71170, 62468, 38153, 26634, 42509, 43279, 66576, 15119, 50449, 10518, 36127, 24100, 46372, 34086, 68392, 31275, 10796, 71726, 28206, 1840, 10544, 52274, 62522, 64573, 19262, 8255, 72255, 50494, 32834, 37703, 71754, 56907, 39755, 36941, 18254, 46930, 41555, 53075, 55125, 39511, 51287, 58716, 43614, 34143, 9055, 66150, 42625, 64131, 29059, 18316, 12429, 13199, 33936, 12945, 43664, 19601, 68756, 149, 30867, 24475, 70816, 38054, 58024, 69804, 17068, 59056, 26801, 11955, 64694, 5306, 61884, 54974, 9665, 12225, 67013, 5064, 70857, 63691, 40651, 25043, 58325, 14294, 28631, 41950, 31969, 4321, 8163, 72420, 41444, 16359, 36072, 12010, 68334, 71919, 18677, 31733, 24823, 46840, 62459, 11773]\n",
      "uncertainty (Deterministic) [71170, 62468, 38153, 26634, 42509, 43279, 66576, 15119, 50449, 10518, 36127, 24100, 46372, 34086, 68392, 31275, 10796, 71726, 28206, 1840, 10544, 52274, 62522, 64573, 19262, 8255, 72255, 50494, 32834, 37703, 71754, 56907, 39755, 36941, 18254, 46930, 41555, 53075, 55125, 39511, 51287, 58716, 43614, 34143, 9055, 66150, 42625, 64131, 29059, 18316, 12429, 13199, 33936, 12945, 43664, 19601, 68756, 149, 30867, 24475, 70816, 38054, 58024, 69804, 17068, 59056, 26801, 11955, 64694, 5306, 61884, 54974, 9665, 12225, 67013, 5064, 70857, 63691, 40651, 25043, 58325, 14294, 28631, 41950, 31969, 4321, 8163, 72420, 41444, 16359, 36072, 12010, 68334, 71919, 18677, 31733, 24823, 46840, 62459, 11773]\n"
     ]
    },
    {
     "name": "stderr",
     "output_type": "stream",
     "text": [
      "\n"
     ]
    },
    {
     "data": {
      "text/plain": [
       "<matplotlib.legend.Legend at 0x7f9c55d278e0>"
      ]
     },
     "execution_count": 11,
     "metadata": {},
     "output_type": "execute_result"
    },
    {
     "data": {
      "image/png": "[encoded data removed]",
      "text/plain": [
       "<Figure size 1000x500 with 3 Axes>"
      ]
     },
     "metadata": {},
     "output_type": "display_data"
    }
   ],
   "source": [
    "show_std = True\n",
    "for strat_name, results in tqdm(all_results.items()):\n",
    "\n",
    "    train_accs = []\n",
    "    train_loss = []\n",
    "    test_accs = []\n",
    "    test_nll = []\n",
    "    test_tce = []\n",
    "    n_labeled_samples = []\n",
    "    for seed_result in results:\n",
    "        data = seed_result['results']\n",
    "        print(strat_name, data['cycle0']['labeled_indices'])\n",
    "\n",
    "        # Get metric values of interest\n",
    "        n_labeled_samples.append([data[cycle]['n_labeled_samples'] for cycle in data])\n",
    "        train_accs.append([data[cycle]['train_history'][-1]['train_acc1'] for cycle in data])\n",
    "        train_loss.append([data[cycle]['train_history'][-1]['train_loss'] for cycle in data])\n",
    "        test_accs.append([data[cycle]['test_stats']['test_acc1'] for cycle in data])\n",
    "        test_nll.append([data[cycle]['test_stats']['test_nll'] for cycle in data])\n",
    "        test_tce.append([data[cycle]['test_stats']['test_tce'] for cycle in data])\n",
    "\n",
    "    n_labeled_samples = np.mean(n_labeled_samples, 0)\n",
    "    train_accs_mean, train_accs_std = np.mean(train_accs, 0), np.std(train_accs, 0)\n",
    "    train_loss_mean, train_loss_std = np.mean(train_loss, 0), np.std(train_loss, 0)\n",
    "    test_accs_mean, test_accs_std = np.mean(test_accs, 0), np.std(test_accs, 0)\n",
    "    test_nll_mean, test_nll_std = np.mean(test_nll, 0), np.std(test_nll, 0)\n",
    "    test_tce_mean, test_tce_std = np.mean(test_tce, 0), np.std(test_tce, 0)\n",
    "\n",
    "    plt.subplot(131)\n",
    "    plt.title('Test Accuracy')\n",
    "    plt.plot(n_labeled_samples, test_accs_mean, '-o', label=strat_name)\n",
    "    if show_std:\n",
    "        plt.fill_between(n_labeled_samples, test_accs_mean-test_accs_std, test_accs_mean-test_accs_std, alpha=.3)\n",
    "    plt.subplot(132)\n",
    "    plt.title('Test Loss')\n",
    "    plt.plot(n_labeled_samples, test_nll_mean, '-o', label=strat_name)\n",
    "    plt.subplot(133)\n",
    "    plt.title('Test TCE')\n",
    "    plt.plot(n_labeled_samples, test_tce_mean, '-o', label=strat_name)\n",
    "\n",
    "plt.subplot(132).legend(loc='upper center', bbox_to_anchor=(0.5, 1.25), ncol=2)\n",
    "        "
   ]
  },
  {
   "cell_type": "markdown",
   "metadata": {},
   "source": [
    "### High Budget Domain"
   ]
  },
  {
   "cell_type": "markdown",
   "metadata": {},
   "source": [
    "#### CIFAR10"
   ]
  },
  {
   "cell_type": "code",
   "execution_count": null,
   "metadata": {},
   "outputs": [],
   "source": [
    "high_budget_experiments = {\n",
    "    # Deterministic ResNet18\n",
    "    'random_det': f'results/CIFAR10/resnet18/random/N_INIT{1000}__ACQ_SIZE{1000}__N_ACQ{10}/',\n",
    "    'uncertainty_det': f'results/CIFAR10/resnet18/uncertainty/N_INIT{1000}__ACQ_SIZE{1000}__N_ACQ{10}/',\n",
    "    'coreset_det': f'results/CIFAR10/resnet18/coreset/N_INIT{1000}__ACQ_SIZE{1000}__N_ACQ{10}/',\n",
    "    'badge_det': f'results/CIFAR10/resnet18/badge/N_INIT{1000}__ACQ_SIZE{1000}__N_ACQ{10}/',\n",
    "    'predefined_det': f'results/CIFAR10/resnet18/predefined/resnet18_uncertainty/N_INIT{1000}__ACQ_SIZE{1000}__N_ACQ{10}/',\n",
    "    ## SNGP ResNet18\n",
    "    # 'random_sngp': f'results/CIFAR10/resnet18_sngp/random/N_INIT{1000}__ACQ_SIZE{1000}__N_ACQ{10}/',\n",
    "    # 'uncertainty_sngp': f'results/CIFAR10/resnet18_sngp/uncertainty/N_INIT{1000}__ACQ_SIZE{1000}__N_ACQ{10}/',\n",
    "    # 'coreset_sngp': f'results/CIFAR10/resnet18_sngp/coreset/N_INIT{1000}__ACQ_SIZE{1000}__N_ACQ{10}/',\n",
    "    ## MISC\n",
    "    # 'resnet18_high_lr': f'results/CIFAR10/resnet18/uncertainty/N_INIT{n_init}__ACQ_SIZE{acq_size}__N_ACQ{n_acq}__lr0.1/',\n",
    "    # 'random': f'results/CIFAR10/resnet18/random/N_INIT{2000}__ACQ_SIZE{2000}__N_ACQ{4}/',\n",
    "}\n",
    "\n",
    "results = {}\n",
    "for exp_name, exp_path in tqdm(high_budget_experiments.items()):\n",
    "    exp_results = get_experiments(Path(exp_path), 'seed*')\n",
    "    metrics = get_metric_values(exp_results)\n",
    "    results[exp_name] = metrics"
   ]
  },
  {
   "cell_type": "code",
   "execution_count": null,
   "metadata": {},
   "outputs": [],
   "source": [
    "show_std = False\n",
    "for strat_name, metrics in results.items():\n",
    "    n_labeled_samples = np.mean(metrics['n_labeled_samples'], axis=0)\n",
    "    acc = np.mean(metrics['test_acc1'], axis=0)\n",
    "    acc_std = np.std(metrics['test_acc1'], axis=0)\n",
    "    plt.plot(n_labeled_samples, acc, label=strat_name)\n",
    "    if show_std:\n",
    "        plt.fill_between(n_labeled_samples, acc - acc_std, acc+acc_std, alpha=.3)\n",
    "    plt.legend()"
   ]
  },
  {
   "cell_type": "markdown",
   "metadata": {},
   "source": [
    "#### SVHN"
   ]
  },
  {
   "cell_type": "code",
   "execution_count": null,
   "metadata": {},
   "outputs": [],
   "source": [
    "high_budget_experiments = {\n",
    "    # Deterministic ResNet18\n",
    "    'random_det': f'results/SVHN/resnet18/random/N_INIT{500}__ACQ_SIZE{500}__N_ACQ{10}/',\n",
    "    'uncertainty_det': f'results/SVHN/resnet18/uncertainty/N_INIT{500}__ACQ_SIZE{500}__N_ACQ{10}/',\n",
    "    'badge_det': f'results/SVHN/resnet18/badge/N_INIT{500}__ACQ_SIZE{500}__N_ACQ{10}/',\n",
    "    # 'coreset_det': f'results/SVHN/resnet18/coreset/N_INIT{500}__ACQ_SIZE{500}__N_ACQ{10}/',\n",
    "    ## SNGP ResNet18\n",
    "    # 'random_sngp': f'results/SVHN/resnet18_sngp/random/N_INIT{500}__ACQ_SIZE{1000}__N_ACQ{10}/',\n",
    "    # 'uncertainty_sngp': f'results/SVHN/resnet18_sngp/uncertainty/N_INIT{500}__ACQ_SIZE{1000}__N_ACQ{10}/',\n",
    "    # 'coreset_sngp': f'results/SVHN/resnet18_sngp/coreset/N_INIT{500}__ACQ_SIZE{1000}__N_ACQ{10}/',\n",
    "    ## MISC\n",
    "    # 'resnet18_high_lr': f'results/SVHN/resnet18/uncertainty/N_INIT{n_init}__ACQ_SIZE{acq_size}__N_ACQ{n_acq}__lr0.1/',\n",
    "    # 'random': f'results/SVHN/resnet18/random/N_INIT{2000}__ACQ_SIZE{2000}__N_ACQ{4}/',\n",
    "}\n",
    "\n",
    "results = {}\n",
    "for exp_name, exp_path in tqdm(high_budget_experiments.items()):\n",
    "    exp_results = get_experiments(Path(exp_path), 'seed*')\n",
    "    metrics = get_metric_values(exp_results)\n",
    "    results[exp_name] = metrics"
   ]
  },
  {
   "cell_type": "code",
   "execution_count": null,
   "metadata": {},
   "outputs": [],
   "source": [
    "show_std = False \n",
    "for strat_name, metrics in results.items():\n",
    "    n_labeled_samples = np.mean(metrics['n_labeled_samples'], axis=0)\n",
    "    acc = np.mean(metrics['test_acc1'], axis=0)\n",
    "    acc_std = np.std(metrics['test_acc1'], axis=0)\n",
    "    plt.plot(n_labeled_samples, acc, label=strat_name)\n",
    "    if show_std:\n",
    "        plt.fill_between(n_labeled_samples, acc - acc_std, acc+acc_std, alpha=.3)\n",
    "    plt.legend()"
   ]
  },
  {
   "cell_type": "code",
   "execution_count": null,
   "metadata": {},
   "outputs": [],
   "source": [
    "from torchvision.datasets import CIFAR10\n",
    "\n",
    "path = Path(high_budget_experiments['coreset'])\n",
    "\n",
    "dataset = CIFAR10('/tmp', train=True, download=True)\n",
    "exp_results = get_experiments(path, 'seed*')\n",
    "for i in range(10):\n",
    "    cycle = f'cycle{i}'\n",
    "\n",
    "    classes = []\n",
    "    classes_count = []\n",
    "    for seed_result in exp_results:\n",
    "        if seed_result is None:\n",
    "            continue\n",
    "        sampled_classes_seed = []\n",
    "        labeled_indices_seed = seed_result['results'][cycle]['labeled_indices']\n",
    "        for idx in labeled_indices_seed:\n",
    "            _, lbl = dataset[idx]\n",
    "            sampled_classes_seed.append(lbl)\n",
    "        classes_seed, classes_count_seed  = np.unique(sampled_classes_seed, return_counts=True)\n",
    "        classes.append(classes_seed)\n",
    "        classes_count.append(classes_count_seed)\n",
    "\n",
    "    classes = np.array(classes)\n",
    "    classes_count = np.array(classes_count)\n",
    "    plt.bar(np.mean(classes, axis=0), np.mean(classes_count, axis=0))\n",
    "    plt.xticks(np.mean(classes, axis=0), dataset.classes, rotation=45)\n",
    "    plt.show()\n",
    "    # plt.bar(*np.unique(sampeled_classes, return_counts=True))"
   ]
  },
  {
   "cell_type": "code",
   "execution_count": null,
   "metadata": {},
   "outputs": [],
   "source": [
    "experiment_results = exp_results[0]['results']\n",
    "for key in experiment_results:\n",
    "    cycle_stats = experiment_results[key]\n",
    "    train_history = cycle_stats['train_history']\n",
    "\n",
    "    fig = plt.figure()\n",
    "    fig.suptitle('Train samples: %s' % cycle_stats['n_labeled_samples'])\n",
    "    plt.subplot(121)\n",
    "    plt.xlabel('Epochs')\n",
    "    plt.ylabel('Loss')\n",
    "    plt.plot([d['train_loss'] for d in train_history])\n",
    "\n",
    "    plt.subplot(122)\n",
    "    plt.xlabel('Epochs')\n",
    "    plt.ylabel('Acc')\n",
    "    plt.plot([d['train_acc1'] for d in train_history])\n",
    "    plt.show()"
   ]
  },
  {
   "cell_type": "code",
   "execution_count": null,
   "metadata": {},
   "outputs": [],
   "source": []
  },
  {
   "cell_type": "code",
   "execution_count": null,
   "metadata": {},
   "outputs": [],
   "source": []
  },
  {
   "cell_type": "code",
   "execution_count": null,
   "metadata": {},
   "outputs": [],
   "source": []
  }
 ],
 "metadata": {
  "kernelspec": {
   "display_name": "Python 3.9.13 ('uncertainty_evaluation')",
   "language": "python",
   "name": "python3"
  },
  "language_info": {
   "codemirror_mode": {
    "name": "ipython",
    "version": 3
   },
   "file_extension": ".py",
   "mimetype": "text/x-python",
   "name": "python",
   "nbconvert_exporter": "python",
   "pygments_lexer": "ipython3",
   "version": "3.9.13"
  },
  "orig_nbformat": 4,
  "vscode": {
   "interpreter": {
    "hash": "dfeabd65c26caef9e4834d0951a792d9f59ccda2d72b0cad1a1a6596669e4d0e"
   }
  }
 },
 "nbformat": 4,
 "nbformat_minor": 2
}
