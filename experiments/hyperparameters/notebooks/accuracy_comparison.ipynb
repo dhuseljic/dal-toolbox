{
 "cells": [
  {
   "cell_type": "code",
   "execution_count": 4,
   "metadata": {},
   "outputs": [],
   "source": [
    "import os\n",
    "import json\n",
    "import pandas as pd\n",
    "from tqdm.notebook import tqdm\n",
    "from pathlib import Path\n",
    "import numpy as np\n",
    "import matplotlib.pyplot as plt\n",
    "import numpy as np\n",
    "import torch "
   ]
  },
  {
   "cell_type": "code",
   "execution_count": 5,
   "metadata": {},
   "outputs": [
    {
     "name": "stdout",
     "output_type": "stream",
     "text": [
      "data/CIFAR10/random/budget2000/lr0.001_wd0.05/seed1/results.json\n",
      "data/CIFAR10/random/budget2000/lr0.001_wd0.05/seed3/results.json\n",
      "data/CIFAR10/random/budget2000/lr0.001_wd0.05/seed2/results.json\n",
      "data/CIFAR10/random/budget2000/lr0.01_wd0.0005/seed1/results.json\n",
      "data/CIFAR10/random/budget2000/lr0.01_wd0.0005/seed3/results.json\n",
      "data/CIFAR10/random/budget2000/lr0.01_wd0.0005/seed2/results.json\n",
      "data/CIFAR10/random/budget2000/lr0.01_wd0.05/seed1/results.json\n",
      "data/CIFAR10/random/budget2000/lr0.01_wd0.05/seed3/results.json\n",
      "data/CIFAR10/random/budget2000/lr0.01_wd0.05/seed2/results.json\n",
      "data/CIFAR10/random/budget2000/lr0.1_wd0.005/seed1/results.json\n",
      "data/CIFAR10/random/budget2000/lr0.1_wd0.005/seed3/results.json\n",
      "data/CIFAR10/random/budget2000/lr0.1_wd0.005/seed2/results.json\n",
      "data/CIFAR10/random/budget4000/lr0.001_wd0.05/seed1/results.json\n",
      "data/CIFAR10/random/budget4000/lr0.001_wd0.05/seed3/results.json\n",
      "data/CIFAR10/random/budget4000/lr0.001_wd0.05/seed2/results.json\n",
      "data/CIFAR10/random/budget4000/lr0.01_wd0.0005/seed1/results.json\n",
      "data/CIFAR10/random/budget4000/lr0.01_wd0.0005/seed3/results.json\n",
      "data/CIFAR10/random/budget4000/lr0.01_wd0.0005/seed2/results.json\n",
      "data/CIFAR10/random/budget4000/lr0.01_wd0.05/seed1/results.json\n",
      "data/CIFAR10/random/budget4000/lr0.01_wd0.05/seed3/results.json\n",
      "data/CIFAR10/random/budget4000/lr0.01_wd0.05/seed2/results.json\n",
      "data/CIFAR10/random/budget4000/lr0.1_wd0.005/seed1/results.json\n",
      "data/CIFAR10/random/budget4000/lr0.1_wd0.005/seed3/results.json\n",
      "data/CIFAR10/random/budget4000/lr0.1_wd0.005/seed2/results.json\n",
      "data/CIFAR10/coreset/budget2000/lr0.001_wd0.05/seed1/results.json\n",
      "data/CIFAR10/coreset/budget2000/lr0.001_wd0.05/seed3/results.json\n",
      "data/CIFAR10/coreset/budget2000/lr0.001_wd0.05/seed2/results.json\n",
      "data/CIFAR10/coreset/budget2000/lr0.01_wd0.0005/seed1/results.json\n",
      "data/CIFAR10/coreset/budget2000/lr0.01_wd0.0005/seed3/results.json\n",
      "data/CIFAR10/coreset/budget2000/lr0.01_wd0.0005/seed2/results.json\n",
      "data/CIFAR10/coreset/budget2000/lr0.01_wd0.05/seed1/results.json\n",
      "data/CIFAR10/coreset/budget2000/lr0.01_wd0.05/seed3/results.json\n",
      "data/CIFAR10/coreset/budget2000/lr0.01_wd0.05/seed2/results.json\n",
      "data/CIFAR10/coreset/budget2000/lr0.1_wd0.005/seed1/results.json\n",
      "data/CIFAR10/coreset/budget2000/lr0.1_wd0.005/seed3/results.json\n",
      "data/CIFAR10/coreset/budget2000/lr0.1_wd0.005/seed2/results.json\n",
      "data/CIFAR10/coreset/budget4000/lr0.001_wd0.05/seed1/results.json\n",
      "data/CIFAR10/coreset/budget4000/lr0.001_wd0.05/seed3/results.json\n",
      "data/CIFAR10/coreset/budget4000/lr0.001_wd0.05/seed2/results.json\n",
      "data/CIFAR10/coreset/budget4000/lr0.01_wd0.0005/seed1/results.json\n",
      "data/CIFAR10/coreset/budget4000/lr0.01_wd0.0005/seed3/results.json\n",
      "data/CIFAR10/coreset/budget4000/lr0.01_wd0.0005/seed2/results.json\n",
      "data/CIFAR10/coreset/budget4000/lr0.01_wd0.05/seed1/results.json\n",
      "data/CIFAR10/coreset/budget4000/lr0.01_wd0.05/seed3/results.json\n",
      "data/CIFAR10/coreset/budget4000/lr0.01_wd0.05/seed2/results.json\n",
      "data/CIFAR10/coreset/budget4000/lr0.1_wd0.005/seed1/results.json\n",
      "data/CIFAR10/coreset/budget4000/lr0.1_wd0.005/seed3/results.json\n",
      "data/CIFAR10/coreset/budget4000/lr0.1_wd0.005/seed2/results.json\n"
     ]
    }
   ],
   "source": [
    "root_path = Path('./data/')\n",
    "n_optim = 50\n",
    "results = {}\n",
    "\n",
    "for subdir, dirs, files in os.walk(root_path):\n",
    "    for file in files:\n",
    "        if file == 'results.json':\n",
    "            print(os.path.join(subdir, file))\n",
    "            _, ds, query, budget, params, seed,  = subdir.split('/')\n",
    "\n",
    "            if ds not in results:\n",
    "                results[ds] = {}\n",
    "\n",
    "            if query not in results[ds]:\n",
    "                results[ds][query] = {}\n",
    "\n",
    "            if budget not in results[ds][query]:\n",
    "                results[ds][query][budget] = {}\n",
    "\n",
    "            if params not in results[ds][query][budget]:\n",
    "                results[ds][query][budget][params] = {}\n",
    "\n",
    "            if seed not in results[ds][query][budget][params]:\n",
    "                results[ds][query][budget][params][seed] = {}\n",
    "\n",
    "            with open(subdir + '/' + 'results.json', 'r') as f:\n",
    "                res = json.load(f)\n",
    "            results[ds][query][budget][params][seed] = res"
   ]
  },
  {
   "cell_type": "code",
   "execution_count": 6,
   "metadata": {},
   "outputs": [],
   "source": [
    "test_accuracys = {}\n",
    "for ds in results:\n",
    "    test_accuracys[ds] = {}\n",
    "    for query in results[ds]:\n",
    "        test_accuracys[ds][query] = {}\n",
    "        for budget in results[ds][query]:\n",
    "            test_accuracys[ds][query][budget] = {}\n",
    "            for params in results[ds][query][budget]:\n",
    "                test_accuracys[ds][query][budget][params] = []\n",
    "                for seed in results[ds][query][budget][params]:\n",
    "                    # Extract final test acc from json file\n",
    "                    final_test_acc = results[ds][query][budget][params][seed]['test_stats']['test_acc']\n",
    "                    test_accuracys[ds][query][budget][params].append(final_test_acc*100)"
   ]
  },
  {
   "cell_type": "code",
   "execution_count": 7,
   "metadata": {},
   "outputs": [],
   "source": [
    "# Validate that each param group has 3 finished runs\n",
    "unfinished_runs = []\n",
    "for ds in test_accuracys:\n",
    "    for query in test_accuracys[ds]:\n",
    "        for budget in test_accuracys[ds][query]:\n",
    "            for params in test_accuracys[ds][query][budget]:\n",
    "                if len(test_accuracys[ds][query][budget][params]) != 3:\n",
    "                    print(\"Assertion: The run on ds \"+str(ds)+\" with query strategy \"+str(query)+ \" and parameters \"+params+\" and budget \"+budget+\" has not had 3 finished runs yet and \\n will be left out for the following result table!\")\n",
    "                    unfinished_runs.append([ds, query, budget, params])\n",
    "                \n",
    "# Remove unfinished runs\n",
    "for ds, query, budget, params in unfinished_runs:\n",
    "    test_accuracys[ds][query][budget].pop(params)"
   ]
  },
  {
   "cell_type": "code",
   "execution_count": 8,
   "metadata": {},
   "outputs": [
    {
     "name": "stdout",
     "output_type": "stream",
     "text": [
      "#################### CIFAR10 ###################\n",
      "                    coreset2000     coreset4000\n",
      "lr0.001_wd0.05    78.42 +/- 0.5  85.26 +/- 0.54\n",
      "lr0.01_wd0.0005   75.57 +/- 0.4  83.93 +/- 1.41\n",
      "lr0.01_wd0.05    77.16 +/- 0.79   83.7 +/- 0.43\n",
      "lr0.1_wd0.005     76.5 +/- 0.63   84.39 +/- 0.9\n"
     ]
    }
   ],
   "source": [
    "for ds in test_accuracys:\n",
    "    df = {}\n",
    "    for query in ['coreset']:\n",
    "        for budget in test_accuracys[ds][query]:\n",
    "            key = query+budget[-4:]\n",
    "            df[key] = {}\n",
    "            for params in test_accuracys[ds][query][budget]:\n",
    "                df[key][params] = str(np.mean(test_accuracys[ds][query][budget][params]).round(2)) + ' +/- ' + str(np.std(test_accuracys[ds][query][budget][params]).round(2))\n",
    "    df = pd.DataFrame(df)\n",
    "    #df.to_csv('./result_tables/results.csv')\n",
    "    print('#################### '+str(ds)+' ###################')\n",
    "    print(df)"
   ]
  },
  {
   "cell_type": "code",
   "execution_count": 19,
   "metadata": {},
   "outputs": [
    {
     "name": "stdout",
     "output_type": "stream",
     "text": [
      "{'lr': 0.03692096069251086, 'weight_decay': 0.0010889483270134419, '__trial_index__': 0}\n"
     ]
    }
   ],
   "source": [
    "max_key = np.argmax( \n",
    "    [np.mean( \n",
    "        [results['CIFAR10']['coreset']['budget4000']['lr0.01_wd0.05']['seed3']['ray-results'][j+i]['res']['val_acc'] for i in range(3)]\n",
    "    ) \n",
    "        for j in range(0,150,3)]\n",
    ")*3\n",
    "print(results['CIFAR10']['coreset']['budget4000']['lr0.01_wd0.0005']['seed1']['ray-results'][max_key]['conf'])"
   ]
  },
  {
   "cell_type": "code",
   "execution_count": null,
   "metadata": {},
   "outputs": [],
   "source": []
  }
 ],
 "metadata": {
  "kernelspec": {
   "display_name": "dal-toolbox",
   "language": "python",
   "name": "python3"
  },
  "language_info": {
   "codemirror_mode": {
    "name": "ipython",
    "version": 3
   },
   "file_extension": ".py",
   "mimetype": "text/x-python",
   "name": "python",
   "nbconvert_exporter": "python",
   "pygments_lexer": "ipython3",
   "version": "3.9.16"
  },
  "orig_nbformat": 4
 },
 "nbformat": 4,
 "nbformat_minor": 2
}
