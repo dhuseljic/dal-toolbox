{
 "cells": [
  {
   "cell_type": "markdown",
   "metadata": {},
   "source": [
    "# Check updates"
   ]
  },
  {
   "cell_type": "markdown",
   "metadata": {},
   "source": [
    "## CIFAR-10"
   ]
  },
  {
   "cell_type": "code",
   "execution_count": 91,
   "metadata": {},
   "outputs": [
    {
     "name": "stdout",
     "output_type": "stream",
     "text": [
      "Found 699 experiments\n"
     ]
    }
   ],
   "source": [
    "import mlflow\n",
    "import numpy as np\n",
    "import pylab as plt\n",
    "import pandas as pd\n",
    "\n",
    "client = mlflow.tracking.MlflowClient(tracking_uri='file:///home/dhuseljic/mlflow/ssal/updating_cifar10')\n",
    "experiment_id = '772449586397385799'\n",
    "runs = client.search_runs(experiment_ids=experiment_id)\n",
    "print('Found {} experiments'.format(len(runs)))"
   ]
  },
  {
   "cell_type": "code",
   "execution_count": 114,
   "metadata": {},
   "outputs": [
    {
     "name": "stdout",
     "output_type": "stream",
     "text": [
      "Found 100 experiments\n"
     ]
    }
   ],
   "source": [
    "query_list = [\n",
    "    \"parameter.dataset_name = 'cifar10'\",\n",
    "    \"parameter.model.name = 'sngp'\",\n",
    "    \"parameter.dino_model_name = 'dinov2_vitl14'\",\n",
    "    \"parameter.num_init_samples = '100'\",\n",
    "    \"parameter.num_new_samples = '10'\",\n",
    "    \"parameter.model.num_epochs = '500'\",\n",
    "    \"parameter.model.scale_random_features = 'False'\",\n",
    "    \"parameter.update_lmb = '10'\",\n",
    "    \"parameter.update_gamma = '1'\",\n",
    "]\n",
    "query = ' and '.join(query_list)\n",
    "runs = client.search_runs(experiment_ids=experiment_id, filter_string=query)\n",
    "print('Found {} experiments'.format(len(runs)))"
   ]
  },
  {
   "cell_type": "code",
   "execution_count": 115,
   "metadata": {},
   "outputs": [],
   "source": [
    "base_accuracies = []\n",
    "updated_accuracies = []\n",
    "retrained_accuracies = []\n",
    "\n",
    "base_ACEs = []\n",
    "updated_ACEs = []\n",
    "retrained_ACEs = []\n",
    "\n",
    "base_AUPRs = []\n",
    "updated_AUPRs = []\n",
    "retrained_AUPRs = []\n",
    "\n",
    "num_improved = 0\n",
    "for run in runs:\n",
    "    if len(run.data.metrics) == 0: continue # failed run\n",
    "    base_accuracies.append(run.data.metrics['base_accuracy'])\n",
    "    updated_accuracies.append(run.data.metrics['updated_accuracy'])\n",
    "    retrained_accuracies.append(run.data.metrics['retrained_accuracy'])\n",
    "    \n",
    "    base_ACEs.append(run.data.metrics['base_ACE'])\n",
    "    updated_ACEs.append(run.data.metrics['updated_ACE'])\n",
    "    retrained_ACEs.append(run.data.metrics['retrained_ACE'])\n",
    "\n",
    "    base_AUPRs.append(run.data.metrics['base_AUPR'])\n",
    "    updated_AUPRs.append(run.data.metrics['updated_AUPR'])\n",
    "    retrained_AUPRs.append(run.data.metrics['retrained_AUPR'])"
   ]
  },
  {
   "cell_type": "code",
   "execution_count": 116,
   "metadata": {},
   "outputs": [
    {
     "name": "stdout",
     "output_type": "stream",
     "text": [
      "\\begin{tabular}{lrrr}\n",
      "\\toprule\n",
      " & base & updated & retrained \\\\\n",
      "\\midrule\n",
      "accuracy & 0.854 & 0.857 & 0.868 \\\\\n",
      "ACE & 0.154 & 0.155 & 0.156 \\\\\n",
      "AUPR & 0.824 & 0.827 & 0.840 \\\\\n",
      "\\bottomrule\n",
      "\\end{tabular}\n",
      "\n"
     ]
    }
   ],
   "source": [
    "results = {\n",
    "    'accuracy': [np.mean(base_accuracies), np.mean(updated_accuracies), np.mean(retrained_accuracies)],\n",
    "    'ACE': [np.mean(base_ACEs), np.mean(updated_ACEs), np.mean(retrained_ACEs)],\n",
    "    'AUPR': [np.mean(base_AUPRs), np.mean(updated_AUPRs), np.mean(retrained_AUPRs)],\n",
    "}\n",
    "df = pd.DataFrame(results).T\n",
    "\n",
    "df.columns = ['base', 'updated', 'retrained']\n",
    "\n",
    "print(df.to_latex(float_format=\"{:.3f}\".format))"
   ]
  },
  {
   "cell_type": "markdown",
   "metadata": {},
   "source": [
    "## SVHN"
   ]
  },
  {
   "cell_type": "code",
   "execution_count": 185,
   "metadata": {},
   "outputs": [
    {
     "name": "stdout",
     "output_type": "stream",
     "text": [
      "Found 0 experiments\n"
     ]
    }
   ],
   "source": [
    "import mlflow\n",
    "import numpy as np\n",
    "import pylab as plt\n",
    "import pandas as pd\n",
    "\n",
    "client = mlflow.tracking.MlflowClient(tracking_uri='file:///home/dhuseljic/mlflow/ssal/updating_svhn')\n",
    "experiment_id = '620601089375835831'\n",
    "\n",
    "runs = client.search_runs(experiment_ids=experiment_id)\n",
    "print('Found {} experiments'.format(len(runs)))"
   ]
  },
  {
   "cell_type": "code",
   "execution_count": 51,
   "metadata": {},
   "outputs": [
    {
     "name": "stdout",
     "output_type": "stream",
     "text": [
      "Found 200 experiments\n"
     ]
    }
   ],
   "source": [
    "query_list = [\n",
    "    \"parameter.model.name = 'laplace'\",\n",
    "    \"parameter.dino_model_name = 'dinov2_vitl14'\",\n",
    "    \"parameter.num_init_samples = '500'\",\n",
    "    \"parameter.num_new_samples = '100'\",\n",
    "    \"parameter.model.num_epochs = '500'\",\n",
    "    \"parameter.update_lmb = '1'\",\n",
    "    \"parameter.update_gamma = '1'\",\n",
    "]\n",
    "query = ' and '.join(query_list)\n",
    "runs = client.search_runs(experiment_ids=experiment_id, filter_string=query)\n",
    "print('Found {} experiments'.format(len(runs)))"
   ]
  },
  {
   "cell_type": "code",
   "execution_count": 52,
   "metadata": {},
   "outputs": [],
   "source": [
    "base_accuracies = []\n",
    "updated_accuracies = []\n",
    "retrained_accuracies = []\n",
    "\n",
    "base_ACEs = []\n",
    "updated_ACEs = []\n",
    "retrained_ACEs = []\n",
    "\n",
    "base_AUPRs = []\n",
    "updated_AUPRs = []\n",
    "retrained_AUPRs = []\n",
    "\n",
    "for run in runs:\n",
    "    if len(run.data.metrics) == 0: continue # failed run\n",
    "    base_accuracies.append(run.data.metrics['base_accuracy'])\n",
    "    updated_accuracies.append(run.data.metrics['updated_accuracy'])\n",
    "    retrained_accuracies.append(run.data.metrics['retrained_accuracy'])\n",
    "    \n",
    "    base_ACEs.append(run.data.metrics['base_ACE'])\n",
    "    updated_ACEs.append(run.data.metrics['updated_ACE'])\n",
    "    retrained_ACEs.append(run.data.metrics['retrained_ACE'])\n",
    "\n",
    "    base_AUPRs.append(run.data.metrics['base_AUPR'])\n",
    "    updated_AUPRs.append(run.data.metrics['updated_AUPR'])\n",
    "    retrained_AUPRs.append(run.data.metrics['retrained_AUPR'])\n"
   ]
  },
  {
   "cell_type": "code",
   "execution_count": 53,
   "metadata": {},
   "outputs": [
    {
     "name": "stdout",
     "output_type": "stream",
     "text": [
      "\\begin{tabular}{lrrr}\n",
      "\\toprule\n",
      " & base & updated & retrained \\\\\n",
      "\\midrule\n",
      "accuracy & 0.334 & 0.180 & 0.346 \\\\\n",
      "ACE & 0.061 & 0.038 & 0.062 \\\\\n",
      "AUPR & 0.953 & 0.412 & 0.950 \\\\\n",
      "\\bottomrule\n",
      "\\end{tabular}\n",
      "\n"
     ]
    }
   ],
   "source": [
    "results = {\n",
    "    'accuracy': [np.mean(base_accuracies), np.mean(updated_accuracies), np.mean(retrained_accuracies)],\n",
    "    'ACE': [np.mean(base_ACEs), np.mean(updated_ACEs), np.mean(retrained_ACEs)],\n",
    "    'AUPR': [np.mean(base_AUPRs), np.mean(updated_AUPRs), np.mean(retrained_AUPRs)],\n",
    "}\n",
    "df = pd.DataFrame(results).T\n",
    "\n",
    "df.columns = ['base', 'updated', 'retrained']\n",
    "\n",
    "print(df.to_latex(float_format=\"{:.3f}\".format))"
   ]
  },
  {
   "cell_type": "markdown",
   "metadata": {},
   "source": [
    "## CIFAR100 "
   ]
  },
  {
   "cell_type": "code",
   "execution_count": 163,
   "metadata": {},
   "outputs": [
    {
     "name": "stdout",
     "output_type": "stream",
     "text": [
      "Found 1000 experiments\n"
     ]
    }
   ],
   "source": [
    "import mlflow\n",
    "import numpy as np\n",
    "import pylab as plt\n",
    "import pandas as pd\n",
    "\n",
    "client = mlflow.tracking.MlflowClient(tracking_uri='file:///home/dhuseljic/mlflow/ssal/updating_cifar100')\n",
    "experiment_id = '333270211552649863'\n",
    "\n",
    "runs = client.search_runs(experiment_ids=experiment_id)\n",
    "print('Found {} experiments'.format(len(runs)))"
   ]
  },
  {
   "cell_type": "code",
   "execution_count": 176,
   "metadata": {},
   "outputs": [
    {
     "name": "stdout",
     "output_type": "stream",
     "text": [
      "Found 200 experiments\n"
     ]
    }
   ],
   "source": [
    "query_list = [\n",
    "    \"parameter.model.name = 'laplace'\",\n",
    "    \"parameter.dino_model_name = 'dinov2_vitl14'\",\n",
    "    \"parameter.num_init_samples = '1000'\",\n",
    "    \"parameter.num_new_samples = '100'\",\n",
    "    \"parameter.model.num_epochs = '500'\",\n",
    "    \"parameter.update_lmb = '1'\",\n",
    "    \"parameter.update_gamma = '1'\",\n",
    "    # \"parameter.likelihood = 'categorical'\",\n",
    "]\n",
    "query = ' and '.join(query_list)\n",
    "runs = client.search_runs(experiment_ids=experiment_id, filter_string=query)\n",
    "print('Found {} experiments'.format(len(runs)))"
   ]
  },
  {
   "cell_type": "code",
   "execution_count": 177,
   "metadata": {},
   "outputs": [
    {
     "name": "stdout",
     "output_type": "stream",
     "text": [
      "Improvment 85 / 200\n"
     ]
    }
   ],
   "source": [
    "base_accuracies = []\n",
    "updated_accuracies = []\n",
    "retrained_accuracies = []\n",
    "\n",
    "base_ACEs = []\n",
    "updated_ACEs = []\n",
    "retrained_ACEs = []\n",
    "\n",
    "base_AUPRs = []\n",
    "updated_AUPRs = []\n",
    "retrained_AUPRs = []\n",
    "\n",
    "num_improved = 0\n",
    "for run in runs:\n",
    "    if len(run.data.metrics) == 0: continue # failed run\n",
    "    if 'likelihood' in run.data.params.keys(): continue\n",
    "    base_accuracies.append(run.data.metrics['base_accuracy'])\n",
    "    updated_accuracies.append(run.data.metrics['updated_accuracy'])\n",
    "    retrained_accuracies.append(run.data.metrics['retrained_accuracy'])\n",
    "    \n",
    "    base_ACEs.append(run.data.metrics['base_ACE'])\n",
    "    updated_ACEs.append(run.data.metrics['updated_ACE'])\n",
    "    retrained_ACEs.append(run.data.metrics['retrained_ACE'])\n",
    "\n",
    "    base_AUPRs.append(run.data.metrics['base_AUPR'])\n",
    "    updated_AUPRs.append(run.data.metrics['updated_AUPR'])\n",
    "    retrained_AUPRs.append(run.data.metrics['retrained_AUPR'])\n",
    "\n",
    "    if updated_accuracies[-1] > base_accuracies[-1]:\n",
    "        num_improved += 1\n",
    "\n",
    "    # if np.isnan(updated_ACEs[-1]):\n",
    "    #    print(run.data.params['random_seed'], base_accuracies[-1], updated_accuracies[-1])\n",
    "print('Improvment {} / {}'.format(num_improved, len(runs)))"
   ]
  },
  {
   "cell_type": "code",
   "execution_count": 178,
   "metadata": {},
   "outputs": [
    {
     "name": "stdout",
     "output_type": "stream",
     "text": [
      "\\begin{tabular}{lrrr}\n",
      "\\toprule\n",
      " & base & updated & retrained \\\\\n",
      "\\midrule\n",
      "accuracy & 0.798 & 0.799 & 0.790 \\\\\n",
      "ACE & 0.030 & 0.030 & 0.031 \\\\\n",
      "AUPR & 0.877 & 0.877 & 0.878 \\\\\n",
      "\\bottomrule\n",
      "\\end{tabular}\n",
      "\n"
     ]
    }
   ],
   "source": [
    "results = {\n",
    "    'accuracy': [np.mean(base_accuracies), np.mean(updated_accuracies), np.mean(retrained_accuracies)],\n",
    "    'ACE': [np.mean(base_ACEs), np.mean(updated_ACEs), np.mean(retrained_ACEs)],\n",
    "    'AUPR': [np.mean(base_AUPRs), np.mean(updated_AUPRs), np.mean(retrained_AUPRs)],\n",
    "}\n",
    "df = pd.DataFrame(results).T\n",
    "\n",
    "df.columns = ['base', 'updated', 'retrained']\n",
    "\n",
    "print(df.to_latex(float_format=\"{:.3f}\".format))"
   ]
  },
  {
   "cell_type": "code",
   "execution_count": 179,
   "metadata": {},
   "outputs": [
    {
     "name": "stdout",
     "output_type": "stream",
     "text": [
      "Improvment accuracy: 0.43\n"
     ]
    },
    {
     "data": {
      "text/html": [
       "<div>\n",
       "<style scoped>\n",
       "    .dataframe tbody tr th:only-of-type {\n",
       "        vertical-align: middle;\n",
       "    }\n",
       "\n",
       "    .dataframe tbody tr th {\n",
       "        vertical-align: top;\n",
       "    }\n",
       "\n",
       "    .dataframe thead th {\n",
       "        text-align: right;\n",
       "    }\n",
       "</style>\n",
       "<table border=\"1\" class=\"dataframe\">\n",
       "  <thead>\n",
       "    <tr style=\"text-align: right;\">\n",
       "      <th></th>\n",
       "      <th>Updating</th>\n",
       "      <th>Retraining</th>\n",
       "    </tr>\n",
       "  </thead>\n",
       "  <tbody>\n",
       "    <tr>\n",
       "      <th>1</th>\n",
       "      <td>0.0015</td>\n",
       "      <td>-0.0094</td>\n",
       "    </tr>\n",
       "    <tr>\n",
       "      <th>4</th>\n",
       "      <td>0.0009</td>\n",
       "      <td>-0.0305</td>\n",
       "    </tr>\n",
       "    <tr>\n",
       "      <th>5</th>\n",
       "      <td>0.0016</td>\n",
       "      <td>-0.0082</td>\n",
       "    </tr>\n",
       "    <tr>\n",
       "      <th>6</th>\n",
       "      <td>0.0007</td>\n",
       "      <td>-0.0221</td>\n",
       "    </tr>\n",
       "    <tr>\n",
       "      <th>9</th>\n",
       "      <td>0.0007</td>\n",
       "      <td>-0.0219</td>\n",
       "    </tr>\n",
       "    <tr>\n",
       "      <th>10</th>\n",
       "      <td>0.0004</td>\n",
       "      <td>-0.0362</td>\n",
       "    </tr>\n",
       "    <tr>\n",
       "      <th>11</th>\n",
       "      <td>0.0017</td>\n",
       "      <td>-0.0167</td>\n",
       "    </tr>\n",
       "    <tr>\n",
       "      <th>13</th>\n",
       "      <td>0.0012</td>\n",
       "      <td>-0.0083</td>\n",
       "    </tr>\n",
       "    <tr>\n",
       "      <th>15</th>\n",
       "      <td>0.0013</td>\n",
       "      <td>-0.0258</td>\n",
       "    </tr>\n",
       "    <tr>\n",
       "      <th>18</th>\n",
       "      <td>0.0010</td>\n",
       "      <td>-0.0077</td>\n",
       "    </tr>\n",
       "    <tr>\n",
       "      <th>20</th>\n",
       "      <td>0.0015</td>\n",
       "      <td>-0.0312</td>\n",
       "    </tr>\n",
       "    <tr>\n",
       "      <th>22</th>\n",
       "      <td>0.0004</td>\n",
       "      <td>-0.0040</td>\n",
       "    </tr>\n",
       "    <tr>\n",
       "      <th>23</th>\n",
       "      <td>0.0007</td>\n",
       "      <td>-0.0157</td>\n",
       "    </tr>\n",
       "    <tr>\n",
       "      <th>24</th>\n",
       "      <td>-0.0002</td>\n",
       "      <td>0.0223</td>\n",
       "    </tr>\n",
       "    <tr>\n",
       "      <th>26</th>\n",
       "      <td>0.0002</td>\n",
       "      <td>-0.0329</td>\n",
       "    </tr>\n",
       "    <tr>\n",
       "      <th>27</th>\n",
       "      <td>0.0017</td>\n",
       "      <td>-0.0031</td>\n",
       "    </tr>\n",
       "    <tr>\n",
       "      <th>28</th>\n",
       "      <td>0.0005</td>\n",
       "      <td>-0.0298</td>\n",
       "    </tr>\n",
       "    <tr>\n",
       "      <th>30</th>\n",
       "      <td>0.0011</td>\n",
       "      <td>-0.0313</td>\n",
       "    </tr>\n",
       "    <tr>\n",
       "      <th>31</th>\n",
       "      <td>0.0006</td>\n",
       "      <td>-0.0467</td>\n",
       "    </tr>\n",
       "    <tr>\n",
       "      <th>33</th>\n",
       "      <td>0.0009</td>\n",
       "      <td>-0.0115</td>\n",
       "    </tr>\n",
       "    <tr>\n",
       "      <th>35</th>\n",
       "      <td>0.0008</td>\n",
       "      <td>-0.0307</td>\n",
       "    </tr>\n",
       "    <tr>\n",
       "      <th>36</th>\n",
       "      <td>0.0000</td>\n",
       "      <td>0.0033</td>\n",
       "    </tr>\n",
       "    <tr>\n",
       "      <th>39</th>\n",
       "      <td>0.0010</td>\n",
       "      <td>-0.0049</td>\n",
       "    </tr>\n",
       "    <tr>\n",
       "      <th>42</th>\n",
       "      <td>-0.0001</td>\n",
       "      <td>0.0010</td>\n",
       "    </tr>\n",
       "    <tr>\n",
       "      <th>43</th>\n",
       "      <td>0.0006</td>\n",
       "      <td>-0.0304</td>\n",
       "    </tr>\n",
       "    <tr>\n",
       "      <th>44</th>\n",
       "      <td>0.0003</td>\n",
       "      <td>-0.0228</td>\n",
       "    </tr>\n",
       "    <tr>\n",
       "      <th>47</th>\n",
       "      <td>0.0015</td>\n",
       "      <td>-0.0156</td>\n",
       "    </tr>\n",
       "    <tr>\n",
       "      <th>48</th>\n",
       "      <td>0.0001</td>\n",
       "      <td>-0.0261</td>\n",
       "    </tr>\n",
       "    <tr>\n",
       "      <th>49</th>\n",
       "      <td>0.0008</td>\n",
       "      <td>-0.0211</td>\n",
       "    </tr>\n",
       "    <tr>\n",
       "      <th>50</th>\n",
       "      <td>0.0001</td>\n",
       "      <td>-0.0360</td>\n",
       "    </tr>\n",
       "    <tr>\n",
       "      <th>52</th>\n",
       "      <td>0.0008</td>\n",
       "      <td>-0.0347</td>\n",
       "    </tr>\n",
       "    <tr>\n",
       "      <th>54</th>\n",
       "      <td>0.0006</td>\n",
       "      <td>-0.0409</td>\n",
       "    </tr>\n",
       "    <tr>\n",
       "      <th>56</th>\n",
       "      <td>0.0000</td>\n",
       "      <td>-0.0261</td>\n",
       "    </tr>\n",
       "    <tr>\n",
       "      <th>57</th>\n",
       "      <td>-0.0003</td>\n",
       "      <td>0.0051</td>\n",
       "    </tr>\n",
       "    <tr>\n",
       "      <th>58</th>\n",
       "      <td>0.0010</td>\n",
       "      <td>-0.0382</td>\n",
       "    </tr>\n",
       "    <tr>\n",
       "      <th>59</th>\n",
       "      <td>0.0012</td>\n",
       "      <td>-0.0076</td>\n",
       "    </tr>\n",
       "    <tr>\n",
       "      <th>60</th>\n",
       "      <td>0.0009</td>\n",
       "      <td>-0.0089</td>\n",
       "    </tr>\n",
       "    <tr>\n",
       "      <th>61</th>\n",
       "      <td>0.0000</td>\n",
       "      <td>-0.0182</td>\n",
       "    </tr>\n",
       "    <tr>\n",
       "      <th>69</th>\n",
       "      <td>0.0005</td>\n",
       "      <td>-0.0330</td>\n",
       "    </tr>\n",
       "    <tr>\n",
       "      <th>71</th>\n",
       "      <td>0.0018</td>\n",
       "      <td>-0.0192</td>\n",
       "    </tr>\n",
       "    <tr>\n",
       "      <th>72</th>\n",
       "      <td>-0.0003</td>\n",
       "      <td>0.0436</td>\n",
       "    </tr>\n",
       "    <tr>\n",
       "      <th>73</th>\n",
       "      <td>0.0018</td>\n",
       "      <td>-0.0414</td>\n",
       "    </tr>\n",
       "    <tr>\n",
       "      <th>74</th>\n",
       "      <td>0.0009</td>\n",
       "      <td>-0.0050</td>\n",
       "    </tr>\n",
       "    <tr>\n",
       "      <th>76</th>\n",
       "      <td>0.0009</td>\n",
       "      <td>-0.0085</td>\n",
       "    </tr>\n",
       "    <tr>\n",
       "      <th>77</th>\n",
       "      <td>0.0011</td>\n",
       "      <td>-0.0208</td>\n",
       "    </tr>\n",
       "    <tr>\n",
       "      <th>82</th>\n",
       "      <td>0.0017</td>\n",
       "      <td>-0.0265</td>\n",
       "    </tr>\n",
       "    <tr>\n",
       "      <th>83</th>\n",
       "      <td>0.0007</td>\n",
       "      <td>-0.0324</td>\n",
       "    </tr>\n",
       "    <tr>\n",
       "      <th>84</th>\n",
       "      <td>0.0003</td>\n",
       "      <td>-0.0404</td>\n",
       "    </tr>\n",
       "    <tr>\n",
       "      <th>85</th>\n",
       "      <td>0.0004</td>\n",
       "      <td>-0.0308</td>\n",
       "    </tr>\n",
       "    <tr>\n",
       "      <th>86</th>\n",
       "      <td>0.0008</td>\n",
       "      <td>-0.0341</td>\n",
       "    </tr>\n",
       "    <tr>\n",
       "      <th>89</th>\n",
       "      <td>0.0002</td>\n",
       "      <td>-0.0262</td>\n",
       "    </tr>\n",
       "    <tr>\n",
       "      <th>90</th>\n",
       "      <td>0.0013</td>\n",
       "      <td>-0.0009</td>\n",
       "    </tr>\n",
       "    <tr>\n",
       "      <th>91</th>\n",
       "      <td>0.0002</td>\n",
       "      <td>-0.0248</td>\n",
       "    </tr>\n",
       "    <tr>\n",
       "      <th>93</th>\n",
       "      <td>0.0005</td>\n",
       "      <td>-0.0390</td>\n",
       "    </tr>\n",
       "    <tr>\n",
       "      <th>94</th>\n",
       "      <td>0.0000</td>\n",
       "      <td>-0.0313</td>\n",
       "    </tr>\n",
       "    <tr>\n",
       "      <th>96</th>\n",
       "      <td>0.0010</td>\n",
       "      <td>-0.0331</td>\n",
       "    </tr>\n",
       "    <tr>\n",
       "      <th>98</th>\n",
       "      <td>0.0003</td>\n",
       "      <td>-0.0041</td>\n",
       "    </tr>\n",
       "  </tbody>\n",
       "</table>\n",
       "</div>"
      ],
      "text/plain": [
       "    Updating  Retraining\n",
       "1     0.0015     -0.0094\n",
       "4     0.0009     -0.0305\n",
       "5     0.0016     -0.0082\n",
       "6     0.0007     -0.0221\n",
       "9     0.0007     -0.0219\n",
       "10    0.0004     -0.0362\n",
       "11    0.0017     -0.0167\n",
       "13    0.0012     -0.0083\n",
       "15    0.0013     -0.0258\n",
       "18    0.0010     -0.0077\n",
       "20    0.0015     -0.0312\n",
       "22    0.0004     -0.0040\n",
       "23    0.0007     -0.0157\n",
       "24   -0.0002      0.0223\n",
       "26    0.0002     -0.0329\n",
       "27    0.0017     -0.0031\n",
       "28    0.0005     -0.0298\n",
       "30    0.0011     -0.0313\n",
       "31    0.0006     -0.0467\n",
       "33    0.0009     -0.0115\n",
       "35    0.0008     -0.0307\n",
       "36    0.0000      0.0033\n",
       "39    0.0010     -0.0049\n",
       "42   -0.0001      0.0010\n",
       "43    0.0006     -0.0304\n",
       "44    0.0003     -0.0228\n",
       "47    0.0015     -0.0156\n",
       "48    0.0001     -0.0261\n",
       "49    0.0008     -0.0211\n",
       "50    0.0001     -0.0360\n",
       "52    0.0008     -0.0347\n",
       "54    0.0006     -0.0409\n",
       "56    0.0000     -0.0261\n",
       "57   -0.0003      0.0051\n",
       "58    0.0010     -0.0382\n",
       "59    0.0012     -0.0076\n",
       "60    0.0009     -0.0089\n",
       "61    0.0000     -0.0182\n",
       "69    0.0005     -0.0330\n",
       "71    0.0018     -0.0192\n",
       "72   -0.0003      0.0436\n",
       "73    0.0018     -0.0414\n",
       "74    0.0009     -0.0050\n",
       "76    0.0009     -0.0085\n",
       "77    0.0011     -0.0208\n",
       "82    0.0017     -0.0265\n",
       "83    0.0007     -0.0324\n",
       "84    0.0003     -0.0404\n",
       "85    0.0004     -0.0308\n",
       "86    0.0008     -0.0341\n",
       "89    0.0002     -0.0262\n",
       "90    0.0013     -0.0009\n",
       "91    0.0002     -0.0248\n",
       "93    0.0005     -0.0390\n",
       "94    0.0000     -0.0313\n",
       "96    0.0010     -0.0331\n",
       "98    0.0003     -0.0041"
      ]
     },
     "execution_count": 179,
     "metadata": {},
     "output_type": "execute_result"
    }
   ],
   "source": [
    "# Check whether the retrained improvement and update improvement have the same tendency\n",
    "acc_improvment_retraining = np.array(retrained_accuracies) - np.array(base_accuracies)\n",
    "acc_improvment_updating = np.array(updated_accuracies) - np.array(base_accuracies)\n",
    "mask = np.sign(acc_improvment_retraining) != np.sign(acc_improvment_updating)\n",
    "print('Improvment accuracy:', np.mean(~mask))\n",
    "\n",
    "df = pd.DataFrame(data=[acc_improvment_updating, acc_improvment_retraining]).T\n",
    "df.columns = ['Updating', 'Retraining']\n",
    "df[mask]"
   ]
  },
  {
   "cell_type": "markdown",
   "metadata": {},
   "source": [
    "## Food101"
   ]
  },
  {
   "cell_type": "code",
   "execution_count": 49,
   "metadata": {},
   "outputs": [
    {
     "name": "stdout",
     "output_type": "stream",
     "text": [
      "Found 600 experiments\n"
     ]
    }
   ],
   "source": [
    "import mlflow\n",
    "import numpy as np\n",
    "import pylab as plt\n",
    "import pandas as pd\n",
    "\n",
    "client = mlflow.tracking.MlflowClient(tracking_uri='file:///home/dhuseljic/mlflow/ssal/updating_food101')\n",
    "experiment_id = '694207500068957774'\n",
    "\n",
    "runs = client.search_runs(experiment_ids=experiment_id)\n",
    "print('Found {} experiments'.format(len(runs)))"
   ]
  },
  {
   "cell_type": "code",
   "execution_count": 50,
   "metadata": {},
   "outputs": [
    {
     "name": "stdout",
     "output_type": "stream",
     "text": [
      "Found 100 experiments\n"
     ]
    }
   ],
   "source": [
    "query_list = [\n",
    "    \"parameter.model.name = 'laplace'\",\n",
    "    \"parameter.dino_model_name = 'dinov2_vitl14'\",\n",
    "    \"parameter.num_init_samples = '1000'\",\n",
    "    \"parameter.num_new_samples = '100'\",\n",
    "    \"parameter.model.num_epochs = '500'\",\n",
    "    \"parameter.update_lmb = '1'\",\n",
    "    \"parameter.update_gamma = '1'\",\n",
    "]\n",
    "query = ' and '.join(query_list)\n",
    "runs = client.search_runs(experiment_ids=experiment_id, filter_string=query)\n",
    "print('Found {} experiments'.format(len(runs)))"
   ]
  },
  {
   "cell_type": "code",
   "execution_count": 51,
   "metadata": {},
   "outputs": [
    {
     "name": "stdout",
     "output_type": "stream",
     "text": [
      "Improvment 94 / 100\n"
     ]
    }
   ],
   "source": [
    "base_accuracies = []\n",
    "updated_accuracies = []\n",
    "retrained_accuracies = []\n",
    "\n",
    "base_ACEs = []\n",
    "updated_ACEs = []\n",
    "retrained_ACEs = []\n",
    "\n",
    "base_AUPRs = []\n",
    "updated_AUPRs = []\n",
    "retrained_AUPRs = []\n",
    "\n",
    "num_improved = 0\n",
    "for run in runs:\n",
    "    if len(run.data.metrics) == 0: continue # failed run\n",
    "    base_accuracies.append(run.data.metrics['base_accuracy'])\n",
    "    updated_accuracies.append(run.data.metrics['updated_accuracy'])\n",
    "    retrained_accuracies.append(run.data.metrics['retrained_accuracy'])\n",
    "    \n",
    "    base_ACEs.append(run.data.metrics['base_ACE'])\n",
    "    updated_ACEs.append(run.data.metrics['updated_ACE'])\n",
    "    retrained_ACEs.append(run.data.metrics['retrained_ACE'])\n",
    "\n",
    "    base_AUPRs.append(run.data.metrics['base_AUPR'])\n",
    "    updated_AUPRs.append(run.data.metrics['updated_AUPR'])\n",
    "    retrained_AUPRs.append(run.data.metrics['retrained_AUPR'])\n",
    "\n",
    "    if updated_accuracies[-1] > base_accuracies[-1]:\n",
    "        num_improved += 1\n",
    "\n",
    "    # if np.isnan(updated_ACEs[-1]):\n",
    "    #    print(run.data.params['random_seed'], base_accuracies[-1], updated_accuracies[-1])\n",
    "print('Improvment {} / {}'.format(num_improved, len(runs)))"
   ]
  },
  {
   "cell_type": "code",
   "execution_count": 52,
   "metadata": {},
   "outputs": [
    {
     "name": "stdout",
     "output_type": "stream",
     "text": [
      "\\begin{tabular}{lrrr}\n",
      "\\toprule\n",
      " & base & updated & retrained \\\\\n",
      "\\midrule\n",
      "accuracy & 0.821 & 0.821 & 0.833 \\\\\n",
      "ACE & 0.037 & 0.037 & 0.039 \\\\\n",
      "AUPR & 1.000 & 1.000 & 1.000 \\\\\n",
      "\\bottomrule\n",
      "\\end{tabular}\n",
      "\n"
     ]
    }
   ],
   "source": [
    "results = {\n",
    "    'accuracy': [np.mean(base_accuracies), np.mean(updated_accuracies), np.mean(retrained_accuracies)],\n",
    "    'ACE': [np.mean(base_ACEs), np.mean(updated_ACEs), np.mean(retrained_ACEs)],\n",
    "    'AUPR': [np.mean(base_AUPRs), np.mean(updated_AUPRs), np.mean(retrained_AUPRs)],\n",
    "}\n",
    "df = pd.DataFrame(results).T\n",
    "\n",
    "df.columns = ['base', 'updated', 'retrained']\n",
    "\n",
    "print(df.to_latex(float_format=\"{:.3f}\".format))"
   ]
  },
  {
   "cell_type": "markdown",
   "metadata": {},
   "source": [
    "# Improvement consistency"
   ]
  },
  {
   "cell_type": "markdown",
   "metadata": {},
   "source": [
    "## Cifar-10"
   ]
  },
  {
   "cell_type": "code",
   "execution_count": 9,
   "metadata": {},
   "outputs": [
    {
     "name": "stdout",
     "output_type": "stream",
     "text": [
      "Found 1000 experiments\n"
     ]
    }
   ],
   "source": [
    "import mlflow\n",
    "import numpy as np\n",
    "import pylab as plt\n",
    "import pandas as pd\n",
    "\n",
    "client = mlflow.tracking.MlflowClient(tracking_uri='file:///home/dhuseljic/mlflow/ssal/updating_cifar10_tendency')\n",
    "experiment_id = '109195642810807415'\n",
    "runs = client.search_runs(experiment_ids=experiment_id)\n",
    "print('Found {} experiments'.format(len(runs)))"
   ]
  },
  {
   "cell_type": "code",
   "execution_count": 10,
   "metadata": {},
   "outputs": [
    {
     "name": "stdout",
     "output_type": "stream",
     "text": [
      "Found 1000 experiments\n"
     ]
    }
   ],
   "source": [
    "query_list = [\n",
    "    \"parameter.dataset_name = 'cifar10'\",\n",
    "    \"parameter.model.name = 'sngp'\",\n",
    "    \"parameter.dino_model_name = 'dinov2_vitl14'\",\n",
    "    \"parameter.num_init_samples = '100'\",\n",
    "    # \"parameter.num_new_samples = '10'\",\n",
    "    \"parameter.model.num_epochs = '500'\",\n",
    "    \"parameter.update_lmb = '1'\",\n",
    "    \"parameter.update_gamma = '1'\",\n",
    "]\n",
    "query = ' and '.join(query_list)\n",
    "runs = client.search_runs(experiment_ids=experiment_id, filter_string=query, max_results=2000)\n",
    "print('Found {} experiments'.format(len(runs)))"
   ]
  },
  {
   "cell_type": "code",
   "execution_count": 11,
   "metadata": {},
   "outputs": [
    {
     "data": {
      "image/png": "[encoded data removed]",
      "text/plain": [
       "<Figure size 640x480 with 1 Axes>"
      ]
     },
     "metadata": {},
     "output_type": "display_data"
    }
   ],
   "source": [
    "all_num_init_samples = np.unique([int(run.data.params['num_init_samples']) for run in runs])\n",
    "base_accuracies = {k: [] for k in all_num_init_samples}\n",
    "updated_accuracies = {k: [] for k in all_num_init_samples}\n",
    "retrained_accuracies = {k: [] for k in all_num_init_samples} \n",
    "# for num_init_samples in num_init_samples_params:\n",
    "\n",
    "res = []\n",
    "for run in runs:\n",
    "    num_init_samples = int(run.data.params['num_init_samples'])\n",
    "    base_accuracies[num_init_samples].append(run.data.metrics['base_accuracy'])\n",
    "    updated_accuracies[num_init_samples].append(run.data.metrics['updated_accuracy'])\n",
    "    retrained_accuracies[num_init_samples].append(run.data.metrics['retrained_accuracy'])\n",
    "\n",
    "res = {}\n",
    "for num_init_samples in all_num_init_samples:\n",
    "    improvement_retrained = np.array(retrained_accuracies[num_init_samples]) - np.array(base_accuracies[num_init_samples])\n",
    "    improvement_updated = np.array(updated_accuracies[num_init_samples]) - np.array(base_accuracies[num_init_samples])\n",
    "    res[num_init_samples] = np.mean(np.sign(improvement_retrained) == np.sign(improvement_updated))\n",
    "\n",
    "plt.title('Buying 10 samples every time')\n",
    "plt.plot(res.keys(), res.values(), '-o')\n",
    "plt.xlabel('Number of init samples')\n",
    "plt.ylabel('Consistency in Performance Improvement')\n",
    "plt.show()"
   ]
  },
  {
   "cell_type": "code",
   "execution_count": 82,
   "metadata": {},
   "outputs": [
    {
     "name": "stdout",
     "output_type": "stream",
     "text": [
      "Found 1000 experiments\n"
     ]
    }
   ],
   "source": [
    "query_list = [\n",
    "    \"parameter.dataset_name = 'cifar10'\",\n",
    "    \"parameter.model.name = 'laplace'\",\n",
    "    \"parameter.dino_model_name = 'dinov2_vitl14'\",\n",
    "    \"parameter.num_init_samples = '100'\",\n",
    "    # \"parameter.num_new_samples = '10'\",\n",
    "    \"parameter.model.num_epochs = '500'\",\n",
    "    \"parameter.update_lmb = '10'\",\n",
    "    \"parameter.update_gamma = '1'\",\n",
    "]\n",
    "query = ' and '.join(query_list)\n",
    "runs = client.search_runs(experiment_ids=experiment_id, filter_string=query, max_results=2000)\n",
    "print('Found {} experiments'.format(len(runs)))"
   ]
  },
  {
   "cell_type": "code",
   "execution_count": 83,
   "metadata": {},
   "outputs": [
    {
     "data": {
      "image/png": "[encoded data removed]",
      "text/plain": [
       "<Figure size 640x480 with 1 Axes>"
      ]
     },
     "metadata": {},
     "output_type": "display_data"
    }
   ],
   "source": [
    "all_num_new_samples = np.unique([int(run.data.params['num_new_samples']) for run in runs])\n",
    "base_accuracies = {k: [] for k in all_num_new_samples}\n",
    "updated_accuracies = {k: [] for k in all_num_new_samples}\n",
    "retrained_accuracies = {k: [] for k in all_num_new_samples} \n",
    "# for num_new_samples in num_new_samples_params:\n",
    "\n",
    "res = []\n",
    "for run in runs:\n",
    "    num_new_samples = int(run.data.params['num_new_samples'])\n",
    "    base_accuracies[num_new_samples].append(run.data.metrics['base_accuracy'])\n",
    "    updated_accuracies[num_new_samples].append(run.data.metrics['updated_accuracy'])\n",
    "    retrained_accuracies[num_new_samples].append(run.data.metrics['retrained_accuracy'])\n",
    "\n",
    "res = {}\n",
    "for num_new_samples in all_num_new_samples:\n",
    "    improvement_retrained = np.array(retrained_accuracies[num_new_samples]) - np.array(base_accuracies[num_new_samples])\n",
    "    improvement_updated = np.array(updated_accuracies[num_new_samples]) - np.array(base_accuracies[num_new_samples])\n",
    "    res[num_new_samples] = np.mean(np.sign(improvement_retrained) == np.sign(improvement_updated))\n",
    "\n",
    "\n",
    "plt.title('Starting with 100 samples')\n",
    "plt.plot(res.keys(), res.values(), '-o')\n",
    "plt.xlabel('Number of new samples')\n",
    "plt.ylabel('Consistency in Performance Improvement')\n",
    "plt.show()"
   ]
  },
  {
   "cell_type": "code",
   "execution_count": 84,
   "metadata": {},
   "outputs": [
    {
     "name": "stdout",
     "output_type": "stream",
     "text": [
      "\\begin{tabular}{lrrrrrrrrrr}\n",
      "\\toprule\n",
      " & 10 & 20 & 30 & 40 & 50 & 60 & 70 & 80 & 90 & 100 \\\\\n",
      "\\midrule\n",
      "base & 0.936764 & 0.936764 & 0.936764 & 0.936764 & 0.936764 & 0.936764 & 0.936764 & 0.936764 & 0.936764 & 0.936764 \\\\\n",
      "Δ updated & 0.000684 & 0.001272 & 0.002194 & 0.002944 & 0.003634 & 0.004103 & 0.004603 & 0.005053 & 0.005481 & 0.005868 \\\\\n",
      "Δ retrained & 0.003300 & 0.006131 & 0.010179 & 0.012619 & 0.014647 & 0.016552 & 0.017994 & 0.018912 & 0.020039 & 0.021280 \\\\\n",
      "\\bottomrule\n",
      "\\end{tabular}\n",
      "\n"
     ]
    }
   ],
   "source": [
    "res = {}\n",
    "for num_new_samples in all_num_new_samples:\n",
    "    base_acc = np.mean(base_accuracies[num_new_samples])\n",
    "    avg_improvement_retrained =  np.mean(np.array(retrained_accuracies[num_new_samples]) - np.array(base_accuracies[num_new_samples]))\n",
    "    avg_improvement_updated =  np.mean(np.array(updated_accuracies[num_new_samples]) - np.array(base_accuracies[num_new_samples]))\n",
    "    res[num_new_samples] = (base_acc, avg_improvement_updated, avg_improvement_retrained)\n",
    "df = pd.DataFrame(res)\n",
    "df.index = ['base', 'Δ updated', 'Δ retrained']\n",
    "\n",
    "print(df.to_latex())"
   ]
  },
  {
   "cell_type": "markdown",
   "metadata": {},
   "source": [
    "# Hyperparameters\n",
    "Check if hyperparameters $\\lambda$ and $\\gamma$ help with updating."
   ]
  },
  {
   "cell_type": "markdown",
   "metadata": {},
   "source": [
    "## CIFAR-10"
   ]
  },
  {
   "cell_type": "code",
   "execution_count": 9,
   "metadata": {},
   "outputs": [
    {
     "name": "stdout",
     "output_type": "stream",
     "text": [
      "Found 1000 experiments\n"
     ]
    }
   ],
   "source": [
    "import mlflow\n",
    "import numpy as np\n",
    "import pylab as plt\n",
    "import pandas as pd\n",
    "\n",
    "client = mlflow.tracking.MlflowClient(tracking_uri='file:///home/dhuseljic/mlflow/ssal/updating_cifar10_lmb')\n",
    "experiment_id = '167347880139480338'\n",
    "runs = client.search_runs(experiment_ids=experiment_id)\n",
    "print('Found {} experiments'.format(len(runs)))"
   ]
  },
  {
   "cell_type": "code",
   "execution_count": 10,
   "metadata": {},
   "outputs": [
    {
     "name": "stdout",
     "output_type": "stream",
     "text": [
      "Found 500 experiments\n"
     ]
    }
   ],
   "source": [
    "query_list = [\n",
    "    \"parameter.dataset_name = 'cifar10'\",\n",
    "    \"parameter.model.name = 'sngp'\",\n",
    "    \"parameter.dino_model_name = 'dinov2_vitl14'\",\n",
    "    \"parameter.num_init_samples = '10'\",\n",
    "    \"parameter.num_new_samples = '10'\",\n",
    "    \"parameter.model.num_epochs = '500'\",\n",
    "    # \"parameter.update_lmb = '1'\",\n",
    "    \"parameter.update_gamma = '1'\",\n",
    "]\n",
    "query = ' and '.join(query_list)\n",
    "runs = client.search_runs(experiment_ids=experiment_id, filter_string=query, max_results=2000)\n",
    "print('Found {} experiments'.format(len(runs)))"
   ]
  },
  {
   "cell_type": "code",
   "execution_count": 153,
   "metadata": {},
   "outputs": [],
   "source": [
    "update_lmbs = np.unique([int(run.data.params['update_lmb']) for run in runs])\n",
    "\n",
    "base_accuracies = {lmb: [] for lmb in update_lmbs}\n",
    "updated_accuracies = {lmb: [] for lmb in update_lmbs}\n",
    "updating_times = {lmb: [] for lmb in update_lmbs} \n",
    "\n",
    "retrained_accuracies = {lmb: [] for lmb in update_lmbs} \n",
    "retraining_times = {lmb: [] for lmb in update_lmbs} \n",
    "\n",
    "for run in runs:\n",
    "    num_new_samples = int(run.data.params['update_lmb'])\n",
    "    base_accuracies[num_new_samples].append(run.data.metrics['base_accuracy'])\n",
    "    updated_accuracies[num_new_samples].append(run.data.metrics['updated_accuracy'])\n",
    "    retrained_accuracies[num_new_samples].append(run.data.metrics['retrained_accuracy'])\n",
    "\n",
    "    updating_times[num_new_samples].append(run.data.metrics['updated_updating_time'])\n",
    "    retraining_times[num_new_samples].append(run.data.metrics['retrained_retraining_time'])"
   ]
  },
  {
   "cell_type": "code",
   "execution_count": 154,
   "metadata": {},
   "outputs": [
    {
     "name": "stdout",
     "output_type": "stream",
     "text": [
      "\\begin{tabular}{lrrrrr}\n",
      "\\toprule\n",
      " & base & update & retrain & $\\Delta$ Updates & $\\Delta$ Retrain \\\\\n",
      "\\midrule\n",
      "1 & 0.317 & 0.333 & 0.444 & 0.032 & 4.448 \\\\\n",
      "5 & 0.317 & 0.346 & 0.444 & 0.140 & 4.553 \\\\\n",
      "10 & 0.317 & 0.351 & 0.444 & 0.271 & 4.412 \\\\\n",
      "50 & 0.317 & 0.360 & 0.444 & 1.356 & 4.562 \\\\\n",
      "100 & 0.317 & 0.363 & 0.444 & 2.554 & 4.638 \\\\\n",
      "\\bottomrule\n",
      "\\end{tabular}\n",
      "\n"
     ]
    }
   ],
   "source": [
    "res = []\n",
    "for key in base_accuracies:\n",
    "    res.append([\n",
    "        np.mean(base_accuracies[key]),\n",
    "        np.mean(updated_accuracies[key]),\n",
    "        np.mean(retrained_accuracies[key]),\n",
    "        np.mean(updating_times[key]),\n",
    "        np.mean(retraining_times[key]),\n",
    "        ])\n",
    "df = pd.DataFrame(res)\n",
    "df.index = update_lmbs.tolist()\n",
    "df.columns = ['base', 'update', 'retrain', '$\\Delta$ Updates', '$\\Delta$ Retrain']\n",
    "print(df.to_latex(float_format=\"{:.3f}\".format))"
   ]
  },
  {
   "cell_type": "code",
   "execution_count": 13,
   "metadata": {},
   "outputs": [
    {
     "name": "stdout",
     "output_type": "stream",
     "text": [
      "Found 1000 experiments\n"
     ]
    }
   ],
   "source": [
    "import mlflow\n",
    "import numpy as np\n",
    "import pylab as plt\n",
    "import pandas as pd\n",
    "\n",
    "client = mlflow.tracking.MlflowClient(tracking_uri='file:///home/dhuseljic/mlflow/ssal/updating_cifar10_gamma')\n",
    "experiment_id = '313000696641251628'\n",
    "runs = client.search_runs(experiment_ids=experiment_id)\n",
    "print('Found {} experiments'.format(len(runs)))"
   ]
  },
  {
   "cell_type": "code",
   "execution_count": 21,
   "metadata": {},
   "outputs": [
    {
     "name": "stdout",
     "output_type": "stream",
     "text": [
      "Found 500 experiments\n"
     ]
    }
   ],
   "source": [
    "query_list = [\n",
    "    \"parameter.dataset_name = 'cifar10'\",\n",
    "    \"parameter.model.name = 'laplace'\",\n",
    "    \"parameter.dino_model_name = 'dinov2_vitl14'\",\n",
    "    \"parameter.num_init_samples = '10'\",\n",
    "    \"parameter.num_new_samples = '10'\",\n",
    "    \"parameter.model.num_epochs = '500'\",\n",
    "    \"parameter.update_lmb = '1'\",\n",
    "    # \"parameter.update_gamma = '1'\",\n",
    "]\n",
    "query = ' and '.join(query_list)\n",
    "runs = client.search_runs(experiment_ids=experiment_id, filter_string=query, max_results=2000)\n",
    "print('Found {} experiments'.format(len(runs)))"
   ]
  },
  {
   "cell_type": "code",
   "execution_count": 22,
   "metadata": {},
   "outputs": [],
   "source": [
    "update_gammas = np.unique([int(run.data.params['update_gamma']) for run in runs])\n",
    "\n",
    "base_accuracies = {gamma: [] for gamma in update_gammas}\n",
    "updated_accuracies = {gamma: [] for gamma in update_gammas}\n",
    "updating_times = {gamma: [] for gamma in update_gammas} \n",
    "\n",
    "retrained_accuracies = {gamma: [] for gamma in update_gammas} \n",
    "retraining_times = {gamma: [] for gamma in update_gammas} \n",
    "\n",
    "for run in runs:\n",
    "    num_new_samples = int(run.data.params['update_gamma'])\n",
    "    base_accuracies[num_new_samples].append(run.data.metrics['base_accuracy'])\n",
    "    updated_accuracies[num_new_samples].append(run.data.metrics['updated_accuracy'])\n",
    "    retrained_accuracies[num_new_samples].append(run.data.metrics['retrained_accuracy'])\n",
    "\n",
    "    updating_times[num_new_samples].append(run.data.metrics['updated_updating_time'])\n",
    "    retraining_times[num_new_samples].append(run.data.metrics['retrained_retraining_time'])\n",
    "\n",
    "res = []\n",
    "for key in base_accuracies:\n",
    "    res.append([\n",
    "        np.mean(base_accuracies[key]),\n",
    "        np.mean(updated_accuracies[key]),\n",
    "        np.mean(retrained_accuracies[key]),\n",
    "        np.mean(updating_times[key]),\n",
    "        np.mean(retraining_times[key]),\n",
    "        ])\n",
    "df = pd.DataFrame(res)\n",
    "df.index = update_gammas.tolist()\n",
    "df.columns = ['base', 'update', 'retrain', '$\\Delta$ Updates', '$\\Delta$ Retrain']\n",
    "print(df.to_latex(float_format=\"{:.3f}\".format))"
   ]
  },
  {
   "cell_type": "markdown",
   "metadata": {},
   "source": [
    "## CIFAR-100"
   ]
  },
  {
   "cell_type": "code",
   "execution_count": 2,
   "metadata": {},
   "outputs": [
    {
     "name": "stdout",
     "output_type": "stream",
     "text": [
      "Found 1000 experiments\n"
     ]
    }
   ],
   "source": [
    "import mlflow\n",
    "import numpy as np\n",
    "import pylab as plt\n",
    "import pandas as pd\n",
    "\n",
    "client = mlflow.tracking.MlflowClient(tracking_uri='file:///home/dhuseljic/mlflow/ssal/updating_cifar100_lmb')\n",
    "experiment_id = '225374827033997610'\n",
    "runs = client.search_runs(experiment_ids=experiment_id)\n",
    "print('Found {} experiments'.format(len(runs)))"
   ]
  },
  {
   "cell_type": "code",
   "execution_count": 7,
   "metadata": {},
   "outputs": [
    {
     "name": "stdout",
     "output_type": "stream",
     "text": [
      "Found 500 experiments\n"
     ]
    }
   ],
   "source": [
    "query_list = [\n",
    "    \"parameter.dataset_name = 'cifar100'\",\n",
    "    \"parameter.model.name = 'laplace'\",\n",
    "    \"parameter.dino_model_name = 'dinov2_vitl14'\",\n",
    "    \"parameter.num_init_samples = '100'\",\n",
    "    \"parameter.num_new_samples = '100'\",\n",
    "    \"parameter.model.num_epochs = '500'\",\n",
    "    # \"parameter.update_lmb = '1'\",\n",
    "    \"parameter.update_gamma = '1'\",\n",
    "]\n",
    "query = ' and '.join(query_list)\n",
    "runs = client.search_runs(experiment_ids=experiment_id, filter_string=query, max_results=2000)\n",
    "print('Found {} experiments'.format(len(runs)))"
   ]
  },
  {
   "cell_type": "code",
   "execution_count": 8,
   "metadata": {},
   "outputs": [
    {
     "name": "stdout",
     "output_type": "stream",
     "text": [
      "\\begin{tabular}{lrrrrr}\n",
      "\\toprule\n",
      " & base & update & retrain & $\\Delta$ Updates & $\\Delta$ Retrain \\\\\n",
      "\\midrule\n",
      "1 & 0.391 & 0.400 & 0.562 & 0.241 & 14.809 \\\\\n",
      "5 & 0.391 & 0.420 & 0.562 & 1.130 & 14.634 \\\\\n",
      "10 & 0.391 & 0.433 & 0.562 & 2.224 & 14.738 \\\\\n",
      "50 & 0.391 & 0.463 & 0.562 & 10.921 & 14.116 \\\\\n",
      "100 & 0.391 & 0.474 & 0.562 & 21.787 & 14.550 \\\\\n",
      "\\bottomrule\n",
      "\\end{tabular}\n",
      "\n"
     ]
    }
   ],
   "source": [
    "update_lmbs = np.unique([int(run.data.params['update_lmb']) for run in runs])\n",
    "\n",
    "base_accuracies = {lmb: [] for lmb in update_lmbs}\n",
    "updated_accuracies = {lmb: [] for lmb in update_lmbs}\n",
    "updating_times = {lmb: [] for lmb in update_lmbs} \n",
    "\n",
    "retrained_accuracies = {lmb: [] for lmb in update_lmbs} \n",
    "retraining_times = {lmb: [] for lmb in update_lmbs} \n",
    "\n",
    "for run in runs:\n",
    "    num_new_samples = int(run.data.params['update_lmb'])\n",
    "    base_accuracies[num_new_samples].append(run.data.metrics['base_accuracy'])\n",
    "    updated_accuracies[num_new_samples].append(run.data.metrics['updated_accuracy'])\n",
    "    retrained_accuracies[num_new_samples].append(run.data.metrics['retrained_accuracy'])\n",
    "\n",
    "    updating_times[num_new_samples].append(run.data.metrics['updated_updating_time'])\n",
    "    retraining_times[num_new_samples].append(run.data.metrics['retrained_retraining_time'])\n",
    "\n",
    "res = []\n",
    "for key in base_accuracies:\n",
    "    res.append([\n",
    "        np.mean(base_accuracies[key]),\n",
    "        np.mean(updated_accuracies[key]),\n",
    "        np.mean(retrained_accuracies[key]),\n",
    "        np.mean(updating_times[key]),\n",
    "        np.mean(retraining_times[key]),\n",
    "        ])\n",
    "df = pd.DataFrame(res)\n",
    "df.index = update_lmbs.tolist()\n",
    "df.columns = ['base', 'update', 'retrain', '$\\Delta$ Updates', '$\\Delta$ Retrain']\n",
    "print(df.to_latex(float_format=\"{:.3f}\".format))"
   ]
  },
  {
   "cell_type": "code",
   "execution_count": 25,
   "metadata": {},
   "outputs": [
    {
     "name": "stdout",
     "output_type": "stream",
     "text": [
      "Found 1000 experiments\n"
     ]
    }
   ],
   "source": [
    "import mlflow\n",
    "import numpy as np\n",
    "import pylab as plt\n",
    "import pandas as pd\n",
    "\n",
    "client = mlflow.tracking.MlflowClient(tracking_uri='file:///home/dhuseljic/mlflow/ssal/updating_cifar100_gamma')\n",
    "experiment_id = '914995689396407642'\n",
    "runs = client.search_runs(experiment_ids=experiment_id)\n",
    "print('Found {} experiments'.format(len(runs)))"
   ]
  },
  {
   "cell_type": "code",
   "execution_count": 30,
   "metadata": {},
   "outputs": [
    {
     "name": "stdout",
     "output_type": "stream",
     "text": [
      "Found 500 experiments\n"
     ]
    }
   ],
   "source": [
    "query_list = [\n",
    "    \"parameter.dataset_name = 'cifar100'\",\n",
    "    \"parameter.model.name = 'sngp'\",\n",
    "    \"parameter.dino_model_name = 'dinov2_vitl14'\",\n",
    "    \"parameter.num_init_samples = '100'\",\n",
    "    \"parameter.num_new_samples = '100'\",\n",
    "    \"parameter.model.num_epochs = '500'\",\n",
    "    \"parameter.update_lmb = '1'\",\n",
    "    # \"parameter.update_gamma = '1'\",\n",
    "]\n",
    "query = ' and '.join(query_list)\n",
    "runs = client.search_runs(experiment_ids=experiment_id, filter_string=query, max_results=2000)\n",
    "print('Found {} experiments'.format(len(runs)))"
   ]
  },
  {
   "cell_type": "code",
   "execution_count": 31,
   "metadata": {},
   "outputs": [
    {
     "name": "stdout",
     "output_type": "stream",
     "text": [
      "\\begin{tabular}{lrrrrr}\n",
      "\\toprule\n",
      " & base & update & retrain & $\\Delta$ Updates & $\\Delta$ Retrain \\\\\n",
      "\\midrule\n",
      "1 & 0.233 & 0.242 & 0.387 & 0.277 & 24.584 \\\\\n",
      "5 & 0.233 & 0.283 & 0.387 & 0.276 & 24.368 \\\\\n",
      "10 & 0.233 & 0.335 & 0.387 & 0.275 & 24.617 \\\\\n",
      "50 & 0.233 & 0.316 & 0.387 & 0.275 & 24.403 \\\\\n",
      "100 & 0.233 & 0.251 & 0.387 & 0.277 & 24.452 \\\\\n",
      "\\bottomrule\n",
      "\\end{tabular}\n",
      "\n"
     ]
    }
   ],
   "source": [
    "update_gammas = np.unique([int(run.data.params['update_gamma']) for run in runs])\n",
    "\n",
    "base_accuracies = {gamma: [] for gamma in update_gammas}\n",
    "updated_accuracies = {gamma: [] for gamma in update_gammas}\n",
    "updating_times = {gamma: [] for gamma in update_gammas} \n",
    "\n",
    "retrained_accuracies = {gamma: [] for gamma in update_gammas} \n",
    "retraining_times = {gamma: [] for gamma in update_gammas} \n",
    "\n",
    "for run in runs:\n",
    "    num_new_samples = int(run.data.params['update_gamma'])\n",
    "    base_accuracies[num_new_samples].append(run.data.metrics['base_accuracy'])\n",
    "    updated_accuracies[num_new_samples].append(run.data.metrics['updated_accuracy'])\n",
    "    retrained_accuracies[num_new_samples].append(run.data.metrics['retrained_accuracy'])\n",
    "\n",
    "    updating_times[num_new_samples].append(run.data.metrics['updated_updating_time'])\n",
    "    retraining_times[num_new_samples].append(run.data.metrics['retrained_retraining_time'])\n",
    "\n",
    "res = []\n",
    "for key in base_accuracies:\n",
    "    res.append([\n",
    "        np.mean(base_accuracies[key]),\n",
    "        np.mean(updated_accuracies[key]),\n",
    "        np.mean(retrained_accuracies[key]),\n",
    "        np.mean(updating_times[key]),\n",
    "        np.mean(retraining_times[key]),\n",
    "        ])\n",
    "df = pd.DataFrame(res)\n",
    "df.index = update_gammas.tolist()\n",
    "df.columns = ['base', 'update', 'retrain', '$\\Delta$ Updates', '$\\Delta$ Retrain']\n",
    "print(df.to_latex(float_format=\"{:.3f}\".format))"
   ]
  },
  {
   "cell_type": "markdown",
   "metadata": {},
   "source": [
    "## Food-101"
   ]
  },
  {
   "cell_type": "code",
   "execution_count": 32,
   "metadata": {},
   "outputs": [
    {
     "name": "stdout",
     "output_type": "stream",
     "text": [
      "Found 0 experiments\n"
     ]
    }
   ],
   "source": [
    "import mlflow\n",
    "import numpy as np\n",
    "import pylab as plt\n",
    "import pandas as pd\n",
    "\n",
    "client = mlflow.tracking.MlflowClient(tracking_uri='file:///home/dhuseljic/mlflow/ssal/updating_food101_lmb')\n",
    "experiment_id = ''\n",
    "runs = client.search_runs(experiment_ids=experiment_id)\n",
    "print('Found {} experiments'.format(len(runs)))"
   ]
  },
  {
   "cell_type": "code",
   "execution_count": 33,
   "metadata": {},
   "outputs": [
    {
     "name": "stdout",
     "output_type": "stream",
     "text": [
      "Found 0 experiments\n"
     ]
    }
   ],
   "source": [
    "query_list = [\n",
    "    \"parameter.dataset_name = 'food101'\",\n",
    "    \"parameter.model.name = 'sngp'\",\n",
    "    \"parameter.dino_model_name = 'dinov2_vitl14'\",\n",
    "    \"parameter.num_init_samples = '100'\",\n",
    "    \"parameter.num_new_samples = '100'\",\n",
    "    \"parameter.model.num_epochs = '500'\",\n",
    "    # \"parameter.update_lmb = '1'\",\n",
    "    \"parameter.update_gamma = '1'\",\n",
    "]\n",
    "query = ' and '.join(query_list)\n",
    "runs = client.search_runs(experiment_ids=experiment_id, filter_string=query, max_results=2000)\n",
    "print('Found {} experiments'.format(len(runs)))"
   ]
  },
  {
   "cell_type": "code",
   "execution_count": null,
   "metadata": {},
   "outputs": [
    {
     "name": "stdout",
     "output_type": "stream",
     "text": [
      "\\begin{tabular}{lrrrrr}\n",
      "\\toprule\n",
      " & base & update & retrain & $\\Delta$ Updates & $\\Delta$ Retrain \\\\\n",
      "\\midrule\n",
      "1 & 0.391 & 0.400 & 0.562 & 0.241 & 14.809 \\\\\n",
      "5 & 0.391 & 0.420 & 0.562 & 1.130 & 14.634 \\\\\n",
      "10 & 0.391 & 0.433 & 0.562 & 2.224 & 14.738 \\\\\n",
      "50 & 0.391 & 0.463 & 0.562 & 10.921 & 14.116 \\\\\n",
      "100 & 0.391 & 0.474 & 0.562 & 21.787 & 14.550 \\\\\n",
      "\\bottomrule\n",
      "\\end{tabular}\n",
      "\n"
     ]
    }
   ],
   "source": [
    "update_lmbs = np.unique([int(run.data.params['update_lmb']) for run in runs])\n",
    "\n",
    "base_accuracies = {lmb: [] for lmb in update_lmbs}\n",
    "updated_accuracies = {lmb: [] for lmb in update_lmbs}\n",
    "updating_times = {lmb: [] for lmb in update_lmbs} \n",
    "\n",
    "retrained_accuracies = {lmb: [] for lmb in update_lmbs} \n",
    "retraining_times = {lmb: [] for lmb in update_lmbs} \n",
    "\n",
    "for run in runs:\n",
    "    num_new_samples = int(run.data.params['update_lmb'])\n",
    "    base_accuracies[num_new_samples].append(run.data.metrics['base_accuracy'])\n",
    "    updated_accuracies[num_new_samples].append(run.data.metrics['updated_accuracy'])\n",
    "    retrained_accuracies[num_new_samples].append(run.data.metrics['retrained_accuracy'])\n",
    "\n",
    "    updating_times[num_new_samples].append(run.data.metrics['updated_updating_time'])\n",
    "    retraining_times[num_new_samples].append(run.data.metrics['retrained_retraining_time'])\n",
    "\n",
    "res = []\n",
    "for key in base_accuracies:\n",
    "    res.append([\n",
    "        np.mean(base_accuracies[key]),\n",
    "        np.mean(updated_accuracies[key]),\n",
    "        np.mean(retrained_accuracies[key]),\n",
    "        np.mean(updating_times[key]),\n",
    "        np.mean(retraining_times[key]),\n",
    "        ])\n",
    "df = pd.DataFrame(res)\n",
    "df.index = update_lmbs.tolist()\n",
    "df.columns = ['base', 'update', 'retrain', '$\\Delta$ Updates', '$\\Delta$ Retrain']\n",
    "print(df.to_latex(float_format=\"{:.3f}\".format))"
   ]
  },
  {
   "cell_type": "code",
   "execution_count": null,
   "metadata": {},
   "outputs": [
    {
     "name": "stdout",
     "output_type": "stream",
     "text": [
      "Found 1000 experiments\n"
     ]
    }
   ],
   "source": [
    "import mlflow\n",
    "import numpy as np\n",
    "import pylab as plt\n",
    "import pandas as pd\n",
    "\n",
    "client = mlflow.tracking.MlflowClient(tracking_uri='file:///home/dhuseljic/mlflow/ssal/updating_food101_gamma')\n",
    "experiment_id = ''\n",
    "runs = client.search_runs(experiment_ids=experiment_id)\n",
    "print('Found {} experiments'.format(len(runs)))"
   ]
  },
  {
   "cell_type": "code",
   "execution_count": null,
   "metadata": {},
   "outputs": [
    {
     "name": "stdout",
     "output_type": "stream",
     "text": [
      "Found 500 experiments\n"
     ]
    }
   ],
   "source": [
    "query_list = [\n",
    "    \"parameter.dataset_name = 'food101'\",\n",
    "    \"parameter.model.name = 'sngp'\",\n",
    "    \"parameter.dino_model_name = 'dinov2_vitl14'\",\n",
    "    \"parameter.num_init_samples = '100'\",\n",
    "    \"parameter.num_new_samples = '100'\",\n",
    "    \"parameter.model.num_epochs = '500'\",\n",
    "    \"parameter.update_lmb = '1'\",\n",
    "    # \"parameter.update_gamma = '1'\",\n",
    "]\n",
    "query = ' and '.join(query_list)\n",
    "runs = client.search_runs(experiment_ids=experiment_id, filter_string=query, max_results=2000)\n",
    "print('Found {} experiments'.format(len(runs)))"
   ]
  },
  {
   "cell_type": "code",
   "execution_count": null,
   "metadata": {},
   "outputs": [
    {
     "name": "stdout",
     "output_type": "stream",
     "text": [
      "\\begin{tabular}{lrrrrr}\n",
      "\\toprule\n",
      " & base & update & retrain & $\\Delta$ Updates & $\\Delta$ Retrain \\\\\n",
      "\\midrule\n",
      "1 & 0.233 & 0.242 & 0.387 & 0.277 & 24.584 \\\\\n",
      "5 & 0.233 & 0.283 & 0.387 & 0.276 & 24.368 \\\\\n",
      "10 & 0.233 & 0.335 & 0.387 & 0.275 & 24.617 \\\\\n",
      "50 & 0.233 & 0.316 & 0.387 & 0.275 & 24.403 \\\\\n",
      "100 & 0.233 & 0.251 & 0.387 & 0.277 & 24.452 \\\\\n",
      "\\bottomrule\n",
      "\\end{tabular}\n",
      "\n"
     ]
    }
   ],
   "source": [
    "update_gammas = np.unique([int(run.data.params['update_gamma']) for run in runs])\n",
    "\n",
    "base_accuracies = {gamma: [] for gamma in update_gammas}\n",
    "updated_accuracies = {gamma: [] for gamma in update_gammas}\n",
    "updating_times = {gamma: [] for gamma in update_gammas} \n",
    "\n",
    "retrained_accuracies = {gamma: [] for gamma in update_gammas} \n",
    "retraining_times = {gamma: [] for gamma in update_gammas} \n",
    "\n",
    "for run in runs:\n",
    "    num_new_samples = int(run.data.params['update_gamma'])\n",
    "    base_accuracies[num_new_samples].append(run.data.metrics['base_accuracy'])\n",
    "    updated_accuracies[num_new_samples].append(run.data.metrics['updated_accuracy'])\n",
    "    retrained_accuracies[num_new_samples].append(run.data.metrics['retrained_accuracy'])\n",
    "\n",
    "    updating_times[num_new_samples].append(run.data.metrics['updated_updating_time'])\n",
    "    retraining_times[num_new_samples].append(run.data.metrics['retrained_retraining_time'])\n",
    "\n",
    "res = []\n",
    "for key in base_accuracies:\n",
    "    res.append([\n",
    "        np.mean(base_accuracies[key]),\n",
    "        np.mean(updated_accuracies[key]),\n",
    "        np.mean(retrained_accuracies[key]),\n",
    "        np.mean(updating_times[key]),\n",
    "        np.mean(retraining_times[key]),\n",
    "        ])\n",
    "df = pd.DataFrame(res)\n",
    "df.index = update_gammas.tolist()\n",
    "df.columns = ['base', 'update', 'retrain', '$\\Delta$ Updates', '$\\Delta$ Retrain']\n",
    "print(df.to_latex(float_format=\"{:.3f}\".format))"
   ]
  }
 ],
 "metadata": {
  "kernelspec": {
   "display_name": "dal-toolbox",
   "language": "python",
   "name": "python3"
  },
  "language_info": {
   "codemirror_mode": {
    "name": "ipython",
    "version": 3
   },
   "file_extension": ".py",
   "mimetype": "text/x-python",
   "name": "python",
   "nbconvert_exporter": "python",
   "pygments_lexer": "ipython3",
   "version": "3.9.18"
  }
 },
 "nbformat": 4,
 "nbformat_minor": 2
}
