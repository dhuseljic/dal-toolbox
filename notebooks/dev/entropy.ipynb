{
 "cells": [
  {
   "cell_type": "code",
   "execution_count": 11,
   "metadata": {},
   "outputs": [],
   "source": [
    "import torch"
   ]
  },
  {
   "cell_type": "code",
   "execution_count": 12,
   "metadata": {},
   "outputs": [
    {
     "data": {
      "text/plain": [
       "tensor([   nan, 0.1900, 0.4003, 0.6050, 0.5738, 0.6299, 0.6839, 0.5597, 0.6922,\n",
       "        0.4918])"
      ]
     },
     "execution_count": 12,
     "metadata": {},
     "output_type": "execute_result"
    }
   ],
   "source": [
    "torch.manual_seed(42)\n",
    "logits = torch.randn(10, 2)\n",
    "logits[0, 0] = 100\n",
    "logits[0, 1] = -100\n",
    "probas = logits.softmax(-1)\n",
    "entropy = - torch.sum(probas * probas.log(), dim=-1)\n",
    "entropy"
   ]
  },
  {
   "cell_type": "code",
   "execution_count": 16,
   "metadata": {},
   "outputs": [
    {
     "data": {
      "text/plain": [
       "tensor([-0.0000, 0.1900, 0.4003, 0.6050, 0.5738, 0.6299, 0.6839, 0.5597, 0.6922,\n",
       "        0.4918])"
      ]
     },
     "execution_count": 16,
     "metadata": {},
     "output_type": "execute_result"
    }
   ],
   "source": [
    "from dal_toolbox.metrics.ood import entropy_from_logits\n",
    "\n",
    "# numerical stable\n",
    "log_probas = logits.log_softmax(dim=-1)\n",
    "entropy = - torch.sum(log_probas.exp() * log_probas, dim=-1)\n",
    "entropy"
   ]
  },
  {
   "cell_type": "code",
   "execution_count": 17,
   "metadata": {},
   "outputs": [
    {
     "data": {
      "text/plain": [
       "(tensor([-0.0000, 0.1900, 0.4003, 0.6050, 0.5738, 0.6299, 0.6839, 0.5597, 0.6922,\n",
       "         0.4918]),\n",
       " tensor([2.0197e-06, 1.9002e-01, 4.0035e-01, 6.0501e-01, 5.7376e-01, 6.2995e-01,\n",
       "         6.8389e-01, 5.5969e-01, 6.9222e-01, 4.9180e-01]),\n",
       " tensor([-0.0000, 0.1900, 0.4003, 0.6050, 0.5738, 0.6299, 0.6839, 0.5597, 0.6922,\n",
       "         0.4918]))"
      ]
     },
     "execution_count": 17,
     "metadata": {},
     "output_type": "execute_result"
    }
   ],
   "source": [
    "from dal_toolbox.metrics.ood import entropy_fn, entropy_from_logits\n",
    "entropy, entropy_fn(probas), entropy_from_logits(logits)"
   ]
  },
  {
   "cell_type": "code",
   "execution_count": 18,
   "metadata": {},
   "outputs": [],
   "source": [
    "torch.manual_seed(42)\n",
    "logits = torch.randn(10, 2)\n",
    "logits[0, 0] = 100\n",
    "logits[0, 1] = -100\n",
    "\n",
    "\n",
    "# log(p)\n",
    "# log(1/M sum_m exp log p_m)\n",
    "# log(sum_m exp log p_m) - log M"
   ]
  },
  {
   "cell_type": "code",
   "execution_count": 60,
   "metadata": {},
   "outputs": [
    {
     "name": "stdout",
     "output_type": "stream",
     "text": [
      "tensor([[0.7311, 0.2689],\n",
      "        [0.4827, 0.5173],\n",
      "        [0.5394, 0.4606]])\n",
      "Entropy: tensor([0.5822, 0.6925, 0.6900])\n",
      "tensor([[0.7311, 0.2689],\n",
      "        [0.4827, 0.5173],\n",
      "        [0.5394, 0.4606]])\n",
      "Entropy tensor([0.5822, 0.6925, 0.6900])\n"
     ]
    }
   ],
   "source": [
    "import math\n",
    "logits = torch.randn(3, 2, 2)\n",
    "ensemble_size = logits.size(1)\n",
    "logits[0, 0, 0] = 1\n",
    "logits[0, 0, 1] = 0\n",
    "logits[0, 1, 0] = 1\n",
    "logits[0, 1, 1] = 0\n",
    "\n",
    "log_probas = torch.logsumexp(logits.log_softmax(-1), dim=1) - math.log(ensemble_size)\n",
    "probas = log_probas.exp()\n",
    "print(probas)\n",
    "print('Entropy:', - torch.sum(probas * log_probas, dim=-1))\n",
    "\n",
    "probas = logits.softmax(-1).mean(1)\n",
    "print(probas)\n",
    "print('Entropy', - torch.sum(probas * probas.log(), dim=-1))\n"
   ]
  },
  {
   "cell_type": "code",
   "execution_count": null,
   "metadata": {},
   "outputs": [],
   "source": []
  }
 ],
 "metadata": {
  "kernelspec": {
   "display_name": "uncertainty_evaluation",
   "language": "python",
   "name": "python3"
  },
  "language_info": {
   "codemirror_mode": {
    "name": "ipython",
    "version": 3
   },
   "file_extension": ".py",
   "mimetype": "text/x-python",
   "name": "python",
   "nbconvert_exporter": "python",
   "pygments_lexer": "ipython3",
   "version": "3.9.13"
  },
  "orig_nbformat": 4
 },
 "nbformat": 4,
 "nbformat_minor": 2
}
