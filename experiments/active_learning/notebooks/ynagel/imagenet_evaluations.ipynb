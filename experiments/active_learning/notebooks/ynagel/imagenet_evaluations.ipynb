{
 "cells": [
  {
   "cell_type": "code",
   "execution_count": 2,
   "outputs": [],
   "source": [
    "import json\n",
    "import os\n",
    "from pathlib import Path\n",
    "\n",
    "import numpy as np\n",
    "import torch\n",
    "from omegaconf import OmegaConf\n",
    "\n",
    "base_results_path = \"D:\\\\Dokumente\\\\Git\\\\dal-toolbox\\\\experiments\\\\active_learning\\\\results\""
   ],
   "metadata": {
    "collapsed": false,
    "ExecuteTime": {
     "end_time": "2023-11-20T13:42:38.167835900Z",
     "start_time": "2023-11-20T13:42:36.219746400Z"
    }
   }
  },
  {
   "cell_type": "code",
   "execution_count": 3,
   "outputs": [],
   "source": [
    "def load_json(json_file):\n",
    "    with open(json_file, 'r') as f:\n",
    "        data = json.load(f)\n",
    "    return data\n",
    "\n",
    "\n",
    "def load_results(path):\n",
    "    path = Path(path)\n",
    "    assert path.is_dir(), 'Path does not exist.'\n",
    "    exp_json = path / 'results.json'\n",
    "    results = load_json(exp_json)\n",
    "    return results\n",
    "\n",
    "\n",
    "def load_args(path):\n",
    "    path = Path(path)\n",
    "    assert path.is_dir(), 'Path does not exist.'\n",
    "    exp_cfg = path / '.hydra' / 'config.yaml'\n",
    "    cfg = OmegaConf.load(exp_cfg)\n",
    "    return cfg\n",
    "\n",
    "\n",
    "def load_checkpoint(path, final=True):\n",
    "    path = Path(path)\n",
    "    assert path.is_dir(), 'Path does not exist.'\n",
    "    if final:\n",
    "        exp_pth = path / 'model_final.pth'\n",
    "    else:\n",
    "        exp_pth = path / 'checkpoint.pth'\n",
    "    checkpoint = torch.load(exp_pth)\n",
    "    return checkpoint\n",
    "\n",
    "\n",
    "def get_experiments(result_path, glob_pattern, train_results=False):\n",
    "    # Aggregate results over multiple glob pattern such as seeds\n",
    "    experiments = []\n",
    "    for exp_path in result_path.glob(glob_pattern):\n",
    "        try:\n",
    "            d = load_results(exp_path)\n",
    "            experiments.append(d)\n",
    "        except FileNotFoundError:\n",
    "            print(f\"{exp_path} does not exist!\")\n",
    "    assert len(experiments) != 0, f'No experiments found for {result_path}.'\n",
    "    return experiments\n",
    "\n",
    "\n",
    "def create_le_results_path(dataset, model, path=base_results_path):\n",
    "    return Path(os.path.join(path, dataset, \"linearevaluation\", model))\n",
    "\n",
    "def create_al_results_path(dataset, model, strategy, budget, path=base_results_path):\n",
    "    return Path(os.path.join(path, dataset, \"al_performance_test\", model, strategy+budget))"
   ],
   "metadata": {
    "collapsed": false,
    "ExecuteTime": {
     "end_time": "2023-11-20T13:42:38.182991Z",
     "start_time": "2023-11-20T13:42:38.173901900Z"
    }
   }
  },
  {
   "cell_type": "code",
   "execution_count": 4,
   "outputs": [
    {
     "name": "stdout",
     "output_type": "stream",
     "text": [
      "{'accuracy': 0.9903774857521057, 'nll': 0.03581102192401886, 'brier': 0.016905449330806732, 'ece': 0.010587764903903008, 'ace': 0.012491952627897263}\n"
     ]
    }
   ],
   "source": [
    "path = create_le_results_path(\"imagenet100\", \"vits14\")\n",
    "exp_results = get_experiments(path, 'seed*')\n",
    "print(exp_results[0][\"cycle0\"][\"train_stats\"])"
   ],
   "metadata": {
    "collapsed": false,
    "ExecuteTime": {
     "end_time": "2023-11-20T13:42:38.228002Z",
     "start_time": "2023-11-20T13:42:38.184985900Z"
    }
   }
  },
  {
   "cell_type": "code",
   "execution_count": 5,
   "outputs": [
    {
     "name": "stdout",
     "output_type": "stream",
     "text": [
      "Linear evaluation accuracy of model vits14 - Train: 0.9905 (± 0.0001) - Val: 0.9282 (± 0.0012) - Test: 0.9277 (± 0.0001)\n",
      "Linear evaluation accuracy of model vits16 - Train: 0.9910 (± 0.0002) - Val: 0.8910 (± 0.0018) - Test: 0.8811 (± 0.0012)\n"
     ]
    }
   ],
   "source": [
    "models = [\"vits14\", \"vits16\"]\n",
    "\n",
    "for model in models:\n",
    "    path = create_le_results_path(\"imagenet100\", model)\n",
    "    exp_results = get_experiments(path, 'seed*')\n",
    "\n",
    "    train_accuracies = []\n",
    "    val_accuracies = []\n",
    "    test_accuracies = []\n",
    "\n",
    "    for exp_result in exp_results:\n",
    "        train_accuracies.append(exp_result[\"cycle0\"][\"train_stats\"][\"accuracy\"])\n",
    "        val_accuracies.append(exp_result[\"cycle0\"][\"validation_stats\"][\"accuracy\"])\n",
    "        test_accuracies.append(exp_result[\"cycle0\"][\"test_stats\"][\"accuracy\"])\n",
    "\n",
    "    train_accuracy = np.mean(train_accuracies)\n",
    "    val_accuracy = np.mean(val_accuracies)\n",
    "    test_accuracy = np.mean(test_accuracies)\n",
    "\n",
    "    train_std = np.std(train_accuracies, ddof=1)\n",
    "    val_std = np.std(val_accuracies, ddof=1)\n",
    "    test_std = np.std(test_accuracies, ddof=1)\n",
    "    print(f\"Linear evaluation accuracy of model {model} - Train: {train_accuracy:.4f} (± {train_std:.4f}) - Val: {val_accuracy:.4f} (± {val_std:.4f}) - Test: {test_accuracy:.4f} (± {test_std:.4f})\")"
   ],
   "metadata": {
    "collapsed": false,
    "ExecuteTime": {
     "end_time": "2023-11-20T13:42:38.317634400Z",
     "start_time": "2023-11-20T13:42:38.231991300Z"
    }
   }
  },
  {
   "cell_type": "code",
   "execution_count": 12,
   "outputs": [
    {
     "name": "stdout",
     "output_type": "stream",
     "text": [
      "AL performance of model vits16 with scenario ('random', '100') - Train: 1.0000 (± 0.0000) - Val: 0.3510 (± 0.0347) - Test: 0.3376 (± 0.0356)\n",
      "AL performance of model vits14 with scenario ('random', '100') - Train: 1.0000 (± 0.0000) - Val: 0.4673 (± 0.0123) - Test: 0.4614 (± 0.0108)\n",
      "AL performance of model vits16 with scenario ('random', '1000') - Train: 1.0000 (± 0.0000) - Val: 0.7663 (± 0.0075) - Test: 0.7494 (± 0.0044)\n",
      "AL performance of model vits14 with scenario ('random', '1000') - Train: 1.0000 (± 0.0000) - Val: 0.8547 (± 0.0057) - Test: 0.8563 (± 0.0047)\n",
      "AL performance of model vits16 with scenario ('typiclust', '100') - Train: 1.0000 (± 0.0000) - Val: 0.5952 (± 0.0140) - Test: 0.5837 (± 0.0178)\n",
      "AL performance of model vits14 with scenario ('typiclust', '100') - Train: 1.0000 (± 0.0000) - Val: 0.7599 (± 0.0142) - Test: 0.7549 (± 0.0197)\n",
      "AL performance of model vits16 with scenario ('typiclust', '1000') - Train: 0.9998 (± 0.0004) - Val: 0.7715 (± 0.0046) - Test: 0.7604 (± 0.0047)\n",
      "AL performance of model vits14 with scenario ('typiclust', '1000') - Train: 0.9996 (± 0.0005) - Val: 0.8640 (± 0.0041) - Test: 0.8689 (± 0.0055)\n"
     ]
    }
   ],
   "source": [
    "models = [\"vits16\", \"vits14\"]\n",
    "scenarios = [(\"random\", \"100\"), (\"random\", \"1000\"), (\"typiclust\", \"100\"), (\"typiclust\", \"1000\")]\n",
    "for scenario in scenarios:\n",
    "    for model in models:\n",
    "        path = create_al_results_path(\"imagenet100\", model, scenario[0], scenario[1])\n",
    "        exp_results = get_experiments(path, 'seed*')\n",
    "\n",
    "        train_accuracies = []\n",
    "        val_accuracies = []\n",
    "        test_accuracies = []\n",
    "\n",
    "        for exp_result in exp_results:\n",
    "            train_accuracies.append(exp_result[\"cycle0\"][\"train_stats\"][\"accuracy\"])\n",
    "            val_accuracies.append(exp_result[\"cycle0\"][\"validation_stats\"][\"accuracy\"])\n",
    "            test_accuracies.append(exp_result[\"cycle0\"][\"test_stats\"][\"accuracy\"])\n",
    "\n",
    "        train_accuracy = np.mean(train_accuracies)\n",
    "        val_accuracy = np.mean(val_accuracies)\n",
    "        test_accuracy = np.mean(test_accuracies)\n",
    "\n",
    "        train_std = np.std(train_accuracies, ddof=1)\n",
    "        val_std = np.std(val_accuracies, ddof=1)\n",
    "        test_std = np.std(test_accuracies, ddof=1)\n",
    "        print(f\"AL performance of model {model} with scenario {scenario} - Train: {train_accuracy:.4f} (± {train_std:.4f}) - Val: {val_accuracy:.4f} (± {val_std:.4f}) - Test: {test_accuracy:.4f} (± {test_std:.4f})\")"
   ],
   "metadata": {
    "collapsed": false,
    "ExecuteTime": {
     "end_time": "2023-11-20T15:42:32.682183200Z",
     "start_time": "2023-11-20T15:42:32.248514Z"
    }
   }
  },
  {
   "cell_type": "code",
   "execution_count": 6,
   "outputs": [],
   "source": [],
   "metadata": {
    "collapsed": false,
    "ExecuteTime": {
     "end_time": "2023-11-20T13:42:38.453624600Z",
     "start_time": "2023-11-20T13:42:38.439662400Z"
    }
   }
  }
 ],
 "metadata": {
  "kernelspec": {
   "display_name": "Python 3",
   "language": "python",
   "name": "python3"
  },
  "language_info": {
   "codemirror_mode": {
    "name": "ipython",
    "version": 2
   },
   "file_extension": ".py",
   "mimetype": "text/x-python",
   "name": "python",
   "nbconvert_exporter": "python",
   "pygments_lexer": "ipython2",
   "version": "2.7.6"
  }
 },
 "nbformat": 4,
 "nbformat_minor": 0
}
